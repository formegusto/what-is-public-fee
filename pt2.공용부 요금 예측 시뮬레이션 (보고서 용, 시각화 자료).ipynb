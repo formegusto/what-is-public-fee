{
 "cells": [
  {
   "cell_type": "code",
   "execution_count": 1,
   "id": "b9eae274",
   "metadata": {},
   "outputs": [],
   "source": [
    "%load_ext autoreload\n",
    "%autoreload 2\n",
    "%reload_ext autoreload"
   ]
  },
  {
   "cell_type": "code",
   "execution_count": 2,
   "id": "0d667dea",
   "metadata": {},
   "outputs": [],
   "source": [
    "import pandas as pd\n",
    "import numpy as np\n",
    "%matplotlib inline\n",
    "import matplotlib\n",
    "import matplotlib.pyplot as plt\n",
    "import math as mt\n",
    "import datetime as dt\n",
    "import random as ran\n",
    "from functools import reduce\n",
    "import warnings\n",
    "import json\n",
    "\n",
    "# 한글출력\n",
    "matplotlib.rc('font', family='AppleGothic')\n",
    "plt.rcParams['axes.unicode_minus'] = False\n",
    "warnings.filterwarnings(action='ignore') \n",
    "\n",
    "from src import crs\n",
    "from src import get_col_list\n",
    "from IPython.display import clear_output, Markdown, display"
   ]
  },
  {
   "cell_type": "code",
   "execution_count": 3,
   "id": "5cbcf63d",
   "metadata": {},
   "outputs": [],
   "source": [
    "# 1. load_excel\n",
    "data_path = \"data/apt_all.xlsx\"\n",
    "xlsx = pd.read_excel(data_path, header=None,\n",
    "                     skiprows=2, engine=\"openpyxl\")"
   ]
  },
  {
   "cell_type": "code",
   "execution_count": 4,
   "id": "e71e8bb6",
   "metadata": {},
   "outputs": [
    {
     "data": {
      "text/html": [
       "<div>\n",
       "<style scoped>\n",
       "    .dataframe tbody tr th:only-of-type {\n",
       "        vertical-align: middle;\n",
       "    }\n",
       "\n",
       "    .dataframe tbody tr th {\n",
       "        vertical-align: top;\n",
       "    }\n",
       "\n",
       "    .dataframe thead th {\n",
       "        text-align: right;\n",
       "    }\n",
       "</style>\n",
       "<table border=\"1\" class=\"dataframe\">\n",
       "  <thead>\n",
       "    <tr style=\"text-align: right;\">\n",
       "      <th></th>\n",
       "      <th>아파트1-101-1002</th>\n",
       "      <th>아파트1-101-104</th>\n",
       "      <th>아파트1-101-1102</th>\n",
       "      <th>아파트1-101-1202</th>\n",
       "      <th>아파트1-101-1302</th>\n",
       "      <th>아파트1-101-1401</th>\n",
       "      <th>아파트1-101-1403</th>\n",
       "      <th>아파트1-101-1502</th>\n",
       "      <th>아파트1-101-1504</th>\n",
       "      <th>아파트1-101-1602</th>\n",
       "      <th>...</th>\n",
       "      <th>아파트4-104-101</th>\n",
       "      <th>아파트4-104-1301</th>\n",
       "      <th>아파트4-104-1501</th>\n",
       "      <th>아파트4-104-301</th>\n",
       "      <th>아파트4-105-102</th>\n",
       "      <th>아파트4-105-103</th>\n",
       "      <th>아파트4-105-1102</th>\n",
       "      <th>아파트4-105-1104</th>\n",
       "      <th>아파트4-105-601</th>\n",
       "      <th>아파트4-105-803</th>\n",
       "    </tr>\n",
       "    <tr>\n",
       "      <th>month</th>\n",
       "      <th></th>\n",
       "      <th></th>\n",
       "      <th></th>\n",
       "      <th></th>\n",
       "      <th></th>\n",
       "      <th></th>\n",
       "      <th></th>\n",
       "      <th></th>\n",
       "      <th></th>\n",
       "      <th></th>\n",
       "      <th></th>\n",
       "      <th></th>\n",
       "      <th></th>\n",
       "      <th></th>\n",
       "      <th></th>\n",
       "      <th></th>\n",
       "      <th></th>\n",
       "      <th></th>\n",
       "      <th></th>\n",
       "      <th></th>\n",
       "      <th></th>\n",
       "    </tr>\n",
       "  </thead>\n",
       "  <tbody>\n",
       "    <tr>\n",
       "      <th>1</th>\n",
       "      <td>253</td>\n",
       "      <td>689</td>\n",
       "      <td>183</td>\n",
       "      <td>239</td>\n",
       "      <td>455</td>\n",
       "      <td>343</td>\n",
       "      <td>380</td>\n",
       "      <td>219</td>\n",
       "      <td>389</td>\n",
       "      <td>350</td>\n",
       "      <td>...</td>\n",
       "      <td>335</td>\n",
       "      <td>363</td>\n",
       "      <td>181</td>\n",
       "      <td>216</td>\n",
       "      <td>270</td>\n",
       "      <td>518</td>\n",
       "      <td>230</td>\n",
       "      <td>279</td>\n",
       "      <td>161</td>\n",
       "      <td>156</td>\n",
       "    </tr>\n",
       "    <tr>\n",
       "      <th>2</th>\n",
       "      <td>251</td>\n",
       "      <td>481</td>\n",
       "      <td>177</td>\n",
       "      <td>218</td>\n",
       "      <td>397</td>\n",
       "      <td>297</td>\n",
       "      <td>339</td>\n",
       "      <td>197</td>\n",
       "      <td>348</td>\n",
       "      <td>288</td>\n",
       "      <td>...</td>\n",
       "      <td>309</td>\n",
       "      <td>339</td>\n",
       "      <td>146</td>\n",
       "      <td>184</td>\n",
       "      <td>267</td>\n",
       "      <td>344</td>\n",
       "      <td>208</td>\n",
       "      <td>236</td>\n",
       "      <td>167</td>\n",
       "      <td>150</td>\n",
       "    </tr>\n",
       "    <tr>\n",
       "      <th>3</th>\n",
       "      <td>255</td>\n",
       "      <td>424</td>\n",
       "      <td>203</td>\n",
       "      <td>222</td>\n",
       "      <td>378</td>\n",
       "      <td>303</td>\n",
       "      <td>349</td>\n",
       "      <td>202</td>\n",
       "      <td>357</td>\n",
       "      <td>368</td>\n",
       "      <td>...</td>\n",
       "      <td>313</td>\n",
       "      <td>372</td>\n",
       "      <td>152</td>\n",
       "      <td>236</td>\n",
       "      <td>268</td>\n",
       "      <td>417</td>\n",
       "      <td>212</td>\n",
       "      <td>272</td>\n",
       "      <td>166</td>\n",
       "      <td>155</td>\n",
       "    </tr>\n",
       "    <tr>\n",
       "      <th>4</th>\n",
       "      <td>252</td>\n",
       "      <td>355</td>\n",
       "      <td>180</td>\n",
       "      <td>230</td>\n",
       "      <td>368</td>\n",
       "      <td>278</td>\n",
       "      <td>298</td>\n",
       "      <td>188</td>\n",
       "      <td>346</td>\n",
       "      <td>365</td>\n",
       "      <td>...</td>\n",
       "      <td>266</td>\n",
       "      <td>346</td>\n",
       "      <td>149</td>\n",
       "      <td>210</td>\n",
       "      <td>268</td>\n",
       "      <td>421</td>\n",
       "      <td>208</td>\n",
       "      <td>243</td>\n",
       "      <td>156</td>\n",
       "      <td>148</td>\n",
       "    </tr>\n",
       "    <tr>\n",
       "      <th>5</th>\n",
       "      <td>230</td>\n",
       "      <td>357</td>\n",
       "      <td>258</td>\n",
       "      <td>203</td>\n",
       "      <td>414</td>\n",
       "      <td>270</td>\n",
       "      <td>418</td>\n",
       "      <td>156</td>\n",
       "      <td>320</td>\n",
       "      <td>265</td>\n",
       "      <td>...</td>\n",
       "      <td>305</td>\n",
       "      <td>256</td>\n",
       "      <td>151</td>\n",
       "      <td>222</td>\n",
       "      <td>287</td>\n",
       "      <td>349</td>\n",
       "      <td>185</td>\n",
       "      <td>284</td>\n",
       "      <td>165</td>\n",
       "      <td>180</td>\n",
       "    </tr>\n",
       "  </tbody>\n",
       "</table>\n",
       "<p>5 rows × 398 columns</p>\n",
       "</div>"
      ],
      "text/plain": [
       "       아파트1-101-1002  아파트1-101-104  아파트1-101-1102  아파트1-101-1202  \\\n",
       "month                                                              \n",
       "1                253           689            183            239   \n",
       "2                251           481            177            218   \n",
       "3                255           424            203            222   \n",
       "4                252           355            180            230   \n",
       "5                230           357            258            203   \n",
       "\n",
       "       아파트1-101-1302  아파트1-101-1401  아파트1-101-1403  아파트1-101-1502  \\\n",
       "month                                                               \n",
       "1                455            343            380            219   \n",
       "2                397            297            339            197   \n",
       "3                378            303            349            202   \n",
       "4                368            278            298            188   \n",
       "5                414            270            418            156   \n",
       "\n",
       "       아파트1-101-1504  아파트1-101-1602  ...  아파트4-104-101  아파트4-104-1301  \\\n",
       "month                                ...                                \n",
       "1                389            350  ...           335            363   \n",
       "2                348            288  ...           309            339   \n",
       "3                357            368  ...           313            372   \n",
       "4                346            365  ...           266            346   \n",
       "5                320            265  ...           305            256   \n",
       "\n",
       "       아파트4-104-1501  아파트4-104-301  아파트4-105-102  아파트4-105-103  아파트4-105-1102  \\\n",
       "month                                                                           \n",
       "1                181           216           270           518            230   \n",
       "2                146           184           267           344            208   \n",
       "3                152           236           268           417            212   \n",
       "4                149           210           268           421            208   \n",
       "5                151           222           287           349            185   \n",
       "\n",
       "       아파트4-105-1104  아파트4-105-601  아파트4-105-803  \n",
       "month                                             \n",
       "1                279           161           156  \n",
       "2                236           167           150  \n",
       "3                272           166           155  \n",
       "4                243           156           148  \n",
       "5                284           165           180  \n",
       "\n",
       "[5 rows x 398 columns]"
      ]
     },
     "execution_count": 4,
     "metadata": {},
     "output_type": "execute_result"
    }
   ],
   "source": [
    "# 2. data preprocessing\n",
    "p, m = crs.utils.data_preprocessing(xlsx)\n",
    "\n",
    "m.set_index(\"month\", inplace=True)\n",
    "m.head()"
   ]
  },
  {
   "cell_type": "code",
   "execution_count": 5,
   "id": "fa7b815d",
   "metadata": {},
   "outputs": [],
   "source": [
    "with open(\"data/test_data.json\", \"r\") as f:\n",
    "    test_data_info = json.load(f, encoding='utf8')\n",
    "\n",
    "PUBLIC_PERCENTAGE = test_data_info['공용부 percentage']\n",
    "_month = test_data_info['월']\n",
    "h_cols = test_data_info['가구구성']"
   ]
  },
  {
   "cell_type": "markdown",
   "id": "50763a8f",
   "metadata": {},
   "source": [
    "## 데이터"
   ]
  },
  {
   "cell_type": "code",
   "execution_count": 6,
   "id": "534786ea",
   "metadata": {},
   "outputs": [
    {
     "data": {
      "text/html": [
       "<div>\n",
       "<style scoped>\n",
       "    .dataframe tbody tr th:only-of-type {\n",
       "        vertical-align: middle;\n",
       "    }\n",
       "\n",
       "    .dataframe tbody tr th {\n",
       "        vertical-align: top;\n",
       "    }\n",
       "\n",
       "    .dataframe thead th {\n",
       "        text-align: right;\n",
       "    }\n",
       "</style>\n",
       "<table border=\"1\" class=\"dataframe\">\n",
       "  <thead>\n",
       "    <tr style=\"text-align: right;\">\n",
       "      <th></th>\n",
       "      <th>name</th>\n",
       "      <th>usage (kWh)</th>\n",
       "    </tr>\n",
       "  </thead>\n",
       "  <tbody>\n",
       "    <tr>\n",
       "      <th>0</th>\n",
       "      <td>아파트1-104-1208</td>\n",
       "      <td>7</td>\n",
       "    </tr>\n",
       "    <tr>\n",
       "      <th>1</th>\n",
       "      <td>아파트1-103-606</td>\n",
       "      <td>398</td>\n",
       "    </tr>\n",
       "    <tr>\n",
       "      <th>2</th>\n",
       "      <td>아파트1-104-705</td>\n",
       "      <td>84</td>\n",
       "    </tr>\n",
       "    <tr>\n",
       "      <th>3</th>\n",
       "      <td>아파트1-101-303</td>\n",
       "      <td>356</td>\n",
       "    </tr>\n",
       "    <tr>\n",
       "      <th>4</th>\n",
       "      <td>아파트3-101-603</td>\n",
       "      <td>196</td>\n",
       "    </tr>\n",
       "    <tr>\n",
       "      <th>5</th>\n",
       "      <td>아파트3-102-305</td>\n",
       "      <td>204</td>\n",
       "    </tr>\n",
       "    <tr>\n",
       "      <th>6</th>\n",
       "      <td>아파트1-103-1706</td>\n",
       "      <td>336</td>\n",
       "    </tr>\n",
       "    <tr>\n",
       "      <th>7</th>\n",
       "      <td>아파트2-2-1301</td>\n",
       "      <td>141</td>\n",
       "    </tr>\n",
       "    <tr>\n",
       "      <th>8</th>\n",
       "      <td>아파트3-103-707</td>\n",
       "      <td>204</td>\n",
       "    </tr>\n",
       "    <tr>\n",
       "      <th>9</th>\n",
       "      <td>아파트3-103-2018</td>\n",
       "      <td>216</td>\n",
       "    </tr>\n",
       "  </tbody>\n",
       "</table>\n",
       "</div>"
      ],
      "text/plain": [
       "            name  usage (kWh)\n",
       "0  아파트1-104-1208            7\n",
       "1   아파트1-103-606          398\n",
       "2   아파트1-104-705           84\n",
       "3   아파트1-101-303          356\n",
       "4   아파트3-101-603          196\n",
       "5   아파트3-102-305          204\n",
       "6  아파트1-103-1706          336\n",
       "7    아파트2-2-1301          141\n",
       "8   아파트3-103-707          204\n",
       "9  아파트3-103-2018          216"
      ]
     },
     "execution_count": 6,
     "metadata": {},
     "output_type": "execute_result"
    }
   ],
   "source": [
    "_m = m.copy()\n",
    "_m = _m[h_cols]\n",
    "\n",
    "month_df = pd.DataFrame(_m.loc[_month])\n",
    "month_df.reset_index(inplace=True)\n",
    "\n",
    "month_df.columns = ['name', 'usage (kWh)']\n",
    "\n",
    "households_kWh = month_df['usage (kWh)'].sum()\n",
    "households_count = len(month_df)\n",
    "APT = round((households_kWh * 100) / (100 - PUBLIC_PERCENTAGE))\n",
    "\n",
    "APT_mean = round(APT / households_count)\n",
    "households_mean = round(month_df['usage (kWh)'].mean())\n",
    "\n",
    "month_df.head(10)"
   ]
  },
  {
   "cell_type": "code",
   "execution_count": 7,
   "id": "2eea560f",
   "metadata": {},
   "outputs": [],
   "source": [
    "calc = crs.models.ManagementOffice(\n",
    "        month=_month,\n",
    "        households=month_df,\n",
    "        APT=APT,\n",
    "        contract=\"단일계약\"\n",
    "    )\n",
    "fee = calc.fee"
   ]
  },
  {
   "cell_type": "markdown",
   "id": "9baf2583",
   "metadata": {},
   "source": [
    "## 기본요금"
   ]
  },
  {
   "cell_type": "code",
   "execution_count": 8,
   "id": "8cbb5984",
   "metadata": {},
   "outputs": [
    {
     "name": "stdout",
     "output_type": "stream",
     "text": [
      "세대부 토탈 액 452,150원\n"
     ]
    },
    {
     "data": {
      "text/html": [
       "<div>\n",
       "<style scoped>\n",
       "    .dataframe tbody tr th:only-of-type {\n",
       "        vertical-align: middle;\n",
       "    }\n",
       "\n",
       "    .dataframe tbody tr th {\n",
       "        vertical-align: top;\n",
       "    }\n",
       "\n",
       "    .dataframe thead th {\n",
       "        text-align: right;\n",
       "    }\n",
       "</style>\n",
       "<table border=\"1\" class=\"dataframe\">\n",
       "  <thead>\n",
       "    <tr style=\"text-align: right;\">\n",
       "      <th></th>\n",
       "      <th>가구 수</th>\n",
       "      <th>기본요금</th>\n",
       "      <th>토탈</th>\n",
       "    </tr>\n",
       "  </thead>\n",
       "  <tbody>\n",
       "    <tr>\n",
       "      <th>1 단계</th>\n",
       "      <td>197</td>\n",
       "      <td>730</td>\n",
       "      <td>143810</td>\n",
       "    </tr>\n",
       "    <tr>\n",
       "      <th>2 단계</th>\n",
       "      <td>187</td>\n",
       "      <td>1260</td>\n",
       "      <td>235620</td>\n",
       "    </tr>\n",
       "    <tr>\n",
       "      <th>3 단계</th>\n",
       "      <td>12</td>\n",
       "      <td>6060</td>\n",
       "      <td>72720</td>\n",
       "    </tr>\n",
       "  </tbody>\n",
       "</table>\n",
       "</div>"
      ],
      "text/plain": [
       "     가구 수  기본요금      토탈\n",
       "1 단계  197   730  143810\n",
       "2 단계  187  1260  235620\n",
       "3 단계   12  6060   72720"
      ]
     },
     "execution_count": 8,
     "metadata": {},
     "output_type": "execute_result"
    }
   ],
   "source": [
    "nugin_dist = pd.DataFrame(columns=['가구 수'])\n",
    "\n",
    "for step, _f in enumerate(fee):\n",
    "    now_kWh = _f[0]\n",
    "    if step < 2:\n",
    "        next_kWh = fee[step + 1][0]\n",
    "        count = len(month_df[(month_df['usage (kWh)'] >= now_kWh) &\\\n",
    "                             (month_df['usage (kWh)'] < next_kWh)])\n",
    "        nugin_dist.loc['{} 단계'.format(step + 1)] = [count]\n",
    "                    \n",
    "    else:\n",
    "        count = len(month_df[month_df['usage (kWh)'] >= now_kWh])\n",
    "        nugin_dist.loc['{} 단계'.format(step + 1)] = [count]\n",
    "\n",
    "nugin_dist['기본요금'] = [_[2] for _ in fee]\n",
    "nugin_dist['토탈'] = nugin_dist['가구 수'] * nugin_dist['기본요금']\n",
    "\n",
    "print(\"세대부 토탈 액 {}원\".format(format(nugin_dist['토탈'].sum(), \",\")))\n",
    "nugin_dist.head()"
   ]
  },
  {
   "cell_type": "code",
   "execution_count": 9,
   "id": "e67692fe",
   "metadata": {},
   "outputs": [
    {
     "name": "stdout",
     "output_type": "stream",
     "text": [
      "APT 토탈 액 498,960원\n"
     ]
    }
   ],
   "source": [
    "for step, _f in enumerate(fee):\n",
    "    if APT_mean < _f[1]:\n",
    "        apt_step = step\n",
    "        apt_basic = _f[2] * households_count\n",
    "        break\n",
    "\n",
    "print(\"APT 토탈 액 {}원\".format(format(apt_basic, \",\")))"
   ]
  },
  {
   "cell_type": "code",
   "execution_count": 10,
   "id": "73f04037",
   "metadata": {},
   "outputs": [
    {
     "name": "stdout",
     "output_type": "stream",
     "text": [
      "공용부 기본요금 46,810원\n"
     ]
    }
   ],
   "source": [
    "public_basic = apt_basic - nugin_dist['토탈'].sum()\n",
    "print(\"공용부 기본요금 {}원\".format(format(public_basic, \",\")))"
   ]
  },
  {
   "cell_type": "markdown",
   "id": "054434a6",
   "metadata": {},
   "source": [
    "## 전력량요금"
   ]
  },
  {
   "cell_type": "markdown",
   "id": "a069c3cc",
   "metadata": {},
   "source": [
    "### 전력량요금 수거현황판"
   ]
  },
  {
   "cell_type": "code",
   "execution_count": 11,
   "id": "b92a40f2",
   "metadata": {},
   "outputs": [
    {
     "data": {
      "image/png": "[encoded data removed]",
      "text/plain": [
       "<Figure size 1296x288 with 3 Axes>"
      ]
     },
     "metadata": {
      "needs_background": "light"
     },
     "output_type": "display_data"
    }
   ],
   "source": [
    "plt.figure(figsize=(18,4))\n",
    "\n",
    "# 수거현황\n",
    "ax_1 = plt.subplot(1,3,1)\n",
    "\n",
    "ax_1.bar(range(0, len(month_df)), APT_mean, color='r')\n",
    "ax_1.bar(range(0, len(month_df)), month_df['usage (kWh)'], color='b')\n",
    "\n",
    "ax_1.axhline(200, color='yellow')\n",
    "ax_1.axhline(400, color='orange')\n",
    "\n",
    "ax_1.set_title(\"수거 현황\")\n",
    "ax_1.legend([\"누진 2단계 시작\",\"누진 3단계 시작\",'수거 필요 사용량', '가구별 수거 사용량'], loc='upper right')\n",
    "\n",
    "# 잉여사용량\n",
    "ax_2 = plt.subplot(1,3,2)\n",
    "\n",
    "ax_2.bar(range(0, len(month_df)), APT_mean, color='r')\n",
    "ax_2.bar(range(0, len(month_df)), month_df['usage (kWh)'], color='white')\n",
    "\n",
    "ax_2.axhline(200, color='yellow')\n",
    "ax_2.axhline(400, color='orange')\n",
    "ax_2.legend([\"누진 2단계 시작\",\"누진 3단계 시작\"], loc='upper right')\n",
    "\n",
    "ax_2.set_title(\"잉여사용량\")\n",
    "\n",
    "# 초과수거 사용량\n",
    "ax_3 = plt.subplot(1,3,3)\n",
    "\n",
    "ax_3.bar(range(0, len(month_df)), month_df['usage (kWh)'], color='b')\n",
    "ax_3.bar(range(0, len(month_df)), APT_mean, color='white')\n",
    "\n",
    "ax_3.axhline(200, color='yellow')\n",
    "ax_3.axhline(400, color='orange')\n",
    "ax_3.legend([\"누진 2단계 시작\",\"누진 3단계 시작\"], loc='upper right')\n",
    "\n",
    "ax_3.set_title(\"초과수거 사용량\")\n",
    "\n",
    "plt.show()"
   ]
  },
  {
   "cell_type": "markdown",
   "id": "74928ec3",
   "metadata": {},
   "source": [
    "### 전력량요금 수거현황 Table"
   ]
  },
  {
   "cell_type": "code",
   "execution_count": 12,
   "id": "d42d5332",
   "metadata": {},
   "outputs": [
    {
     "data": {
      "text/html": [
       "<div>\n",
       "<style scoped>\n",
       "    .dataframe tbody tr th:only-of-type {\n",
       "        vertical-align: middle;\n",
       "    }\n",
       "\n",
       "    .dataframe tbody tr th {\n",
       "        vertical-align: top;\n",
       "    }\n",
       "\n",
       "    .dataframe thead th {\n",
       "        text-align: right;\n",
       "    }\n",
       "</style>\n",
       "<table border=\"1\" class=\"dataframe\">\n",
       "  <thead>\n",
       "    <tr style=\"text-align: right;\">\n",
       "      <th></th>\n",
       "      <th>누진 1단계</th>\n",
       "      <th>누진 2단계</th>\n",
       "      <th>누진 3단계</th>\n",
       "    </tr>\n",
       "  </thead>\n",
       "  <tbody>\n",
       "    <tr>\n",
       "      <th>수거 필요 사용량</th>\n",
       "      <td>79200</td>\n",
       "      <td>11088</td>\n",
       "      <td>0</td>\n",
       "    </tr>\n",
       "    <tr>\n",
       "      <th>수거 사용량</th>\n",
       "      <td>54641</td>\n",
       "      <td>17167</td>\n",
       "      <td>415</td>\n",
       "    </tr>\n",
       "    <tr>\n",
       "      <th>잉여 사용량</th>\n",
       "      <td>24559</td>\n",
       "      <td>5980</td>\n",
       "      <td>0</td>\n",
       "    </tr>\n",
       "    <tr>\n",
       "      <th>초과수거 사용량</th>\n",
       "      <td>0</td>\n",
       "      <td>12059</td>\n",
       "      <td>415</td>\n",
       "    </tr>\n",
       "  </tbody>\n",
       "</table>\n",
       "</div>"
      ],
      "text/plain": [
       "           누진 1단계  누진 2단계  누진 3단계\n",
       "수거 필요 사용량   79200   11088       0\n",
       " 수거 사용량     54641   17167     415\n",
       "잉여 사용량      24559    5980       0\n",
       "초과수거 사용량        0   12059     415"
      ]
     },
     "execution_count": 12,
     "metadata": {},
     "output_type": "execute_result"
    }
   ],
   "source": [
    "all_col_needed = np.array(get_col_list(APT_mean, calc.fee)) * len(month_df)\n",
    "col_households = np.array([get_col_list(usage, calc.fee) for usage in month_df['usage (kWh)']]).sum(axis=0)\n",
    "\n",
    "col_needed = np.array(get_col_list(APT_mean, calc.fee))\n",
    "surplus_col = np.zeros(3)\n",
    "excess_col = np.zeros(3)\n",
    "\n",
    "for usage in month_df['usage (kWh)']:\n",
    "    col_chk = col_needed - get_col_list(usage, calc.fee)\n",
    "    \n",
    "    for idx, chk in enumerate(col_chk):\n",
    "        if chk > 0:\n",
    "            surplus_col[idx] += chk\n",
    "        else:\n",
    "            excess_col[idx] += abs(chk)\n",
    "            \n",
    "er_info = pd.DataFrame(np.array([all_col_needed, col_households,\n",
    "         surplus_col, excess_col]).reshape(-1, 3).astype(\"int\"), columns=['누진 1단계', '누진 2단계', '누진 3단계'],\n",
    "            index=['수거 필요 사용량',' 수거 사용량', '잉여 사용량', '초과수거 사용량'])\n",
    "er_info.head()"
   ]
  },
  {
   "cell_type": "code",
   "execution_count": 13,
   "id": "cc8fcb30",
   "metadata": {},
   "outputs": [
    {
     "data": {
      "text/plain": [
       "847734"
      ]
     },
     "execution_count": 13,
     "metadata": {},
     "output_type": "execute_result"
    }
   ],
   "source": [
    "elec_rate_fee = np.array([_[3] for _ in fee])\n",
    "\n",
    "er_1 = (er_info.loc['잉여 사용량'].values * elec_rate_fee).round()\n",
    "er_2 = (er_info.loc['초과수거 사용량'].values * elec_rate_fee).round()\n",
    "\n",
    "public_elec_rate = int(er_1.sum() - er_2.sum())\n",
    "public_elec_rate"
   ]
  },
  {
   "cell_type": "markdown",
   "id": "51ee3593",
   "metadata": {},
   "source": [
    "# 기후환경요금, 연료비조정액 예측"
   ]
  },
  {
   "cell_type": "code",
   "execution_count": 14,
   "id": "79ae5965",
   "metadata": {},
   "outputs": [
    {
     "name": "stdout",
     "output_type": "stream",
     "text": [
      "\n"
     ]
    },
    {
     "data": {
      "text/markdown": [
       "공용부 기후환경요금 = (90,279kWh(APT 총 사용량) - 72,223kWh(세대부 총 사용량)) * 5.3원 = **95,697원**"
      ],
      "text/plain": [
       "<IPython.core.display.Markdown object>"
      ]
     },
     "metadata": {},
     "output_type": "display_data"
    },
    {
     "data": {
      "text/markdown": [
       "공용부 연료비조정액 = (90,279kWh(APT 총 사용량) - 72,223kWh(세대부 총 사용량)) * 3원 = **-54,168원**"
      ],
      "text/plain": [
       "<IPython.core.display.Markdown object>"
      ]
     },
     "metadata": {},
     "output_type": "display_data"
    },
    {
     "name": "stdout",
     "output_type": "stream",
     "text": [
      "\n"
     ]
    }
   ],
   "source": [
    "public_env = round((APT - households_kWh) * 5.3)\n",
    "public_fuel = round((APT - households_kWh) * 3) * -1\n",
    "\n",
    "print()\n",
    "display(Markdown(\"공용부 기후환경요금 = ({}kWh(APT 총 사용량) - {}kWh(세대부 총 사용량)) * 5.3원 = **{}원**\".format(\n",
    "    format(APT, \",\"),\n",
    "    format(households_kWh, \",\"),\n",
    "    format(public_env, \",\")\n",
    ")))\n",
    "display(Markdown(\"공용부 연료비조정액 = ({}kWh(APT 총 사용량) - {}kWh(세대부 총 사용량)) * 3원 = **{}원**\".format(\n",
    "    format(APT, \",\"),\n",
    "    format(households_kWh, \",\"),\n",
    "    format(public_fuel, \",\")\n",
    ")))\n",
    "print()"
   ]
  },
  {
   "cell_type": "markdown",
   "id": "ad8ecdc2",
   "metadata": {},
   "source": [
    "## 전기요금계 예측"
   ]
  },
  {
   "cell_type": "code",
   "execution_count": 15,
   "id": "218b3233",
   "metadata": {},
   "outputs": [
    {
     "data": {
      "text/html": [
       "<div>\n",
       "<style scoped>\n",
       "    .dataframe tbody tr th:only-of-type {\n",
       "        vertical-align: middle;\n",
       "    }\n",
       "\n",
       "    .dataframe tbody tr th {\n",
       "        vertical-align: top;\n",
       "    }\n",
       "\n",
       "    .dataframe thead th {\n",
       "        text-align: right;\n",
       "    }\n",
       "</style>\n",
       "<table border=\"1\" class=\"dataframe\">\n",
       "  <thead>\n",
       "    <tr style=\"text-align: right;\">\n",
       "      <th></th>\n",
       "      <th>기본요금</th>\n",
       "      <th>전력량요금</th>\n",
       "      <th>기후환경요금</th>\n",
       "      <th>연료비조정액</th>\n",
       "      <th>전기요금계</th>\n",
       "      <th>부가가치세</th>\n",
       "      <th>전력산업기반기금</th>\n",
       "      <th>최종청구금액</th>\n",
       "    </tr>\n",
       "  </thead>\n",
       "  <tbody>\n",
       "    <tr>\n",
       "      <th>공용부</th>\n",
       "      <td>46810</td>\n",
       "      <td>847734</td>\n",
       "      <td>95697</td>\n",
       "      <td>-54168</td>\n",
       "      <td>936073</td>\n",
       "      <td>93607.3</td>\n",
       "      <td>34634.701</td>\n",
       "      <td>1064315.001</td>\n",
       "    </tr>\n",
       "  </tbody>\n",
       "</table>\n",
       "</div>"
      ],
      "text/plain": [
       "      기본요금   전력량요금  기후환경요금  연료비조정액   전기요금계    부가가치세   전력산업기반기금       최종청구금액\n",
       "공용부  46810  847734   95697  -54168  936073  93607.3  34634.701  1064315.001"
      ]
     },
     "execution_count": 15,
     "metadata": {},
     "output_type": "execute_result"
    }
   ],
   "source": [
    "elec_bill = pd.DataFrame([public_basic, public_elec_rate, public_env, public_fuel]).T\n",
    "\n",
    "elec_bill.columns=['기본요금', '전력량요금', '기후환경요금', '연료비조정액']\n",
    "elec_bill.index = ['공용부']\n",
    "\n",
    "elec_bill['전기요금계'] = elec_bill.sum(axis=1)\n",
    "elec_bill['부가가치세'] = elec_bill['전기요금계'] * 0.1\n",
    "elec_bill['전력산업기반기금'] = elec_bill['전기요금계'] * 0.037\n",
    "elec_bill['최종청구금액'] = elec_bill[['전기요금계','부가가치세','전력산업기반기금']].sum(axis=1)\n",
    "\n",
    "elec_bill.head()"
   ]
  },
  {
   "cell_type": "code",
   "execution_count": 16,
   "id": "10192c5a",
   "metadata": {},
   "outputs": [
    {
     "name": "stdout",
     "output_type": "stream",
     "text": [
      "\n"
     ]
    },
    {
     "data": {
      "text/markdown": [
       "공용부 예측 최종청구금액 : **1,064,315.0010000002원**"
      ],
      "text/plain": [
       "<IPython.core.display.Markdown object>"
      ]
     },
     "metadata": {},
     "output_type": "display_data"
    },
    {
     "data": {
      "text/markdown": [
       "공용부 실제 최종청구금액 : **1,391,330원**"
      ],
      "text/plain": [
       "<IPython.core.display.Markdown object>"
      ]
     },
     "metadata": {},
     "output_type": "display_data"
    },
    {
     "data": {
      "text/markdown": [
       "오차 : **327,014.99899999984원**"
      ],
      "text/plain": [
       "<IPython.core.display.Markdown object>"
      ]
     },
     "metadata": {},
     "output_type": "display_data"
    },
    {
     "name": "stdout",
     "output_type": "stream",
     "text": [
      "\n"
     ]
    }
   ],
   "source": [
    "print()\n",
    "display(Markdown(\"공용부 예측 최종청구금액 : **{}원**\".format(format(elec_bill['최종청구금액'].values[0], \",\"))))\n",
    "display(Markdown(\"공용부 실제 최종청구금액 : **{}원**\".format(format(calc.public_bill, \",\"))))\n",
    "display(Markdown(\"오차 : **{}원**\".format(format(abs(calc.public_bill - elec_bill['최종청구금액'].values[0]), \",\"))))\n",
    "print()"
   ]
  },
  {
   "cell_type": "markdown",
   "id": "ff29ee5f",
   "metadata": {},
   "source": [
    "## 필수사용량보장공제"
   ]
  },
  {
   "cell_type": "code",
   "execution_count": 17,
   "id": "a074b449",
   "metadata": {},
   "outputs": [
    {
     "data": {
      "text/html": [
       "<div>\n",
       "<style scoped>\n",
       "    .dataframe tbody tr th:only-of-type {\n",
       "        vertical-align: middle;\n",
       "    }\n",
       "\n",
       "    .dataframe tbody tr th {\n",
       "        vertical-align: top;\n",
       "    }\n",
       "\n",
       "    .dataframe thead th {\n",
       "        text-align: right;\n",
       "    }\n",
       "</style>\n",
       "<table border=\"1\" class=\"dataframe\">\n",
       "  <thead>\n",
       "    <tr style=\"text-align: right;\">\n",
       "      <th></th>\n",
       "      <th>기본요금</th>\n",
       "      <th>전력량요금</th>\n",
       "      <th>기후환경요금</th>\n",
       "      <th>연료비조정액</th>\n",
       "      <th>세대부 필수사용량보장공제</th>\n",
       "      <th>전기요금계</th>\n",
       "      <th>부가가치세</th>\n",
       "      <th>전력산업기반기금</th>\n",
       "      <th>최종청구금액</th>\n",
       "    </tr>\n",
       "  </thead>\n",
       "  <tbody>\n",
       "    <tr>\n",
       "      <th>공용부</th>\n",
       "      <td>46810</td>\n",
       "      <td>847734</td>\n",
       "      <td>95697</td>\n",
       "      <td>-54168</td>\n",
       "      <td>492500</td>\n",
       "      <td>1428573</td>\n",
       "      <td>142857.3</td>\n",
       "      <td>52857.201</td>\n",
       "      <td>1624287.501</td>\n",
       "    </tr>\n",
       "  </tbody>\n",
       "</table>\n",
       "</div>"
      ],
      "text/plain": [
       "      기본요금   전력량요금  기후환경요금  연료비조정액  세대부 필수사용량보장공제    전기요금계     부가가치세  \\\n",
       "공용부  46810  847734   95697  -54168         492500  1428573  142857.3   \n",
       "\n",
       "      전력산업기반기금       최종청구금액  \n",
       "공용부  52857.201  1624287.501  "
      ]
     },
     "execution_count": 17,
     "metadata": {},
     "output_type": "execute_result"
    }
   ],
   "source": [
    "guarantee_cnt = len(month_df[month_df['usage (kWh)'] <= 200])\n",
    "guarantee_cnt\n",
    "\n",
    "guarantee = guarantee_cnt * 2500\n",
    "guarantee\n",
    "\n",
    "elec_bill_2 = elec_bill[elec_bill.columns[:4]].copy()\n",
    "elec_bill_2['세대부 필수사용량보장공제'] = guarantee\n",
    "\n",
    "elec_bill_2['전기요금계'] = elec_bill_2.sum(axis=1)\n",
    "elec_bill_2['부가가치세'] = elec_bill_2['전기요금계'] * 0.1\n",
    "elec_bill_2['전력산업기반기금'] = elec_bill_2['전기요금계'] * 0.037\n",
    "elec_bill_2['최종청구금액'] = elec_bill_2[['전기요금계','부가가치세','전력산업기반기금']].sum(axis=1)\n",
    "\n",
    "elec_bill_2"
   ]
  },
  {
   "cell_type": "code",
   "execution_count": 18,
   "id": "300e70a1",
   "metadata": {},
   "outputs": [
    {
     "name": "stdout",
     "output_type": "stream",
     "text": [
      "\n"
     ]
    },
    {
     "data": {
      "text/markdown": [
       "공용부 예측 최종청구금액 : **1,624,287.5010000002원**"
      ],
      "text/plain": [
       "<IPython.core.display.Markdown object>"
      ]
     },
     "metadata": {},
     "output_type": "display_data"
    },
    {
     "data": {
      "text/markdown": [
       "공용부 실제 최종청구금액 : **1,391,330원**"
      ],
      "text/plain": [
       "<IPython.core.display.Markdown object>"
      ]
     },
     "metadata": {},
     "output_type": "display_data"
    },
    {
     "data": {
      "text/markdown": [
       "오차 : **232,957.50100000016원**"
      ],
      "text/plain": [
       "<IPython.core.display.Markdown object>"
      ]
     },
     "metadata": {},
     "output_type": "display_data"
    },
    {
     "name": "stdout",
     "output_type": "stream",
     "text": [
      "\n"
     ]
    }
   ],
   "source": [
    "print()\n",
    "display(Markdown(\"공용부 예측 최종청구금액 : **{}원**\".format(format(elec_bill_2['최종청구금액'].values[0], \",\"))))\n",
    "display(Markdown(\"공용부 실제 최종청구금액 : **{}원**\".format(format(calc.public_bill, \",\"))))\n",
    "display(Markdown(\"오차 : **{}원**\".format(format(abs(calc.public_bill - elec_bill_2['최종청구금액'].values[0]), \",\"))))\n",
    "print()"
   ]
  },
  {
   "cell_type": "markdown",
   "id": "391b5e7c",
   "metadata": {},
   "source": [
    "## 최저요금 가구 적용"
   ]
  },
  {
   "cell_type": "markdown",
   "id": "e2461e04",
   "metadata": {},
   "source": [
    "### 최저요금 사용량 체크"
   ]
  },
  {
   "cell_type": "code",
   "execution_count": 35,
   "id": "124d5fca",
   "metadata": {},
   "outputs": [
    {
     "data": {
      "text/html": [
       "<div>\n",
       "<style scoped>\n",
       "    .dataframe tbody tr th:only-of-type {\n",
       "        vertical-align: middle;\n",
       "    }\n",
       "\n",
       "    .dataframe tbody tr th {\n",
       "        vertical-align: top;\n",
       "    }\n",
       "\n",
       "    .dataframe thead th {\n",
       "        text-align: right;\n",
       "    }\n",
       "</style>\n",
       "<table border=\"1\" class=\"dataframe\">\n",
       "  <thead>\n",
       "    <tr style=\"text-align: right;\">\n",
       "      <th></th>\n",
       "      <th>사용량</th>\n",
       "      <th>전기요금계</th>\n",
       "    </tr>\n",
       "  </thead>\n",
       "  <tbody>\n",
       "    <tr>\n",
       "      <th>0</th>\n",
       "      <td>1</td>\n",
       "      <td>1000</td>\n",
       "    </tr>\n",
       "    <tr>\n",
       "      <th>1</th>\n",
       "      <td>2</td>\n",
       "      <td>1000</td>\n",
       "    </tr>\n",
       "    <tr>\n",
       "      <th>2</th>\n",
       "      <td>3</td>\n",
       "      <td>1000</td>\n",
       "    </tr>\n",
       "    <tr>\n",
       "      <th>3</th>\n",
       "      <td>4</td>\n",
       "      <td>1000</td>\n",
       "    </tr>\n",
       "    <tr>\n",
       "      <th>4</th>\n",
       "      <td>5</td>\n",
       "      <td>1000</td>\n",
       "    </tr>\n",
       "  </tbody>\n",
       "</table>\n",
       "</div>"
      ],
      "text/plain": [
       "  사용량 전기요금계\n",
       "0   1  1000\n",
       "1   2  1000\n",
       "2   3  1000\n",
       "3   4  1000\n",
       "4   5  1000"
      ]
     },
     "execution_count": 35,
     "metadata": {},
     "output_type": "execute_result"
    }
   ],
   "source": [
    "chk_min_kWh = 0\n",
    "elec_bill_check = pd.DataFrame(columns=['사용량', '전기요금계'])\n",
    "\n",
    "for min_kwh in range(1, 200):\n",
    "    hh = crs.models.Household(\n",
    "        name=\"min test\",\n",
    "        kwh=min_kwh,\n",
    "        contract=fee,\n",
    "        contract_name=\"단일계약\"\n",
    "    )\n",
    "    \n",
    "    if hh.elec_bill <= 1000:\n",
    "        chk_min_kWh = min_kwh\n",
    "    \n",
    "    elec_bill_check = elec_bill_check.append({\n",
    "        \"사용량\": min_kwh,\n",
    "        \"전기요금계\": hh.elec_bill\n",
    "    }, ignore_index=True)\n",
    "\n",
    "elec_bill_check.head()"
   ]
  },
  {
   "cell_type": "code",
   "execution_count": 36,
   "id": "d6dbfbfb",
   "metadata": {},
   "outputs": [
    {
     "data": {
      "image/png": "[encoded data removed]",
      "text/plain": [
       "<Figure size 1152x576 with 1 Axes>"
      ]
     },
     "metadata": {
      "needs_background": "light"
     },
     "output_type": "display_data"
    }
   ],
   "source": [
    "plt.figure(figsize=(16,8))\n",
    "\n",
    "plt.plot(elec_bill_check['사용량'], elec_bill_check['전기요금계'], c='b', label='전기요금계')\n",
    "plt.axvline(chk_min_kWh, c='r', label='경계선')\n",
    "plt.title(\"사용량 별 전기요금계 변화\")\n",
    "\n",
    "plt.xlabel(\"사용량 (kWh)\")\n",
    "plt.ylabel(\"가격\")\n",
    "\n",
    "plt.legend(loc='upper left')\n",
    "\n",
    "plt.show()"
   ]
  },
  {
   "cell_type": "markdown",
   "id": "5ccbd733",
   "metadata": {},
   "source": [
    "### 최저요금 가구 (eq. 사용량 37kWh 미만 가구) 세대부에서 제외"
   ]
  },
  {
   "cell_type": "code",
   "execution_count": 50,
   "id": "7330b891",
   "metadata": {},
   "outputs": [
    {
     "data": {
      "text/html": [
       "<div>\n",
       "<style scoped>\n",
       "    .dataframe tbody tr th:only-of-type {\n",
       "        vertical-align: middle;\n",
       "    }\n",
       "\n",
       "    .dataframe tbody tr th {\n",
       "        vertical-align: top;\n",
       "    }\n",
       "\n",
       "    .dataframe thead th {\n",
       "        text-align: right;\n",
       "    }\n",
       "</style>\n",
       "<table border=\"1\" class=\"dataframe\">\n",
       "  <thead>\n",
       "    <tr style=\"text-align: right;\">\n",
       "      <th></th>\n",
       "      <th>name</th>\n",
       "      <th>usage (kWh)</th>\n",
       "    </tr>\n",
       "  </thead>\n",
       "  <tbody>\n",
       "    <tr>\n",
       "      <th>0</th>\n",
       "      <td>아파트1-104-1208</td>\n",
       "      <td>7</td>\n",
       "    </tr>\n",
       "    <tr>\n",
       "      <th>10</th>\n",
       "      <td>아파트2-4-509</td>\n",
       "      <td>0</td>\n",
       "    </tr>\n",
       "    <tr>\n",
       "      <th>17</th>\n",
       "      <td>아파트2-2-807</td>\n",
       "      <td>8</td>\n",
       "    </tr>\n",
       "    <tr>\n",
       "      <th>21</th>\n",
       "      <td>아파트2-2-502</td>\n",
       "      <td>14</td>\n",
       "    </tr>\n",
       "    <tr>\n",
       "      <th>26</th>\n",
       "      <td>아파트2-4-1008</td>\n",
       "      <td>22</td>\n",
       "    </tr>\n",
       "    <tr>\n",
       "      <th>35</th>\n",
       "      <td>아파트2-4-408</td>\n",
       "      <td>0</td>\n",
       "    </tr>\n",
       "    <tr>\n",
       "      <th>40</th>\n",
       "      <td>아파트2-5-1110</td>\n",
       "      <td>0</td>\n",
       "    </tr>\n",
       "    <tr>\n",
       "      <th>42</th>\n",
       "      <td>아파트2-2-101</td>\n",
       "      <td>0</td>\n",
       "    </tr>\n",
       "    <tr>\n",
       "      <th>45</th>\n",
       "      <td>아파트2-2-1107</td>\n",
       "      <td>30</td>\n",
       "    </tr>\n",
       "    <tr>\n",
       "      <th>46</th>\n",
       "      <td>아파트2-2-1402</td>\n",
       "      <td>14</td>\n",
       "    </tr>\n",
       "  </tbody>\n",
       "</table>\n",
       "</div>"
      ],
      "text/plain": [
       "             name  usage (kWh)\n",
       "0   아파트1-104-1208            7\n",
       "10     아파트2-4-509            0\n",
       "17     아파트2-2-807            8\n",
       "21     아파트2-2-502           14\n",
       "26    아파트2-4-1008           22\n",
       "35     아파트2-4-408            0\n",
       "40    아파트2-5-1110            0\n",
       "42     아파트2-2-101            0\n",
       "45    아파트2-2-1107           30\n",
       "46    아파트2-2-1402           14"
      ]
     },
     "execution_count": 50,
     "metadata": {},
     "output_type": "execute_result"
    }
   ],
   "source": [
    "min_households = month_df[month_df['usage (kWh)'] < chk_min_kWh]\n",
    "\n",
    "min_households.head(10)"
   ]
  },
  {
   "cell_type": "code",
   "execution_count": 51,
   "id": "ae4f225c",
   "metadata": {},
   "outputs": [
    {
     "data": {
      "text/html": [
       "<div>\n",
       "<style scoped>\n",
       "    .dataframe tbody tr th:only-of-type {\n",
       "        vertical-align: middle;\n",
       "    }\n",
       "\n",
       "    .dataframe tbody tr th {\n",
       "        vertical-align: top;\n",
       "    }\n",
       "\n",
       "    .dataframe thead th {\n",
       "        text-align: right;\n",
       "    }\n",
       "</style>\n",
       "<table border=\"1\" class=\"dataframe\">\n",
       "  <thead>\n",
       "    <tr style=\"text-align: right;\">\n",
       "      <th></th>\n",
       "      <th>name</th>\n",
       "      <th>usage (kWh)</th>\n",
       "    </tr>\n",
       "  </thead>\n",
       "  <tbody>\n",
       "    <tr>\n",
       "      <th>1</th>\n",
       "      <td>아파트1-103-606</td>\n",
       "      <td>398</td>\n",
       "    </tr>\n",
       "    <tr>\n",
       "      <th>2</th>\n",
       "      <td>아파트1-104-705</td>\n",
       "      <td>84</td>\n",
       "    </tr>\n",
       "    <tr>\n",
       "      <th>3</th>\n",
       "      <td>아파트1-101-303</td>\n",
       "      <td>356</td>\n",
       "    </tr>\n",
       "    <tr>\n",
       "      <th>4</th>\n",
       "      <td>아파트3-101-603</td>\n",
       "      <td>196</td>\n",
       "    </tr>\n",
       "    <tr>\n",
       "      <th>5</th>\n",
       "      <td>아파트3-102-305</td>\n",
       "      <td>204</td>\n",
       "    </tr>\n",
       "    <tr>\n",
       "      <th>6</th>\n",
       "      <td>아파트1-103-1706</td>\n",
       "      <td>336</td>\n",
       "    </tr>\n",
       "    <tr>\n",
       "      <th>7</th>\n",
       "      <td>아파트2-2-1301</td>\n",
       "      <td>141</td>\n",
       "    </tr>\n",
       "    <tr>\n",
       "      <th>8</th>\n",
       "      <td>아파트3-103-707</td>\n",
       "      <td>204</td>\n",
       "    </tr>\n",
       "    <tr>\n",
       "      <th>9</th>\n",
       "      <td>아파트3-103-2018</td>\n",
       "      <td>216</td>\n",
       "    </tr>\n",
       "    <tr>\n",
       "      <th>11</th>\n",
       "      <td>아파트1-102-404</td>\n",
       "      <td>306</td>\n",
       "    </tr>\n",
       "  </tbody>\n",
       "</table>\n",
       "</div>"
      ],
      "text/plain": [
       "             name  usage (kWh)\n",
       "1    아파트1-103-606          398\n",
       "2    아파트1-104-705           84\n",
       "3    아파트1-101-303          356\n",
       "4    아파트3-101-603          196\n",
       "5    아파트3-102-305          204\n",
       "6   아파트1-103-1706          336\n",
       "7     아파트2-2-1301          141\n",
       "8    아파트3-103-707          204\n",
       "9   아파트3-103-2018          216\n",
       "11   아파트1-102-404          306"
      ]
     },
     "execution_count": 51,
     "metadata": {},
     "output_type": "execute_result"
    }
   ],
   "source": [
    "col_month_df = month_df[month_df['usage (kWh)'] >= chk_min_kWh]\n",
    "\n",
    "col_month_df.head(10)"
   ]
  },
  {
   "cell_type": "markdown",
   "id": "b6161bc2",
   "metadata": {},
   "source": [
    "### 기본요금"
   ]
  },
  {
   "cell_type": "code",
   "execution_count": 52,
   "id": "697f7acd",
   "metadata": {},
   "outputs": [
    {
     "name": "stdout",
     "output_type": "stream",
     "text": [
      "세대부 토탈 액 384,990원\n"
     ]
    },
    {
     "data": {
      "text/html": [
       "<div>\n",
       "<style scoped>\n",
       "    .dataframe tbody tr th:only-of-type {\n",
       "        vertical-align: middle;\n",
       "    }\n",
       "\n",
       "    .dataframe tbody tr th {\n",
       "        vertical-align: top;\n",
       "    }\n",
       "\n",
       "    .dataframe thead th {\n",
       "        text-align: right;\n",
       "    }\n",
       "</style>\n",
       "<table border=\"1\" class=\"dataframe\">\n",
       "  <thead>\n",
       "    <tr style=\"text-align: right;\">\n",
       "      <th></th>\n",
       "      <th>가구 수</th>\n",
       "      <th>기본요금</th>\n",
       "      <th>토탈</th>\n",
       "    </tr>\n",
       "  </thead>\n",
       "  <tbody>\n",
       "    <tr>\n",
       "      <th>1 단계</th>\n",
       "      <td>105</td>\n",
       "      <td>730</td>\n",
       "      <td>76650</td>\n",
       "    </tr>\n",
       "    <tr>\n",
       "      <th>2 단계</th>\n",
       "      <td>187</td>\n",
       "      <td>1260</td>\n",
       "      <td>235620</td>\n",
       "    </tr>\n",
       "    <tr>\n",
       "      <th>3 단계</th>\n",
       "      <td>12</td>\n",
       "      <td>6060</td>\n",
       "      <td>72720</td>\n",
       "    </tr>\n",
       "  </tbody>\n",
       "</table>\n",
       "</div>"
      ],
      "text/plain": [
       "     가구 수  기본요금      토탈\n",
       "1 단계  105   730   76650\n",
       "2 단계  187  1260  235620\n",
       "3 단계   12  6060   72720"
      ]
     },
     "execution_count": 52,
     "metadata": {},
     "output_type": "execute_result"
    }
   ],
   "source": [
    "nugin_dist = pd.DataFrame(columns=['가구 수'])\n",
    "\n",
    "for step, _f in enumerate(fee):\n",
    "    now_kWh = _f[0]\n",
    "    if step < 2:\n",
    "        next_kWh = fee[step + 1][0]\n",
    "        count = len(col_month_df[(col_month_df['usage (kWh)'] >= now_kWh) &\\\n",
    "                             (col_month_df['usage (kWh)'] < next_kWh)])\n",
    "        nugin_dist.loc['{} 단계'.format(step + 1)] = [count]\n",
    "                    \n",
    "    else:\n",
    "        count = len(col_month_df[col_month_df['usage (kWh)'] >= now_kWh])\n",
    "        nugin_dist.loc['{} 단계'.format(step + 1)] = [count]\n",
    "\n",
    "nugin_dist['기본요금'] = [_[2] for _ in fee]\n",
    "nugin_dist['토탈'] = nugin_dist['가구 수'] * nugin_dist['기본요금']\n",
    "\n",
    "print(\"세대부 토탈 액 {}원\".format(format(nugin_dist['토탈'].sum(), \",\")))\n",
    "nugin_dist.head()"
   ]
  },
  {
   "cell_type": "code",
   "execution_count": 53,
   "id": "f5ab3e2c",
   "metadata": {},
   "outputs": [
    {
     "name": "stdout",
     "output_type": "stream",
     "text": [
      "APT 토탈 액 498,960원\n",
      "공용부 기본요금 113,970원\n"
     ]
    }
   ],
   "source": [
    "for step, _f in enumerate(fee):\n",
    "    if APT_mean < _f[1]:\n",
    "        apt_step = step\n",
    "        apt_basic = _f[2] * households_count\n",
    "        break\n",
    "\n",
    "print(\"APT 토탈 액 {}원\".format(format(apt_basic, \",\")))\n",
    "public_basic = apt_basic - nugin_dist['토탈'].sum()\n",
    "print(\"공용부 기본요금 {}원\".format(format(public_basic, \",\")))"
   ]
  },
  {
   "cell_type": "markdown",
   "id": "02792512",
   "metadata": {},
   "source": [
    "### 전력량요금"
   ]
  },
  {
   "cell_type": "code",
   "execution_count": 62,
   "id": "29db53ae",
   "metadata": {},
   "outputs": [
    {
     "data": {
      "text/html": [
       "<div>\n",
       "<style scoped>\n",
       "    .dataframe tbody tr th:only-of-type {\n",
       "        vertical-align: middle;\n",
       "    }\n",
       "\n",
       "    .dataframe tbody tr th {\n",
       "        vertical-align: top;\n",
       "    }\n",
       "\n",
       "    .dataframe thead th {\n",
       "        text-align: right;\n",
       "    }\n",
       "</style>\n",
       "<table border=\"1\" class=\"dataframe\">\n",
       "  <thead>\n",
       "    <tr style=\"text-align: right;\">\n",
       "      <th></th>\n",
       "      <th>name</th>\n",
       "      <th>usage (kWh)</th>\n",
       "    </tr>\n",
       "  </thead>\n",
       "  <tbody>\n",
       "    <tr>\n",
       "      <th>0</th>\n",
       "      <td>아파트1-104-1208</td>\n",
       "      <td>0</td>\n",
       "    </tr>\n",
       "    <tr>\n",
       "      <th>1</th>\n",
       "      <td>아파트1-103-606</td>\n",
       "      <td>398</td>\n",
       "    </tr>\n",
       "    <tr>\n",
       "      <th>2</th>\n",
       "      <td>아파트1-104-705</td>\n",
       "      <td>84</td>\n",
       "    </tr>\n",
       "    <tr>\n",
       "      <th>3</th>\n",
       "      <td>아파트1-101-303</td>\n",
       "      <td>356</td>\n",
       "    </tr>\n",
       "    <tr>\n",
       "      <th>4</th>\n",
       "      <td>아파트3-101-603</td>\n",
       "      <td>196</td>\n",
       "    </tr>\n",
       "  </tbody>\n",
       "</table>\n",
       "</div>"
      ],
      "text/plain": [
       "            name  usage (kWh)\n",
       "0  아파트1-104-1208            0\n",
       "1   아파트1-103-606          398\n",
       "2   아파트1-104-705           84\n",
       "3   아파트1-101-303          356\n",
       "4   아파트3-101-603          196"
      ]
     },
     "execution_count": 62,
     "metadata": {},
     "output_type": "execute_result"
    }
   ],
   "source": [
    "er_calc_df = month_df.copy()\n",
    "new_usage_sr = er_calc_df['usage (kWh)']\n",
    "new_usage_sr[new_usage_sr < chk_min_kWh] = 0\n",
    "new_usage_sr\n",
    "\n",
    "er_calc_df['usage (kWh)'] = new_usage_sr\n",
    "er_calc_df.head()"
   ]
  },
  {
   "cell_type": "markdown",
   "id": "f8723d3c",
   "metadata": {},
   "source": [
    "#### 전력량요금 수거현황판"
   ]
  },
  {
   "cell_type": "code",
   "execution_count": 64,
   "id": "2c661bda",
   "metadata": {},
   "outputs": [
    {
     "data": {
      "image/png": "[encoded data removed]",
      "text/plain": [
       "<Figure size 1296x288 with 3 Axes>"
      ]
     },
     "metadata": {
      "needs_background": "light"
     },
     "output_type": "display_data"
    }
   ],
   "source": [
    "plt.figure(figsize=(18,4))\n",
    "\n",
    "# 수거현황\n",
    "ax_1 = plt.subplot(1,3,1)\n",
    "\n",
    "ax_1.bar(range(0, len(month_df)), APT_mean, color='r')\n",
    "ax_1.bar(range(0, len(month_df)), er_calc_df['usage (kWh)'], color='b')\n",
    "\n",
    "ax_1.axhline(200, color='yellow')\n",
    "ax_1.axhline(400, color='orange')\n",
    "\n",
    "ax_1.set_title(\"수거 현황\")\n",
    "ax_1.legend([\"누진 2단계 시작\",\"누진 3단계 시작\",'수거 필요 사용량', '가구별 수거 사용량'], loc='upper right')\n",
    "\n",
    "# 잉여사용량\n",
    "ax_2 = plt.subplot(1,3,2)\n",
    "\n",
    "ax_2.bar(range(0, len(month_df)), APT_mean, color='r')\n",
    "ax_2.bar(range(0, len(month_df)), er_calc_df['usage (kWh)'], color='white')\n",
    "\n",
    "ax_2.axhline(200, color='yellow')\n",
    "ax_2.axhline(400, color='orange')\n",
    "ax_2.legend([\"누진 2단계 시작\",\"누진 3단계 시작\"], loc='upper right')\n",
    "\n",
    "ax_2.set_title(\"잉여사용량\")\n",
    "\n",
    "# 초과수거 사용량\n",
    "ax_3 = plt.subplot(1,3,3)\n",
    "\n",
    "ax_3.bar(range(0, len(month_df)), er_calc_df['usage (kWh)'], color='b')\n",
    "ax_3.bar(range(0, len(month_df)), APT_mean, color='white')\n",
    "\n",
    "ax_3.axhline(200, color='yellow')\n",
    "ax_3.axhline(400, color='orange')\n",
    "ax_3.legend([\"누진 2단계 시작\",\"누진 3단계 시작\"], loc='upper right')\n",
    "\n",
    "ax_3.set_title(\"초과수거 사용량\")\n",
    "\n",
    "plt.show()"
   ]
  },
  {
   "cell_type": "markdown",
   "id": "95a3c1e7",
   "metadata": {},
   "source": [
    "#### 전력량요금 수거현황 Table"
   ]
  },
  {
   "cell_type": "code",
   "execution_count": 66,
   "id": "ec24e0a7",
   "metadata": {},
   "outputs": [
    {
     "data": {
      "text/html": [
       "<div>\n",
       "<style scoped>\n",
       "    .dataframe tbody tr th:only-of-type {\n",
       "        vertical-align: middle;\n",
       "    }\n",
       "\n",
       "    .dataframe tbody tr th {\n",
       "        vertical-align: top;\n",
       "    }\n",
       "\n",
       "    .dataframe thead th {\n",
       "        text-align: right;\n",
       "    }\n",
       "</style>\n",
       "<table border=\"1\" class=\"dataframe\">\n",
       "  <thead>\n",
       "    <tr style=\"text-align: right;\">\n",
       "      <th></th>\n",
       "      <th>누진 1단계</th>\n",
       "      <th>누진 2단계</th>\n",
       "      <th>누진 3단계</th>\n",
       "    </tr>\n",
       "  </thead>\n",
       "  <tbody>\n",
       "    <tr>\n",
       "      <th>수거 필요 사용량</th>\n",
       "      <td>79200</td>\n",
       "      <td>11088</td>\n",
       "      <td>0</td>\n",
       "    </tr>\n",
       "    <tr>\n",
       "      <th>수거 사용량</th>\n",
       "      <td>54019</td>\n",
       "      <td>17167</td>\n",
       "      <td>415</td>\n",
       "    </tr>\n",
       "    <tr>\n",
       "      <th>잉여 사용량</th>\n",
       "      <td>25181</td>\n",
       "      <td>5980</td>\n",
       "      <td>0</td>\n",
       "    </tr>\n",
       "    <tr>\n",
       "      <th>초과수거 사용량</th>\n",
       "      <td>0</td>\n",
       "      <td>12059</td>\n",
       "      <td>415</td>\n",
       "    </tr>\n",
       "  </tbody>\n",
       "</table>\n",
       "</div>"
      ],
      "text/plain": [
       "           누진 1단계  누진 2단계  누진 3단계\n",
       "수거 필요 사용량   79200   11088       0\n",
       " 수거 사용량     54019   17167     415\n",
       "잉여 사용량      25181    5980       0\n",
       "초과수거 사용량        0   12059     415"
      ]
     },
     "execution_count": 66,
     "metadata": {},
     "output_type": "execute_result"
    }
   ],
   "source": [
    "all_col_needed = np.array(get_col_list(APT_mean, calc.fee)) * len(month_df)\n",
    "col_households = np.array([get_col_list(usage, calc.fee) for usage in er_calc_df['usage (kWh)']]).sum(axis=0)\n",
    "\n",
    "col_needed = np.array(get_col_list(APT_mean, calc.fee))\n",
    "surplus_col = np.zeros(3)\n",
    "excess_col = np.zeros(3)\n",
    "\n",
    "for usage in er_calc_df['usage (kWh)']:\n",
    "    col_chk = col_needed - get_col_list(usage, calc.fee)\n",
    "    \n",
    "    for idx, chk in enumerate(col_chk):\n",
    "        if chk > 0:\n",
    "            surplus_col[idx] += chk\n",
    "        else:\n",
    "            excess_col[idx] += abs(chk)\n",
    "            \n",
    "er_info = pd.DataFrame(np.array([all_col_needed, col_households,\n",
    "         surplus_col, excess_col]).reshape(-1, 3).astype(\"int\"), columns=['누진 1단계', '누진 2단계', '누진 3단계'],\n",
    "            index=['수거 필요 사용량',' 수거 사용량', '잉여 사용량', '초과수거 사용량'])\n",
    "er_info.head()"
   ]
  },
  {
   "cell_type": "code",
   "execution_count": 67,
   "id": "ce33b1aa",
   "metadata": {},
   "outputs": [
    {
     "data": {
      "text/plain": [
       "893326"
      ]
     },
     "execution_count": 67,
     "metadata": {},
     "output_type": "execute_result"
    }
   ],
   "source": [
    "elec_rate_fee = np.array([_[3] for _ in fee])\n",
    "\n",
    "er_1 = (er_info.loc['잉여 사용량'].values * elec_rate_fee).round()\n",
    "er_2 = (er_info.loc['초과수거 사용량'].values * elec_rate_fee).round()\n",
    "\n",
    "public_elec_rate = int(er_1.sum() - er_2.sum())\n",
    "public_elec_rate"
   ]
  },
  {
   "cell_type": "markdown",
   "id": "c2e99ec8",
   "metadata": {},
   "source": [
    "### 기후환경요금, 연료비조정액 예측"
   ]
  },
  {
   "cell_type": "code",
   "execution_count": 72,
   "id": "4884d2b5",
   "metadata": {},
   "outputs": [],
   "source": [
    "households_kWh = col_month_df['usage (kWh)'].sum()"
   ]
  },
  {
   "cell_type": "code",
   "execution_count": 73,
   "id": "7de15120",
   "metadata": {},
   "outputs": [
    {
     "name": "stdout",
     "output_type": "stream",
     "text": [
      "\n"
     ]
    },
    {
     "data": {
      "text/markdown": [
       "공용부 기후환경요금 = (90,279kWh(APT 총 사용량) - 71,601kWh(세대부 총 사용량)) * 5.3원 = **98,993원**"
      ],
      "text/plain": [
       "<IPython.core.display.Markdown object>"
      ]
     },
     "metadata": {},
     "output_type": "display_data"
    },
    {
     "data": {
      "text/markdown": [
       "공용부 연료비조정액 = (90,279kWh(APT 총 사용량) - 71,601kWh(세대부 총 사용량)) * 3원 = **-56,034원**"
      ],
      "text/plain": [
       "<IPython.core.display.Markdown object>"
      ]
     },
     "metadata": {},
     "output_type": "display_data"
    },
    {
     "name": "stdout",
     "output_type": "stream",
     "text": [
      "\n"
     ]
    }
   ],
   "source": [
    "public_env = round((APT - households_kWh) * 5.3)\n",
    "public_fuel = round((APT - households_kWh) * 3) * -1\n",
    "\n",
    "print()\n",
    "display(Markdown(\"공용부 기후환경요금 = ({}kWh(APT 총 사용량) - {}kWh(세대부 총 사용량)) * 5.3원 = **{}원**\".format(\n",
    "    format(APT, \",\"),\n",
    "    format(households_kWh, \",\"),\n",
    "    format(public_env, \",\")\n",
    ")))\n",
    "display(Markdown(\"공용부 연료비조정액 = ({}kWh(APT 총 사용량) - {}kWh(세대부 총 사용량)) * 3원 = **{}원**\".format(\n",
    "    format(APT, \",\"),\n",
    "    format(households_kWh, \",\"),\n",
    "    format(public_fuel, \",\")\n",
    ")))\n",
    "print()"
   ]
  },
  {
   "cell_type": "markdown",
   "id": "5c540a0d",
   "metadata": {},
   "source": [
    "### 필수사용량보장공제"
   ]
  },
  {
   "cell_type": "code",
   "execution_count": 77,
   "id": "30f6cc24",
   "metadata": {},
   "outputs": [
    {
     "data": {
      "text/plain": [
       "262500"
      ]
     },
     "execution_count": 77,
     "metadata": {},
     "output_type": "execute_result"
    }
   ],
   "source": [
    "guarantee_cnt = len(col_month_df[col_month_df['usage (kWh)'] <= 200])\n",
    "guarantee_cnt\n",
    "\n",
    "guarantee = guarantee_cnt * 2500\n",
    "guarantee"
   ]
  },
  {
   "cell_type": "markdown",
   "id": "0e97c08b",
   "metadata": {},
   "source": [
    "### 최저요금가구"
   ]
  },
  {
   "cell_type": "code",
   "execution_count": 81,
   "id": "e4a31d43",
   "metadata": {},
   "outputs": [
    {
     "data": {
      "text/plain": [
       "92000"
      ]
     },
     "execution_count": 81,
     "metadata": {},
     "output_type": "execute_result"
    }
   ],
   "source": [
    "min_fee = len(min_households) * 1000\n",
    "\n",
    "min_fee"
   ]
  },
  {
   "cell_type": "markdown",
   "id": "08efa733",
   "metadata": {},
   "source": [
    "### 전기요금계 예측"
   ]
  },
  {
   "cell_type": "code",
   "execution_count": 82,
   "id": "f2ea946d",
   "metadata": {},
   "outputs": [
    {
     "data": {
      "text/html": [
       "<div>\n",
       "<style scoped>\n",
       "    .dataframe tbody tr th:only-of-type {\n",
       "        vertical-align: middle;\n",
       "    }\n",
       "\n",
       "    .dataframe tbody tr th {\n",
       "        vertical-align: top;\n",
       "    }\n",
       "\n",
       "    .dataframe thead th {\n",
       "        text-align: right;\n",
       "    }\n",
       "</style>\n",
       "<table border=\"1\" class=\"dataframe\">\n",
       "  <thead>\n",
       "    <tr style=\"text-align: right;\">\n",
       "      <th></th>\n",
       "      <th>기본요금</th>\n",
       "      <th>전력량요금</th>\n",
       "      <th>기후환경요금</th>\n",
       "      <th>연료비조정액</th>\n",
       "      <th>필수사용량보장공제</th>\n",
       "      <th>최저요금</th>\n",
       "      <th>전기요금계</th>\n",
       "      <th>부가가치세</th>\n",
       "      <th>전력산업기반기금</th>\n",
       "      <th>최종청구금액</th>\n",
       "    </tr>\n",
       "  </thead>\n",
       "  <tbody>\n",
       "    <tr>\n",
       "      <th>공용부</th>\n",
       "      <td>113970</td>\n",
       "      <td>893326</td>\n",
       "      <td>98993</td>\n",
       "      <td>-56034</td>\n",
       "      <td>262500</td>\n",
       "      <td>-92000</td>\n",
       "      <td>1220755</td>\n",
       "      <td>122075.5</td>\n",
       "      <td>45167.935</td>\n",
       "      <td>1387998.435</td>\n",
       "    </tr>\n",
       "  </tbody>\n",
       "</table>\n",
       "</div>"
      ],
      "text/plain": [
       "       기본요금   전력량요금  기후환경요금  연료비조정액  필수사용량보장공제   최저요금    전기요금계     부가가치세  \\\n",
       "공용부  113970  893326   98993  -56034     262500 -92000  1220755  122075.5   \n",
       "\n",
       "      전력산업기반기금       최종청구금액  \n",
       "공용부  45167.935  1387998.435  "
      ]
     },
     "execution_count": 82,
     "metadata": {},
     "output_type": "execute_result"
    }
   ],
   "source": [
    "elec_bill = pd.DataFrame([public_basic, public_elec_rate, public_env, public_fuel,\n",
    "                         guarantee, min_fee * -1]).T\n",
    "\n",
    "elec_bill.columns=['기본요금', '전력량요금', '기후환경요금', '연료비조정액', '필수사용량보장공제', '최저요금']\n",
    "elec_bill.index = ['공용부']\n",
    "\n",
    "elec_bill['전기요금계'] = elec_bill.sum(axis=1)\n",
    "elec_bill['부가가치세'] = elec_bill['전기요금계'] * 0.1\n",
    "elec_bill['전력산업기반기금'] = elec_bill['전기요금계'] * 0.037\n",
    "elec_bill['최종청구금액'] = elec_bill[['전기요금계','부가가치세','전력산업기반기금']].sum(axis=1)\n",
    "\n",
    "elec_bill.head()"
   ]
  },
  {
   "cell_type": "code",
   "execution_count": 83,
   "id": "ea6e6bbc",
   "metadata": {},
   "outputs": [
    {
     "name": "stdout",
     "output_type": "stream",
     "text": [
      "\n"
     ]
    },
    {
     "data": {
      "text/markdown": [
       "공용부 예측 최종청구금액 : **1,387,998.435원**"
      ],
      "text/plain": [
       "<IPython.core.display.Markdown object>"
      ]
     },
     "metadata": {},
     "output_type": "display_data"
    },
    {
     "data": {
      "text/markdown": [
       "공용부 실제 최종청구금액 : **1,391,330원**"
      ],
      "text/plain": [
       "<IPython.core.display.Markdown object>"
      ]
     },
     "metadata": {},
     "output_type": "display_data"
    },
    {
     "data": {
      "text/markdown": [
       "오차 : **3,331.564999999944원**"
      ],
      "text/plain": [
       "<IPython.core.display.Markdown object>"
      ]
     },
     "metadata": {},
     "output_type": "display_data"
    },
    {
     "name": "stdout",
     "output_type": "stream",
     "text": [
      "\n"
     ]
    }
   ],
   "source": [
    "print()\n",
    "display(Markdown(\"공용부 예측 최종청구금액 : **{}원**\".format(format(elec_bill['최종청구금액'].values[0], \",\"))))\n",
    "display(Markdown(\"공용부 실제 최종청구금액 : **{}원**\".format(format(calc.public_bill, \",\"))))\n",
    "display(Markdown(\"오차 : **{}원**\".format(format(abs(calc.public_bill - elec_bill['최종청구금액'].values[0]), \",\"))))\n",
    "print()"
   ]
  }
 ],
 "metadata": {
  "kernelspec": {
   "display_name": "Python 3 (ipykernel)",
   "language": "python",
   "name": "python3"
  },
  "language_info": {
   "codemirror_mode": {
    "name": "ipython",
    "version": 3
   },
   "file_extension": ".py",
   "mimetype": "text/x-python",
   "name": "python",
   "nbconvert_exporter": "python",
   "pygments_lexer": "ipython3",
   "version": "3.8.12"
  }
 },
 "nbformat": 4,
 "nbformat_minor": 5
}
