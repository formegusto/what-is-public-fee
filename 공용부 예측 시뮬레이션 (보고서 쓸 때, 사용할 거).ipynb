{
 "cells": [
  {
   "cell_type": "code",
   "execution_count": 363,
   "id": "5efc1966",
   "metadata": {},
   "outputs": [
    {
     "name": "stdout",
     "output_type": "stream",
     "text": [
      "The autoreload extension is already loaded. To reload it, use:\n",
      "  %reload_ext autoreload\n"
     ]
    }
   ],
   "source": [
    "%load_ext autoreload\n",
    "%autoreload 2\n",
    "%reload_ext autoreload"
   ]
  },
  {
   "cell_type": "code",
   "execution_count": 364,
   "id": "ce04e881",
   "metadata": {},
   "outputs": [],
   "source": [
    "import pandas as pd\n",
    "import numpy as np\n",
    "%matplotlib inline\n",
    "import matplotlib\n",
    "import matplotlib.pyplot as plt\n",
    "import math as mt\n",
    "import datetime as dt\n",
    "from sklearn.cluster import KMeans\n",
    "import random as ran\n",
    "from sklearn.metrics.pairwise import euclidean_distances as euc\n",
    "from functools import reduce\n",
    "\n",
    "# 한글출력\n",
    "matplotlib.rc('font', family='AppleGothic')\n",
    "plt.rcParams['axes.unicode_minus'] = False\n",
    "\n",
    "from src import crs\n",
    "from IPython.display import clear_output, Markdown, display"
   ]
  },
  {
   "cell_type": "code",
   "execution_count": 365,
   "id": "d3f50f93",
   "metadata": {},
   "outputs": [],
   "source": [
    "# 1. load_excel\n",
    "data_path = \"data/apt_1.xlsx\"\n",
    "xlsx = pd.read_excel(data_path, header=None,\n",
    "                     skiprows=2, engine=\"openpyxl\")"
   ]
  },
  {
   "cell_type": "code",
   "execution_count": 366,
   "id": "19941235",
   "metadata": {},
   "outputs": [
    {
     "name": "stderr",
     "output_type": "stream",
     "text": [
      "/Users/formegusto/Desktop/idoformegusto/development/research/what-is-public-fee/src/crs/utils/data_preprocessing.py:26: PerformanceWarning: DataFrame is highly fragmented.  This is usually the result of calling `frame.insert` many times, which has poor performance.  Consider joining all columns at once using pd.concat(axis=1) instead.  To get a de-fragmented frame, use `newframe = frame.copy()`\n",
      "  datas_df[household_name] = household_df[col][3:].to_list()\n",
      "/Users/formegusto/Desktop/idoformegusto/development/research/what-is-public-fee/src/crs/utils/data_preprocessing.py:49: PerformanceWarning: DataFrame is highly fragmented.  This is usually the result of calling `frame.insert` many times, which has poor performance.  Consider joining all columns at once using pd.concat(axis=1) instead.  To get a de-fragmented frame, use `newframe = frame.copy()`\n",
      "  month_usage_df[name] = [\n"
     ]
    },
    {
     "data": {
      "text/html": [
       "<div>\n",
       "<style scoped>\n",
       "    .dataframe tbody tr th:only-of-type {\n",
       "        vertical-align: middle;\n",
       "    }\n",
       "\n",
       "    .dataframe tbody tr th {\n",
       "        vertical-align: top;\n",
       "    }\n",
       "\n",
       "    .dataframe thead th {\n",
       "        text-align: right;\n",
       "    }\n",
       "</style>\n",
       "<table border=\"1\" class=\"dataframe\">\n",
       "  <thead>\n",
       "    <tr style=\"text-align: right;\">\n",
       "      <th></th>\n",
       "      <th>아파트1-101-1002</th>\n",
       "      <th>아파트1-101-104</th>\n",
       "      <th>아파트1-101-1102</th>\n",
       "      <th>아파트1-101-1202</th>\n",
       "      <th>아파트1-101-1302</th>\n",
       "      <th>아파트1-101-1401</th>\n",
       "      <th>아파트1-101-1403</th>\n",
       "      <th>아파트1-101-1502</th>\n",
       "      <th>아파트1-101-1504</th>\n",
       "      <th>아파트1-101-1602</th>\n",
       "      <th>...</th>\n",
       "      <th>아파트1-104-303</th>\n",
       "      <th>아파트1-104-404</th>\n",
       "      <th>아파트1-104-408</th>\n",
       "      <th>아파트1-104-503</th>\n",
       "      <th>아파트1-104-507</th>\n",
       "      <th>아파트1-104-606</th>\n",
       "      <th>아파트1-104-705</th>\n",
       "      <th>아파트1-104-708</th>\n",
       "      <th>아파트1-104-902</th>\n",
       "      <th>아파트1-104-905</th>\n",
       "    </tr>\n",
       "    <tr>\n",
       "      <th>month</th>\n",
       "      <th></th>\n",
       "      <th></th>\n",
       "      <th></th>\n",
       "      <th></th>\n",
       "      <th></th>\n",
       "      <th></th>\n",
       "      <th></th>\n",
       "      <th></th>\n",
       "      <th></th>\n",
       "      <th></th>\n",
       "      <th></th>\n",
       "      <th></th>\n",
       "      <th></th>\n",
       "      <th></th>\n",
       "      <th></th>\n",
       "      <th></th>\n",
       "      <th></th>\n",
       "      <th></th>\n",
       "      <th></th>\n",
       "      <th></th>\n",
       "      <th></th>\n",
       "    </tr>\n",
       "  </thead>\n",
       "  <tbody>\n",
       "    <tr>\n",
       "      <th>1</th>\n",
       "      <td>253</td>\n",
       "      <td>689</td>\n",
       "      <td>183</td>\n",
       "      <td>239</td>\n",
       "      <td>455</td>\n",
       "      <td>343</td>\n",
       "      <td>380</td>\n",
       "      <td>219</td>\n",
       "      <td>389</td>\n",
       "      <td>350</td>\n",
       "      <td>...</td>\n",
       "      <td>10</td>\n",
       "      <td>111</td>\n",
       "      <td>39</td>\n",
       "      <td>151</td>\n",
       "      <td>181</td>\n",
       "      <td>180</td>\n",
       "      <td>290</td>\n",
       "      <td>184</td>\n",
       "      <td>176</td>\n",
       "      <td>148</td>\n",
       "    </tr>\n",
       "    <tr>\n",
       "      <th>2</th>\n",
       "      <td>251</td>\n",
       "      <td>481</td>\n",
       "      <td>177</td>\n",
       "      <td>218</td>\n",
       "      <td>397</td>\n",
       "      <td>297</td>\n",
       "      <td>339</td>\n",
       "      <td>197</td>\n",
       "      <td>348</td>\n",
       "      <td>288</td>\n",
       "      <td>...</td>\n",
       "      <td>77</td>\n",
       "      <td>107</td>\n",
       "      <td>30</td>\n",
       "      <td>114</td>\n",
       "      <td>151</td>\n",
       "      <td>151</td>\n",
       "      <td>263</td>\n",
       "      <td>177</td>\n",
       "      <td>158</td>\n",
       "      <td>127</td>\n",
       "    </tr>\n",
       "    <tr>\n",
       "      <th>3</th>\n",
       "      <td>255</td>\n",
       "      <td>424</td>\n",
       "      <td>203</td>\n",
       "      <td>222</td>\n",
       "      <td>378</td>\n",
       "      <td>303</td>\n",
       "      <td>349</td>\n",
       "      <td>202</td>\n",
       "      <td>357</td>\n",
       "      <td>368</td>\n",
       "      <td>...</td>\n",
       "      <td>77</td>\n",
       "      <td>120</td>\n",
       "      <td>28</td>\n",
       "      <td>116</td>\n",
       "      <td>163</td>\n",
       "      <td>157</td>\n",
       "      <td>281</td>\n",
       "      <td>182</td>\n",
       "      <td>171</td>\n",
       "      <td>127</td>\n",
       "    </tr>\n",
       "    <tr>\n",
       "      <th>4</th>\n",
       "      <td>252</td>\n",
       "      <td>355</td>\n",
       "      <td>180</td>\n",
       "      <td>230</td>\n",
       "      <td>368</td>\n",
       "      <td>278</td>\n",
       "      <td>298</td>\n",
       "      <td>188</td>\n",
       "      <td>346</td>\n",
       "      <td>365</td>\n",
       "      <td>...</td>\n",
       "      <td>76</td>\n",
       "      <td>64</td>\n",
       "      <td>58</td>\n",
       "      <td>109</td>\n",
       "      <td>151</td>\n",
       "      <td>148</td>\n",
       "      <td>257</td>\n",
       "      <td>175</td>\n",
       "      <td>140</td>\n",
       "      <td>121</td>\n",
       "    </tr>\n",
       "    <tr>\n",
       "      <th>5</th>\n",
       "      <td>230</td>\n",
       "      <td>357</td>\n",
       "      <td>258</td>\n",
       "      <td>203</td>\n",
       "      <td>414</td>\n",
       "      <td>270</td>\n",
       "      <td>418</td>\n",
       "      <td>156</td>\n",
       "      <td>320</td>\n",
       "      <td>265</td>\n",
       "      <td>...</td>\n",
       "      <td>150</td>\n",
       "      <td>63</td>\n",
       "      <td>75</td>\n",
       "      <td>137</td>\n",
       "      <td>115</td>\n",
       "      <td>13</td>\n",
       "      <td>84</td>\n",
       "      <td>149</td>\n",
       "      <td>36</td>\n",
       "      <td>117</td>\n",
       "    </tr>\n",
       "  </tbody>\n",
       "</table>\n",
       "<p>5 rows × 108 columns</p>\n",
       "</div>"
      ],
      "text/plain": [
       "       아파트1-101-1002  아파트1-101-104  아파트1-101-1102  아파트1-101-1202  \\\n",
       "month                                                              \n",
       "1                253           689            183            239   \n",
       "2                251           481            177            218   \n",
       "3                255           424            203            222   \n",
       "4                252           355            180            230   \n",
       "5                230           357            258            203   \n",
       "\n",
       "       아파트1-101-1302  아파트1-101-1401  아파트1-101-1403  아파트1-101-1502  \\\n",
       "month                                                               \n",
       "1                455            343            380            219   \n",
       "2                397            297            339            197   \n",
       "3                378            303            349            202   \n",
       "4                368            278            298            188   \n",
       "5                414            270            418            156   \n",
       "\n",
       "       아파트1-101-1504  아파트1-101-1602  ...  아파트1-104-303  아파트1-104-404  \\\n",
       "month                                ...                               \n",
       "1                389            350  ...            10           111   \n",
       "2                348            288  ...            77           107   \n",
       "3                357            368  ...            77           120   \n",
       "4                346            365  ...            76            64   \n",
       "5                320            265  ...           150            63   \n",
       "\n",
       "       아파트1-104-408  아파트1-104-503  아파트1-104-507  아파트1-104-606  아파트1-104-705  \\\n",
       "month                                                                         \n",
       "1                39           151           181           180           290   \n",
       "2                30           114           151           151           263   \n",
       "3                28           116           163           157           281   \n",
       "4                58           109           151           148           257   \n",
       "5                75           137           115            13            84   \n",
       "\n",
       "       아파트1-104-708  아파트1-104-902  아파트1-104-905  \n",
       "month                                            \n",
       "1               184           176           148  \n",
       "2               177           158           127  \n",
       "3               182           171           127  \n",
       "4               175           140           121  \n",
       "5               149            36           117  \n",
       "\n",
       "[5 rows x 108 columns]"
      ]
     },
     "execution_count": 366,
     "metadata": {},
     "output_type": "execute_result"
    }
   ],
   "source": [
    "# 2. data preprocessing\n",
    "p, m = crs.utils.data_preprocessing(xlsx)\n",
    "\n",
    "m.set_index(\"month\", inplace=True)\n",
    "m.head()"
   ]
  },
  {
   "cell_type": "markdown",
   "id": "678ce168",
   "metadata": {},
   "source": [
    "# 임의 가구 구성 셋팅"
   ]
  },
  {
   "cell_type": "code",
   "execution_count": 367,
   "id": "b2488579",
   "metadata": {},
   "outputs": [],
   "source": [
    "# _m = m.sample(n=50, axis=1)\n",
    "# _m = m[m.columns[:50]]\n",
    "\n",
    "_m = m.copy()"
   ]
  },
  {
   "cell_type": "markdown",
   "id": "e11b3bd5",
   "metadata": {},
   "source": [
    "# 초기 정보 셋팅\n",
    "- 월, 공용부 차지 percentage"
   ]
  },
  {
   "cell_type": "code",
   "execution_count": 369,
   "id": "ed909438",
   "metadata": {},
   "outputs": [
    {
     "data": {
      "text/markdown": [
       "**설정 월은 1월 입니다.**<br/>• 가구 수 : 108가구<br/>• APT 총 사용량 : 44,434kWh (평균사용량:411kWh)<br/>• 세대부 총 사용량 : 31,104kWh (평균사용량:288kWh)"
      ],
      "text/plain": [
       "<IPython.core.display.Markdown object>"
      ]
     },
     "metadata": {},
     "output_type": "display_data"
    },
    {
     "data": {
      "text/html": [
       "<div>\n",
       "<style scoped>\n",
       "    .dataframe tbody tr th:only-of-type {\n",
       "        vertical-align: middle;\n",
       "    }\n",
       "\n",
       "    .dataframe tbody tr th {\n",
       "        vertical-align: top;\n",
       "    }\n",
       "\n",
       "    .dataframe thead th {\n",
       "        text-align: right;\n",
       "    }\n",
       "</style>\n",
       "<table border=\"1\" class=\"dataframe\">\n",
       "  <thead>\n",
       "    <tr style=\"text-align: right;\">\n",
       "      <th></th>\n",
       "      <th>name</th>\n",
       "      <th>usage (kWh)</th>\n",
       "    </tr>\n",
       "  </thead>\n",
       "  <tbody>\n",
       "    <tr>\n",
       "      <th>0</th>\n",
       "      <td>아파트1-101-1002</td>\n",
       "      <td>253</td>\n",
       "    </tr>\n",
       "    <tr>\n",
       "      <th>1</th>\n",
       "      <td>아파트1-101-104</td>\n",
       "      <td>689</td>\n",
       "    </tr>\n",
       "    <tr>\n",
       "      <th>2</th>\n",
       "      <td>아파트1-101-1102</td>\n",
       "      <td>183</td>\n",
       "    </tr>\n",
       "    <tr>\n",
       "      <th>3</th>\n",
       "      <td>아파트1-101-1202</td>\n",
       "      <td>239</td>\n",
       "    </tr>\n",
       "    <tr>\n",
       "      <th>4</th>\n",
       "      <td>아파트1-101-1302</td>\n",
       "      <td>455</td>\n",
       "    </tr>\n",
       "  </tbody>\n",
       "</table>\n",
       "</div>"
      ],
      "text/plain": [
       "            name  usage (kWh)\n",
       "0  아파트1-101-1002          253\n",
       "1   아파트1-101-104          689\n",
       "2  아파트1-101-1102          183\n",
       "3  아파트1-101-1202          239\n",
       "4  아파트1-101-1302          455"
      ]
     },
     "execution_count": 369,
     "metadata": {},
     "output_type": "execute_result"
    }
   ],
   "source": [
    "_month = 1\n",
    "\n",
    "month_df = pd.DataFrame(_m.loc[_month])\n",
    "month_df.reset_index(inplace=True)\n",
    "\n",
    "month_df.columns = ['name', 'usage (kWh)']\n",
    "\n",
    "households_kWh = month_df['usage (kWh)'].sum()\n",
    "households_count = len(month_df)\n",
    "PUBLIC_PERCENTAGE = 30\n",
    "APT = round((households_kWh * 100) / (100 - PUBLIC_PERCENTAGE))\n",
    "\n",
    "APT_mean = round(APT / households_count)\n",
    "households_mean = round(month_df['usage (kWh)'].mean())\n",
    "\n",
    "display(Markdown(\n",
    "    \"**설정 월은 {}월 입니다.**<br/>\".format(_month) +\n",
    "    \"• 가구 수 : {}가구<br/>\".format(households_count) +\n",
    "    \"• APT 총 사용량 : {}kWh (평균사용량:{}kWh)<br/>\".format(format(APT,\",\"),\n",
    "                                                   APT_mean) +\n",
    "    \"• 세대부 총 사용량 : {}kWh (평균사용량:{}kWh)\".format(format(households_kWh, \",\"),\n",
    "                                              households_mean)\n",
    "))\n",
    "\n",
    "month_df.head()"
   ]
  },
  {
   "cell_type": "markdown",
   "id": "5dee17f0",
   "metadata": {},
   "source": [
    "# 청구서 셋팅"
   ]
  },
  {
   "cell_type": "code",
   "execution_count": 370,
   "id": "b4729507",
   "metadata": {},
   "outputs": [
    {
     "data": {
      "text/plain": [
       "[[0, 200, 730, 73.3], [201, 400, 1260, 142.3], [401, inf, 6060, 210.6]]"
      ]
     },
     "execution_count": 370,
     "metadata": {},
     "output_type": "execute_result"
    }
   ],
   "source": [
    "calc = crs.models.ManagementOffice(\n",
    "        month=_month,\n",
    "        households=month_df,\n",
    "        APT=APT,\n",
    "        contract=\"단일계약\"\n",
    "    )\n",
    "fee = calc.fee\n",
    "fee"
   ]
  },
  {
   "cell_type": "markdown",
   "id": "501bb6bd",
   "metadata": {},
   "source": [
    "# 기본요금 예측"
   ]
  },
  {
   "cell_type": "markdown",
   "id": "d947cfb2",
   "metadata": {},
   "source": [
    "## 누진단계 셋팅"
   ]
  },
  {
   "cell_type": "code",
   "execution_count": 371,
   "id": "a6d45399",
   "metadata": {},
   "outputs": [],
   "source": [
    "nugin_steps = [_[0] for _ in fee]\n",
    "nugin_basic = [_[2] for _ in fee]"
   ]
  },
  {
   "cell_type": "code",
   "execution_count": 372,
   "id": "604c92f1",
   "metadata": {},
   "outputs": [
    {
     "data": {
      "text/plain": [
       "[0, 201, 401]"
      ]
     },
     "execution_count": 372,
     "metadata": {},
     "output_type": "execute_result"
    }
   ],
   "source": [
    "nugin_steps"
   ]
  },
  {
   "cell_type": "markdown",
   "id": "841d141d",
   "metadata": {},
   "source": [
    "## 누진단계 분할"
   ]
  },
  {
   "cell_type": "code",
   "execution_count": 373,
   "id": "17422946",
   "metadata": {},
   "outputs": [
    {
     "data": {
      "text/html": [
       "<div>\n",
       "<style scoped>\n",
       "    .dataframe tbody tr th:only-of-type {\n",
       "        vertical-align: middle;\n",
       "    }\n",
       "\n",
       "    .dataframe tbody tr th {\n",
       "        vertical-align: top;\n",
       "    }\n",
       "\n",
       "    .dataframe thead th {\n",
       "        text-align: right;\n",
       "    }\n",
       "</style>\n",
       "<table border=\"1\" class=\"dataframe\">\n",
       "  <thead>\n",
       "    <tr style=\"text-align: right;\">\n",
       "      <th></th>\n",
       "      <th>가구 수</th>\n",
       "    </tr>\n",
       "  </thead>\n",
       "  <tbody>\n",
       "    <tr>\n",
       "      <th>1 단계</th>\n",
       "      <td>20</td>\n",
       "    </tr>\n",
       "    <tr>\n",
       "      <th>2 단계</th>\n",
       "      <td>73</td>\n",
       "    </tr>\n",
       "    <tr>\n",
       "      <th>3 단계</th>\n",
       "      <td>15</td>\n",
       "    </tr>\n",
       "  </tbody>\n",
       "</table>\n",
       "</div>"
      ],
      "text/plain": [
       "     가구 수\n",
       "1 단계   20\n",
       "2 단계   73\n",
       "3 단계   15"
      ]
     },
     "execution_count": 373,
     "metadata": {},
     "output_type": "execute_result"
    }
   ],
   "source": [
    "nugin_dist = pd.DataFrame(columns=['가구 수'])\n",
    "\n",
    "for step, _f in enumerate(fee):\n",
    "    now_kWh = _f[0]\n",
    "    if step < 2:\n",
    "        next_kWh = fee[step + 1][0]\n",
    "        count = len(month_df[(month_df['usage (kWh)'] >= now_kWh) &\\\n",
    "                             (month_df['usage (kWh)'] < next_kWh)])\n",
    "        nugin_dist.loc['{} 단계'.format(step + 1)] = [count]\n",
    "                    \n",
    "    else:\n",
    "        count = len(month_df[month_df['usage (kWh)'] >= now_kWh])\n",
    "        nugin_dist.loc['{} 단계'.format(step + 1)] = [count]\n",
    "        \n",
    "nugin_dist.head()"
   ]
  },
  {
   "cell_type": "markdown",
   "id": "020f9c3d",
   "metadata": {},
   "source": [
    "## 수거액 산정"
   ]
  },
  {
   "cell_type": "code",
   "execution_count": 374,
   "id": "91bfa105",
   "metadata": {},
   "outputs": [
    {
     "data": {
      "text/html": [
       "<div>\n",
       "<style scoped>\n",
       "    .dataframe tbody tr th:only-of-type {\n",
       "        vertical-align: middle;\n",
       "    }\n",
       "\n",
       "    .dataframe tbody tr th {\n",
       "        vertical-align: top;\n",
       "    }\n",
       "\n",
       "    .dataframe thead th {\n",
       "        text-align: right;\n",
       "    }\n",
       "</style>\n",
       "<table border=\"1\" class=\"dataframe\">\n",
       "  <thead>\n",
       "    <tr style=\"text-align: right;\">\n",
       "      <th></th>\n",
       "      <th>가구 수</th>\n",
       "      <th>수거액</th>\n",
       "    </tr>\n",
       "  </thead>\n",
       "  <tbody>\n",
       "    <tr>\n",
       "      <th>1 단계</th>\n",
       "      <td>20</td>\n",
       "      <td>14600</td>\n",
       "    </tr>\n",
       "    <tr>\n",
       "      <th>2 단계</th>\n",
       "      <td>73</td>\n",
       "      <td>91980</td>\n",
       "    </tr>\n",
       "    <tr>\n",
       "      <th>3 단계</th>\n",
       "      <td>15</td>\n",
       "      <td>90900</td>\n",
       "    </tr>\n",
       "  </tbody>\n",
       "</table>\n",
       "</div>"
      ],
      "text/plain": [
       "     가구 수    수거액\n",
       "1 단계   20  14600\n",
       "2 단계   73  91980\n",
       "3 단계   15  90900"
      ]
     },
     "execution_count": 374,
     "metadata": {},
     "output_type": "execute_result"
    }
   ],
   "source": [
    "collect_basic = list()\n",
    "\n",
    "for step,count in enumerate(nugin_dist['가구 수'].values):\n",
    "    basic = fee[step][2]\n",
    "    \n",
    "    collect_basic.append(basic * count)\n",
    "    \n",
    "nugin_dist['수거액'] = collect_basic\n",
    "\n",
    "nugin_dist.head()"
   ]
  },
  {
   "cell_type": "markdown",
   "id": "cb6163a0",
   "metadata": {},
   "source": [
    "## APT 누진 단계 확인 및 기본요금 확인"
   ]
  },
  {
   "cell_type": "code",
   "execution_count": 345,
   "id": "533cf1cd",
   "metadata": {},
   "outputs": [
    {
     "name": "stdout",
     "output_type": "stream",
     "text": [
      "현재 APT 평균사용량은 473kWh 입니다.\n",
      "요금표 [[0, 200, 730, 73.3], [201, 400, 1260, 142.3], [401, inf, 6060, 210.6]]에 근거하여,\n",
      "\n",
      "현재 APT 평균사용량의 누진단계는 3단계 입니다.\n",
      "6,060 기본요금이 적용되어, 기본요금은 6,060 * 50가구 수 = 303,000원 입니다.\n"
     ]
    }
   ],
   "source": [
    "print(\"현재 APT 평균사용량은 {}kWh 입니다.\".format(APT_mean))\n",
    "print(\"요금표 {}에 근거하여,\".format(fee))\n",
    "\n",
    "for step, _f in enumerate(fee):\n",
    "    if APT_mean < _f[1]:\n",
    "        apt_step = step\n",
    "        apt_basic = _f[2] * households_count\n",
    "        break\n",
    "        \n",
    "print(\"\\n현재 APT 평균사용량의 누진단계는 {}단계 입니다.\".format(apt_step + 1))\n",
    "print(\"{} 기본요금이 적용되어, 기본요금은 {} * {}가구 수 = {}원 입니다.\".format(\n",
    "    format(fee[apt_step][2], \",\"),\n",
    "    format(fee[apt_step][2], \",\"),\n",
    "    households_count,\n",
    "    format(apt_basic, \",\")\n",
    "))"
   ]
  },
  {
   "cell_type": "markdown",
   "id": "7178e355",
   "metadata": {},
   "source": [
    "## 공용부 기본요금 산출\n",
    "- APT 기본요금 - 세대부 수거액"
   ]
  },
  {
   "cell_type": "code",
   "execution_count": 346,
   "id": "9345f2e4",
   "metadata": {},
   "outputs": [
    {
     "name": "stdout",
     "output_type": "stream",
     "text": [
      "APT 기본요금 : 303,000원\n",
      "세대부 기본요금 : 114,210원\n",
      "공용부 기본요금 : 188,790원\n"
     ]
    }
   ],
   "source": [
    "households_basic = nugin_dist['수거액'].sum()\n",
    "public_basic = apt_basic - households_basic\n",
    "\n",
    "print(\"APT 기본요금 : {}원\".format(format(apt_basic, \",\")))\n",
    "print(\"세대부 기본요금 : {}원\".format(format(households_basic, \",\")))\n",
    "print(\"공용부 기본요금 : {}원\".format(format(public_basic, \",\")))"
   ]
  },
  {
   "cell_type": "markdown",
   "id": "86203f42",
   "metadata": {},
   "source": [
    "# 전력량 요금 예측"
   ]
  },
  {
   "cell_type": "markdown",
   "id": "d31286c2",
   "metadata": {},
   "source": [
    "## 누진단계별 수거해야 하는 사용량"
   ]
  },
  {
   "cell_type": "code",
   "execution_count": 347,
   "id": "7e4813d3",
   "metadata": {},
   "outputs": [
    {
     "name": "stdout",
     "output_type": "stream",
     "text": [
      "200\n",
      "131\n"
     ]
    },
    {
     "data": {
      "text/html": [
       "<div>\n",
       "<style scoped>\n",
       "    .dataframe tbody tr th:only-of-type {\n",
       "        vertical-align: middle;\n",
       "    }\n",
       "\n",
       "    .dataframe tbody tr th {\n",
       "        vertical-align: top;\n",
       "    }\n",
       "\n",
       "    .dataframe thead th {\n",
       "        text-align: right;\n",
       "    }\n",
       "</style>\n",
       "<table border=\"1\" class=\"dataframe\">\n",
       "  <thead>\n",
       "    <tr style=\"text-align: right;\">\n",
       "      <th></th>\n",
       "      <th>수거 필요 액수</th>\n",
       "    </tr>\n",
       "    <tr>\n",
       "      <th>누진 단계</th>\n",
       "      <th></th>\n",
       "    </tr>\n",
       "  </thead>\n",
       "  <tbody>\n",
       "    <tr>\n",
       "      <th>1</th>\n",
       "      <td>10000</td>\n",
       "    </tr>\n",
       "    <tr>\n",
       "      <th>2</th>\n",
       "      <td>6550</td>\n",
       "    </tr>\n",
       "  </tbody>\n",
       "</table>\n",
       "</div>"
      ],
      "text/plain": [
       "       수거 필요 액수\n",
       "누진 단계          \n",
       "1         10000\n",
       "2          6550"
      ]
     },
     "execution_count": 347,
     "metadata": {},
     "output_type": "execute_result"
    }
   ],
   "source": [
    "col_list = list()\n",
    "_usage = households_mean\n",
    "for step, _f in enumerate(fee):\n",
    "    collect_rate = _f[1] - _f[0]\n",
    "\n",
    "    ## 2단계일 경우\n",
    "    if step == 1:\n",
    "        collect_rate += 1\n",
    "\n",
    "    if households_mean < _f[1]:\n",
    "        if (step == 0) or (step == 1):\n",
    "            _col = _usage % collect_rate\n",
    "\n",
    "        else:\n",
    "            _col = _usage\n",
    "    else:\n",
    "        _col = collect_rate\n",
    "\n",
    "    if _usage == 0:\n",
    "        break\n",
    "    else:\n",
    "        col_list.append(_col * households_count)\n",
    "        print(_col)\n",
    "        _usage -= _col\n",
    "\n",
    "apt_col = pd.DataFrame(col_list, columns=['수거 필요 액수'])\n",
    "apt_col.index = pd.Series(range(1, len(col_list) + 1), name=\"누진 단계\")\n",
    "\n",
    "apt_col"
   ]
  },
  {
   "cell_type": "markdown",
   "id": "b3e7d21e",
   "metadata": {},
   "source": [
    "## 가구별 누진 단계 수거 사용량"
   ]
  },
  {
   "cell_type": "code",
   "execution_count": 348,
   "id": "6653a817",
   "metadata": {},
   "outputs": [
    {
     "data": {
      "text/html": [
       "<div>\n",
       "<style scoped>\n",
       "    .dataframe tbody tr th:only-of-type {\n",
       "        vertical-align: middle;\n",
       "    }\n",
       "\n",
       "    .dataframe tbody tr th {\n",
       "        vertical-align: top;\n",
       "    }\n",
       "\n",
       "    .dataframe thead th {\n",
       "        text-align: right;\n",
       "    }\n",
       "</style>\n",
       "<table border=\"1\" class=\"dataframe\">\n",
       "  <thead>\n",
       "    <tr style=\"text-align: right;\">\n",
       "      <th></th>\n",
       "      <th>name</th>\n",
       "      <th>usage (kWh)</th>\n",
       "    </tr>\n",
       "  </thead>\n",
       "  <tbody>\n",
       "    <tr>\n",
       "      <th>0</th>\n",
       "      <td>아파트1-101-1002</td>\n",
       "      <td>253</td>\n",
       "    </tr>\n",
       "    <tr>\n",
       "      <th>1</th>\n",
       "      <td>아파트1-101-104</td>\n",
       "      <td>689</td>\n",
       "    </tr>\n",
       "    <tr>\n",
       "      <th>2</th>\n",
       "      <td>아파트1-101-1102</td>\n",
       "      <td>183</td>\n",
       "    </tr>\n",
       "    <tr>\n",
       "      <th>3</th>\n",
       "      <td>아파트1-101-1202</td>\n",
       "      <td>239</td>\n",
       "    </tr>\n",
       "    <tr>\n",
       "      <th>4</th>\n",
       "      <td>아파트1-101-1302</td>\n",
       "      <td>455</td>\n",
       "    </tr>\n",
       "    <tr>\n",
       "      <th>5</th>\n",
       "      <td>아파트1-101-1401</td>\n",
       "      <td>343</td>\n",
       "    </tr>\n",
       "  </tbody>\n",
       "</table>\n",
       "</div>"
      ],
      "text/plain": [
       "            name  usage (kWh)\n",
       "0  아파트1-101-1002          253\n",
       "1   아파트1-101-104          689\n",
       "2  아파트1-101-1102          183\n",
       "3  아파트1-101-1202          239\n",
       "4  아파트1-101-1302          455\n",
       "5  아파트1-101-1401          343"
      ]
     },
     "execution_count": 348,
     "metadata": {},
     "output_type": "execute_result"
    }
   ],
   "source": [
    "month_df.head(6)"
   ]
  },
  {
   "cell_type": "code",
   "execution_count": 349,
   "id": "a573c4cb",
   "metadata": {},
   "outputs": [
    {
     "data": {
      "text/html": [
       "<div>\n",
       "<style scoped>\n",
       "    .dataframe tbody tr th:only-of-type {\n",
       "        vertical-align: middle;\n",
       "    }\n",
       "\n",
       "    .dataframe tbody tr th {\n",
       "        vertical-align: top;\n",
       "    }\n",
       "\n",
       "    .dataframe thead th {\n",
       "        text-align: right;\n",
       "    }\n",
       "</style>\n",
       "<table border=\"1\" class=\"dataframe\">\n",
       "  <thead>\n",
       "    <tr style=\"text-align: right;\">\n",
       "      <th></th>\n",
       "      <th>수거액</th>\n",
       "    </tr>\n",
       "    <tr>\n",
       "      <th>누진단계</th>\n",
       "      <th></th>\n",
       "    </tr>\n",
       "  </thead>\n",
       "  <tbody>\n",
       "    <tr>\n",
       "      <th>1</th>\n",
       "      <td>9868</td>\n",
       "    </tr>\n",
       "    <tr>\n",
       "      <th>2</th>\n",
       "      <td>5695</td>\n",
       "    </tr>\n",
       "    <tr>\n",
       "      <th>3</th>\n",
       "      <td>989</td>\n",
       "    </tr>\n",
       "  </tbody>\n",
       "</table>\n",
       "</div>"
      ],
      "text/plain": [
       "       수거액\n",
       "누진단계      \n",
       "1     9868\n",
       "2     5695\n",
       "3      989"
      ]
     },
     "execution_count": 349,
     "metadata": {},
     "output_type": "execute_result"
    }
   ],
   "source": [
    "# nugin elec rate collect\n",
    "nerc = pd.DataFrame(columns=['가구명', '누진단계', '수거액'])\n",
    "\n",
    "for idx, row in month_df.head(100).iterrows():\n",
    "    name, usage = row\n",
    "    \n",
    "    col_list = list()\n",
    "    _usage = usage\n",
    "    for step, _f in enumerate(fee):\n",
    "        collect_rate = _f[1] - _f[0]\n",
    "            \n",
    "        ## 2단계일 경우\n",
    "        if step == 1:\n",
    "            collect_rate += 1\n",
    "\n",
    "        if usage < _f[1]:\n",
    "            if (step == 0) or (step == 1):\n",
    "                _col = _usage % collect_rate\n",
    "                \n",
    "            else:\n",
    "                _col = _usage\n",
    "        else:\n",
    "            _col = collect_rate\n",
    "            \n",
    "        if _usage == 0:\n",
    "            break\n",
    "        else:\n",
    "            col_list.append(_col)\n",
    "            _usage -= _col\n",
    "            \n",
    "    for step,col in enumerate(col_list):\n",
    "        nerc = nerc.append({\n",
    "            \"가구명\": name,\n",
    "            \"누진단계\": step + 1,\n",
    "            \"수거액\": col\n",
    "        }, ignore_index=True)\n",
    "        \n",
    "nerc = nerc.pivot_table(index=['누진단계'], values=['수거액'], aggfunc='sum')\n",
    "nerc"
   ]
  },
  {
   "cell_type": "markdown",
   "id": "7ae7c7c4",
   "metadata": {},
   "source": [
    "### 가구 수거액 확인"
   ]
  },
  {
   "cell_type": "code",
   "execution_count": 350,
   "id": "f8d2c647",
   "metadata": {},
   "outputs": [
    {
     "data": {
      "text/html": [
       "<div>\n",
       "<style scoped>\n",
       "    .dataframe tbody tr th:only-of-type {\n",
       "        vertical-align: middle;\n",
       "    }\n",
       "\n",
       "    .dataframe tbody tr th {\n",
       "        vertical-align: top;\n",
       "    }\n",
       "\n",
       "    .dataframe thead th {\n",
       "        text-align: right;\n",
       "    }\n",
       "</style>\n",
       "<table border=\"1\" class=\"dataframe\">\n",
       "  <thead>\n",
       "    <tr style=\"text-align: right;\">\n",
       "      <th></th>\n",
       "      <th>수거 필요 액수</th>\n",
       "      <th>수거액</th>\n",
       "      <th>오차</th>\n",
       "    </tr>\n",
       "  </thead>\n",
       "  <tbody>\n",
       "    <tr>\n",
       "      <th>1</th>\n",
       "      <td>10000</td>\n",
       "      <td>9868</td>\n",
       "      <td>132</td>\n",
       "    </tr>\n",
       "    <tr>\n",
       "      <th>2</th>\n",
       "      <td>6550</td>\n",
       "      <td>5695</td>\n",
       "      <td>855</td>\n",
       "    </tr>\n",
       "    <tr>\n",
       "      <th>3</th>\n",
       "      <td>0</td>\n",
       "      <td>989</td>\n",
       "      <td>-989</td>\n",
       "    </tr>\n",
       "  </tbody>\n",
       "</table>\n",
       "</div>"
      ],
      "text/plain": [
       "   수거 필요 액수   수거액   오차\n",
       "1     10000  9868  132\n",
       "2      6550  5695  855\n",
       "3         0   989 -989"
      ]
     },
     "execution_count": 350,
     "metadata": {},
     "output_type": "execute_result"
    }
   ],
   "source": [
    "col_pd = pd.concat([apt_col, nerc], axis=1).fillna(0).astype(\"int\")\n",
    "col_pd['오차'] = col_pd['수거 필요 액수'] - col_pd['수거액']\n",
    "\n",
    "col_pd"
   ]
  },
  {
   "cell_type": "markdown",
   "id": "aaacf104",
   "metadata": {},
   "source": [
    "## 공용부 요금 시작 지점 확인"
   ]
  },
  {
   "cell_type": "code",
   "execution_count": 351,
   "id": "a51a82f5",
   "metadata": {},
   "outputs": [
    {
     "name": "stdout",
     "output_type": "stream",
     "text": [
      "공용부 시작 전력량 요금은 -76,941원 입니다.\n"
     ]
    }
   ],
   "source": [
    "public_start = 0\n",
    "\n",
    "for step, row in col_pd.iterrows():\n",
    "    _f = fee[step - 1]\n",
    "    rate = row['오차']\n",
    "    \n",
    "    public_start += (_f[3] * rate)\n",
    "    \n",
    "public_start = round(public_start)\n",
    "\n",
    "print(\"공용부 시작 전력량 요금은 {}원 입니다.\".format(format(public_start, \",\")))"
   ]
  },
  {
   "cell_type": "markdown",
   "id": "c0e0fb92",
   "metadata": {},
   "source": [
    "## 공용부 시작 누진 단계 확인"
   ]
  },
  {
   "cell_type": "code",
   "execution_count": 352,
   "id": "764636de",
   "metadata": {},
   "outputs": [],
   "source": [
    "# 복구 로직\n",
    "APT_mean = round(APT / households_count)\n",
    "households_mean = round(month_df['usage (kWh)'].mean())"
   ]
  },
  {
   "cell_type": "code",
   "execution_count": 353,
   "id": "73eedd80",
   "metadata": {},
   "outputs": [
    {
     "name": "stdout",
     "output_type": "stream",
     "text": [
      "공용부 전력량 요금은 2단계부터 시작합니다. 해당 단계의 나머지 사용량은 69kWh입니다.\n"
     ]
    }
   ],
   "source": [
    "col_list = list()\n",
    "_usage = APT_mean\n",
    "for step, _f in enumerate(fee):\n",
    "    collect_rate = _f[1] - _f[0]\n",
    "\n",
    "    ## 2단계일 경우\n",
    "    if step == 1:\n",
    "        collect_rate += 1\n",
    "\n",
    "    if APT_mean < _f[1]:\n",
    "        if (step == 0) or (step == 1):\n",
    "            _col = _usage % collect_rate\n",
    "        else:\n",
    "            _col = _usage\n",
    "    else:\n",
    "        _col = collect_rate\n",
    "\n",
    "    if _usage == 0:\n",
    "        break\n",
    "    else:\n",
    "        col_list.append(_col)\n",
    "        _usage -= _col\n",
    "        \n",
    "_usage = households_mean\n",
    "for idx,col in enumerate(col_list):\n",
    "    if _usage < col:\n",
    "        col_list[idx] -= _usage\n",
    "        _usage -= _usage\n",
    "    else:\n",
    "        _usage -= col_list[idx]\n",
    "        col_list[idx] = 0\n",
    "        \n",
    "    if _usage == 0:\n",
    "        break\n",
    "        \n",
    "elec_rate_start = np.where(np.array(col_list) != 0)[0][0]\n",
    "print(\"공용부 전력량 요금은 {}단계부터 시작합니다. 해당 단계의 나머지 사용량은 {}kWh입니다.\".format(\n",
    "    elec_rate_start + 1,\n",
    "    col_list[elec_rate_start]\n",
    "))"
   ]
  },
  {
   "cell_type": "code",
   "execution_count": 354,
   "id": "3117ab46",
   "metadata": {},
   "outputs": [
    {
     "name": "stdout",
     "output_type": "stream",
     "text": [
      "공용부 전력량 요금: 1,182,684원\n"
     ]
    }
   ],
   "source": [
    "public_elec_rate = 0\n",
    "\n",
    "for step,col in enumerate(col_list):\n",
    "    _f = fee[step]\n",
    "    public_elec_rate += _f[3] * col * households_count\n",
    "\n",
    "public_elec_rate = round(public_elec_rate) + public_start\n",
    "print(\"공용부 전력량 요금: {}원\".format(format(public_elec_rate, \",\")))"
   ]
  },
  {
   "cell_type": "code",
   "execution_count": 355,
   "id": "5deacdda",
   "metadata": {},
   "outputs": [
    {
     "name": "stdout",
     "output_type": "stream",
     "text": [
      "공용부 기후 환경 요금 : 37,598원\n",
      "공용부 연료비 조정액 : 21,282원\n"
     ]
    }
   ],
   "source": [
    "public_env = round((APT - households_kWh) * 5.3)\n",
    "public_fuel = round((APT - households_kWh) * 3)\n",
    "\n",
    "print(\"공용부 기후 환경 요금 : {}원\".format(format(public_env, \",\")))\n",
    "print(\"공용부 연료비 조정액 : {}원\".format(format(public_fuel, \",\")))"
   ]
  },
  {
   "cell_type": "code",
   "execution_count": 356,
   "id": "5b931633",
   "metadata": {},
   "outputs": [
    {
     "name": "stdout",
     "output_type": "stream",
     "text": [
      "공용부 전기요금계 : 1,395,290원\n"
     ]
    }
   ],
   "source": [
    "public_elec_bill = public_basic + public_elec_rate + public_env - public_fuel\n",
    "households_guarantees = sum([_.guarantee for _ in calc.households])\n",
    "\n",
    "public_elec_bill += households_guarantees\n",
    "\n",
    "print(\"공용부 전기요금계 : {}원\".format(format(public_elec_bill, \",\")))"
   ]
  },
  {
   "cell_type": "code",
   "execution_count": 359,
   "id": "9354d07f",
   "metadata": {},
   "outputs": [
    {
     "data": {
      "text/plain": [
       "7500"
      ]
     },
     "execution_count": 359,
     "metadata": {},
     "output_type": "execute_result"
    }
   ],
   "source": [
    "households_guarantees"
   ]
  },
  {
   "cell_type": "code",
   "execution_count": 357,
   "id": "d5b1fc8f",
   "metadata": {},
   "outputs": [
    {
     "name": "stdout",
     "output_type": "stream",
     "text": [
      "공용부 예측 최종청구금액 : 1,586,445원\n"
     ]
    }
   ],
   "source": [
    "public_vat = round(public_elec_bill * 0.1)\n",
    "public_fund = round(public_elec_bill * 0.037)\n",
    "\n",
    "public_bill = public_elec_bill + public_vat + public_fund\n",
    "print(\"공용부 예측 최종청구금액 : {}원\".format(format(public_bill, \",\")))"
   ]
  },
  {
   "cell_type": "code",
   "execution_count": 358,
   "id": "57f6bec2",
   "metadata": {},
   "outputs": [
    {
     "data": {
      "text/plain": [
       "1586890"
      ]
     },
     "execution_count": 358,
     "metadata": {},
     "output_type": "execute_result"
    }
   ],
   "source": [
    "calc.public_bill"
   ]
  },
  {
   "cell_type": "code",
   "execution_count": null,
   "id": "be5c315c",
   "metadata": {},
   "outputs": [],
   "source": []
  }
 ],
 "metadata": {
  "kernelspec": {
   "display_name": "Python 3 (ipykernel)",
   "language": "python",
   "name": "python3"
  },
  "language_info": {
   "codemirror_mode": {
    "name": "ipython",
    "version": 3
   },
   "file_extension": ".py",
   "mimetype": "text/x-python",
   "name": "python",
   "nbconvert_exporter": "python",
   "pygments_lexer": "ipython3",
   "version": "3.8.12"
  }
 },
 "nbformat": 4,
 "nbformat_minor": 5
}
