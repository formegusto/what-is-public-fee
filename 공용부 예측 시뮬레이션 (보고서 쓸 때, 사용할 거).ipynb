{
 "cells": [
  {
   "cell_type": "code",
   "execution_count": 1,
   "id": "5efc1966",
   "metadata": {},
   "outputs": [],
   "source": [
    "%load_ext autoreload\n",
    "%autoreload 2\n",
    "%reload_ext autoreload"
   ]
  },
  {
   "cell_type": "code",
   "execution_count": 2,
   "id": "ce04e881",
   "metadata": {},
   "outputs": [],
   "source": [
    "import pandas as pd\n",
    "import numpy as np\n",
    "%matplotlib inline\n",
    "import matplotlib\n",
    "import matplotlib.pyplot as plt\n",
    "import math as mt\n",
    "import datetime as dt\n",
    "from sklearn.cluster import KMeans\n",
    "import random as ran\n",
    "from sklearn.metrics.pairwise import euclidean_distances as euc\n",
    "from functools import reduce\n",
    "\n",
    "# 한글출력\n",
    "matplotlib.rc('font', family='AppleGothic')\n",
    "plt.rcParams['axes.unicode_minus'] = False\n",
    "\n",
    "from src import crs\n",
    "from IPython.display import clear_output, Markdown, display"
   ]
  },
  {
   "cell_type": "code",
   "execution_count": 3,
   "id": "d3f50f93",
   "metadata": {},
   "outputs": [],
   "source": [
    "# 1. load_excel\n",
    "data_path = \"data/apt_all.xlsx\"\n",
    "xlsx = pd.read_excel(data_path, header=None,\n",
    "                     skiprows=2, engine=\"openpyxl\")"
   ]
  },
  {
   "cell_type": "code",
   "execution_count": 4,
   "id": "19941235",
   "metadata": {},
   "outputs": [
    {
     "name": "stderr",
     "output_type": "stream",
     "text": [
      "/Users/formegusto/Desktop/idoformegusto/development/research/what-is-public-fee/src/crs/utils/data_preprocessing.py:26: PerformanceWarning: DataFrame is highly fragmented.  This is usually the result of calling `frame.insert` many times, which has poor performance.  Consider joining all columns at once using pd.concat(axis=1) instead.  To get a de-fragmented frame, use `newframe = frame.copy()`\n",
      "  datas_df[household_name] = household_df[col][3:].to_list()\n",
      "/Users/formegusto/Desktop/idoformegusto/development/research/what-is-public-fee/src/crs/utils/data_preprocessing.py:49: PerformanceWarning: DataFrame is highly fragmented.  This is usually the result of calling `frame.insert` many times, which has poor performance.  Consider joining all columns at once using pd.concat(axis=1) instead.  To get a de-fragmented frame, use `newframe = frame.copy()`\n",
      "  month_usage_df[name] = [\n"
     ]
    },
    {
     "data": {
      "text/html": [
       "<div>\n",
       "<style scoped>\n",
       "    .dataframe tbody tr th:only-of-type {\n",
       "        vertical-align: middle;\n",
       "    }\n",
       "\n",
       "    .dataframe tbody tr th {\n",
       "        vertical-align: top;\n",
       "    }\n",
       "\n",
       "    .dataframe thead th {\n",
       "        text-align: right;\n",
       "    }\n",
       "</style>\n",
       "<table border=\"1\" class=\"dataframe\">\n",
       "  <thead>\n",
       "    <tr style=\"text-align: right;\">\n",
       "      <th></th>\n",
       "      <th>아파트1-101-1002</th>\n",
       "      <th>아파트1-101-104</th>\n",
       "      <th>아파트1-101-1102</th>\n",
       "      <th>아파트1-101-1202</th>\n",
       "      <th>아파트1-101-1302</th>\n",
       "      <th>아파트1-101-1401</th>\n",
       "      <th>아파트1-101-1403</th>\n",
       "      <th>아파트1-101-1502</th>\n",
       "      <th>아파트1-101-1504</th>\n",
       "      <th>아파트1-101-1602</th>\n",
       "      <th>...</th>\n",
       "      <th>아파트4-104-101</th>\n",
       "      <th>아파트4-104-1301</th>\n",
       "      <th>아파트4-104-1501</th>\n",
       "      <th>아파트4-104-301</th>\n",
       "      <th>아파트4-105-102</th>\n",
       "      <th>아파트4-105-103</th>\n",
       "      <th>아파트4-105-1102</th>\n",
       "      <th>아파트4-105-1104</th>\n",
       "      <th>아파트4-105-601</th>\n",
       "      <th>아파트4-105-803</th>\n",
       "    </tr>\n",
       "    <tr>\n",
       "      <th>month</th>\n",
       "      <th></th>\n",
       "      <th></th>\n",
       "      <th></th>\n",
       "      <th></th>\n",
       "      <th></th>\n",
       "      <th></th>\n",
       "      <th></th>\n",
       "      <th></th>\n",
       "      <th></th>\n",
       "      <th></th>\n",
       "      <th></th>\n",
       "      <th></th>\n",
       "      <th></th>\n",
       "      <th></th>\n",
       "      <th></th>\n",
       "      <th></th>\n",
       "      <th></th>\n",
       "      <th></th>\n",
       "      <th></th>\n",
       "      <th></th>\n",
       "      <th></th>\n",
       "    </tr>\n",
       "  </thead>\n",
       "  <tbody>\n",
       "    <tr>\n",
       "      <th>1</th>\n",
       "      <td>253</td>\n",
       "      <td>689</td>\n",
       "      <td>183</td>\n",
       "      <td>239</td>\n",
       "      <td>455</td>\n",
       "      <td>343</td>\n",
       "      <td>380</td>\n",
       "      <td>219</td>\n",
       "      <td>389</td>\n",
       "      <td>350</td>\n",
       "      <td>...</td>\n",
       "      <td>335</td>\n",
       "      <td>363</td>\n",
       "      <td>181</td>\n",
       "      <td>216</td>\n",
       "      <td>270</td>\n",
       "      <td>518</td>\n",
       "      <td>230</td>\n",
       "      <td>279</td>\n",
       "      <td>161</td>\n",
       "      <td>156</td>\n",
       "    </tr>\n",
       "    <tr>\n",
       "      <th>2</th>\n",
       "      <td>251</td>\n",
       "      <td>481</td>\n",
       "      <td>177</td>\n",
       "      <td>218</td>\n",
       "      <td>397</td>\n",
       "      <td>297</td>\n",
       "      <td>339</td>\n",
       "      <td>197</td>\n",
       "      <td>348</td>\n",
       "      <td>288</td>\n",
       "      <td>...</td>\n",
       "      <td>309</td>\n",
       "      <td>339</td>\n",
       "      <td>146</td>\n",
       "      <td>184</td>\n",
       "      <td>267</td>\n",
       "      <td>344</td>\n",
       "      <td>208</td>\n",
       "      <td>236</td>\n",
       "      <td>167</td>\n",
       "      <td>150</td>\n",
       "    </tr>\n",
       "    <tr>\n",
       "      <th>3</th>\n",
       "      <td>255</td>\n",
       "      <td>424</td>\n",
       "      <td>203</td>\n",
       "      <td>222</td>\n",
       "      <td>378</td>\n",
       "      <td>303</td>\n",
       "      <td>349</td>\n",
       "      <td>202</td>\n",
       "      <td>357</td>\n",
       "      <td>368</td>\n",
       "      <td>...</td>\n",
       "      <td>313</td>\n",
       "      <td>372</td>\n",
       "      <td>152</td>\n",
       "      <td>236</td>\n",
       "      <td>268</td>\n",
       "      <td>417</td>\n",
       "      <td>212</td>\n",
       "      <td>272</td>\n",
       "      <td>166</td>\n",
       "      <td>155</td>\n",
       "    </tr>\n",
       "    <tr>\n",
       "      <th>4</th>\n",
       "      <td>252</td>\n",
       "      <td>355</td>\n",
       "      <td>180</td>\n",
       "      <td>230</td>\n",
       "      <td>368</td>\n",
       "      <td>278</td>\n",
       "      <td>298</td>\n",
       "      <td>188</td>\n",
       "      <td>346</td>\n",
       "      <td>365</td>\n",
       "      <td>...</td>\n",
       "      <td>266</td>\n",
       "      <td>346</td>\n",
       "      <td>149</td>\n",
       "      <td>210</td>\n",
       "      <td>268</td>\n",
       "      <td>421</td>\n",
       "      <td>208</td>\n",
       "      <td>243</td>\n",
       "      <td>156</td>\n",
       "      <td>148</td>\n",
       "    </tr>\n",
       "    <tr>\n",
       "      <th>5</th>\n",
       "      <td>230</td>\n",
       "      <td>357</td>\n",
       "      <td>258</td>\n",
       "      <td>203</td>\n",
       "      <td>414</td>\n",
       "      <td>270</td>\n",
       "      <td>418</td>\n",
       "      <td>156</td>\n",
       "      <td>320</td>\n",
       "      <td>265</td>\n",
       "      <td>...</td>\n",
       "      <td>305</td>\n",
       "      <td>256</td>\n",
       "      <td>151</td>\n",
       "      <td>222</td>\n",
       "      <td>287</td>\n",
       "      <td>349</td>\n",
       "      <td>185</td>\n",
       "      <td>284</td>\n",
       "      <td>165</td>\n",
       "      <td>180</td>\n",
       "    </tr>\n",
       "  </tbody>\n",
       "</table>\n",
       "<p>5 rows × 398 columns</p>\n",
       "</div>"
      ],
      "text/plain": [
       "       아파트1-101-1002  아파트1-101-104  아파트1-101-1102  아파트1-101-1202  \\\n",
       "month                                                              \n",
       "1                253           689            183            239   \n",
       "2                251           481            177            218   \n",
       "3                255           424            203            222   \n",
       "4                252           355            180            230   \n",
       "5                230           357            258            203   \n",
       "\n",
       "       아파트1-101-1302  아파트1-101-1401  아파트1-101-1403  아파트1-101-1502  \\\n",
       "month                                                               \n",
       "1                455            343            380            219   \n",
       "2                397            297            339            197   \n",
       "3                378            303            349            202   \n",
       "4                368            278            298            188   \n",
       "5                414            270            418            156   \n",
       "\n",
       "       아파트1-101-1504  아파트1-101-1602  ...  아파트4-104-101  아파트4-104-1301  \\\n",
       "month                                ...                                \n",
       "1                389            350  ...           335            363   \n",
       "2                348            288  ...           309            339   \n",
       "3                357            368  ...           313            372   \n",
       "4                346            365  ...           266            346   \n",
       "5                320            265  ...           305            256   \n",
       "\n",
       "       아파트4-104-1501  아파트4-104-301  아파트4-105-102  아파트4-105-103  아파트4-105-1102  \\\n",
       "month                                                                           \n",
       "1                181           216           270           518            230   \n",
       "2                146           184           267           344            208   \n",
       "3                152           236           268           417            212   \n",
       "4                149           210           268           421            208   \n",
       "5                151           222           287           349            185   \n",
       "\n",
       "       아파트4-105-1104  아파트4-105-601  아파트4-105-803  \n",
       "month                                             \n",
       "1                279           161           156  \n",
       "2                236           167           150  \n",
       "3                272           166           155  \n",
       "4                243           156           148  \n",
       "5                284           165           180  \n",
       "\n",
       "[5 rows x 398 columns]"
      ]
     },
     "execution_count": 4,
     "metadata": {},
     "output_type": "execute_result"
    }
   ],
   "source": [
    "# 2. data preprocessing\n",
    "p, m = crs.utils.data_preprocessing(xlsx)\n",
    "\n",
    "m.set_index(\"month\", inplace=True)\n",
    "m.head()"
   ]
  },
  {
   "cell_type": "markdown",
   "id": "678ce168",
   "metadata": {},
   "source": [
    "# 임의 가구 구성 셋팅"
   ]
  },
  {
   "cell_type": "code",
   "execution_count": 6,
   "id": "b49c8c3e",
   "metadata": {},
   "outputs": [],
   "source": [
    "import json"
   ]
  },
  {
   "cell_type": "code",
   "execution_count": 7,
   "id": "b2488579",
   "metadata": {},
   "outputs": [],
   "source": [
    "# _m = m.sample(n=50, axis=1)\n",
    "# _m = m[m.columns[:50]]\n",
    "\n",
    "_m = m.copy()"
   ]
  },
  {
   "cell_type": "markdown",
   "id": "e11b3bd5",
   "metadata": {},
   "source": [
    "# 초기 정보 셋팅\n",
    "- 월, 공용부 차지 percentage"
   ]
  },
  {
   "cell_type": "code",
   "execution_count": 11,
   "id": "551f70d1",
   "metadata": {},
   "outputs": [],
   "source": [
    "with open(\"test_data.json\", \"r\") as f:\n",
    "    test_data_info = json.load(f, encoding='utf8')\n",
    "\n",
    "PUBLIC_PERCENTAGE = test_data_info['공용부 percentage']\n",
    "_month = test_data_info['월']\n",
    "h_cols = test_data_info['가구구성']"
   ]
  },
  {
   "cell_type": "code",
   "execution_count": 17,
   "id": "d17dacdd",
   "metadata": {},
   "outputs": [
    {
     "data": {
      "text/html": [
       "<div>\n",
       "<style scoped>\n",
       "    .dataframe tbody tr th:only-of-type {\n",
       "        vertical-align: middle;\n",
       "    }\n",
       "\n",
       "    .dataframe tbody tr th {\n",
       "        vertical-align: top;\n",
       "    }\n",
       "\n",
       "    .dataframe thead th {\n",
       "        text-align: right;\n",
       "    }\n",
       "</style>\n",
       "<table border=\"1\" class=\"dataframe\">\n",
       "  <thead>\n",
       "    <tr style=\"text-align: right;\">\n",
       "      <th></th>\n",
       "      <th>아파트1-104-1208</th>\n",
       "      <th>아파트1-103-606</th>\n",
       "      <th>아파트1-104-705</th>\n",
       "      <th>아파트1-101-303</th>\n",
       "      <th>아파트3-101-603</th>\n",
       "      <th>아파트3-102-305</th>\n",
       "      <th>아파트1-103-1706</th>\n",
       "      <th>아파트2-2-1301</th>\n",
       "      <th>아파트3-103-707</th>\n",
       "      <th>아파트3-103-2018</th>\n",
       "    </tr>\n",
       "    <tr>\n",
       "      <th>month</th>\n",
       "      <th></th>\n",
       "      <th></th>\n",
       "      <th></th>\n",
       "      <th></th>\n",
       "      <th></th>\n",
       "      <th></th>\n",
       "      <th></th>\n",
       "      <th></th>\n",
       "      <th></th>\n",
       "      <th></th>\n",
       "    </tr>\n",
       "  </thead>\n",
       "  <tbody>\n",
       "    <tr>\n",
       "      <th>1</th>\n",
       "      <td>40</td>\n",
       "      <td>415</td>\n",
       "      <td>290</td>\n",
       "      <td>376</td>\n",
       "      <td>258</td>\n",
       "      <td>223</td>\n",
       "      <td>381</td>\n",
       "      <td>290</td>\n",
       "      <td>262</td>\n",
       "      <td>147</td>\n",
       "    </tr>\n",
       "    <tr>\n",
       "      <th>2</th>\n",
       "      <td>135</td>\n",
       "      <td>399</td>\n",
       "      <td>263</td>\n",
       "      <td>335</td>\n",
       "      <td>219</td>\n",
       "      <td>201</td>\n",
       "      <td>330</td>\n",
       "      <td>236</td>\n",
       "      <td>204</td>\n",
       "      <td>132</td>\n",
       "    </tr>\n",
       "    <tr>\n",
       "      <th>3</th>\n",
       "      <td>169</td>\n",
       "      <td>421</td>\n",
       "      <td>281</td>\n",
       "      <td>349</td>\n",
       "      <td>246</td>\n",
       "      <td>225</td>\n",
       "      <td>368</td>\n",
       "      <td>268</td>\n",
       "      <td>221</td>\n",
       "      <td>160</td>\n",
       "    </tr>\n",
       "    <tr>\n",
       "      <th>4</th>\n",
       "      <td>127</td>\n",
       "      <td>401</td>\n",
       "      <td>257</td>\n",
       "      <td>343</td>\n",
       "      <td>224</td>\n",
       "      <td>209</td>\n",
       "      <td>381</td>\n",
       "      <td>258</td>\n",
       "      <td>212</td>\n",
       "      <td>165</td>\n",
       "    </tr>\n",
       "    <tr>\n",
       "      <th>5</th>\n",
       "      <td>7</td>\n",
       "      <td>398</td>\n",
       "      <td>84</td>\n",
       "      <td>356</td>\n",
       "      <td>196</td>\n",
       "      <td>204</td>\n",
       "      <td>336</td>\n",
       "      <td>141</td>\n",
       "      <td>204</td>\n",
       "      <td>216</td>\n",
       "    </tr>\n",
       "  </tbody>\n",
       "</table>\n",
       "</div>"
      ],
      "text/plain": [
       "       아파트1-104-1208  아파트1-103-606  아파트1-104-705  아파트1-101-303  아파트3-101-603  \\\n",
       "month                                                                          \n",
       "1                 40           415           290           376           258   \n",
       "2                135           399           263           335           219   \n",
       "3                169           421           281           349           246   \n",
       "4                127           401           257           343           224   \n",
       "5                  7           398            84           356           196   \n",
       "\n",
       "       아파트3-102-305  아파트1-103-1706  아파트2-2-1301  아파트3-103-707  아파트3-103-2018  \n",
       "month                                                                         \n",
       "1               223            381          290           262            147  \n",
       "2               201            330          236           204            132  \n",
       "3               225            368          268           221            160  \n",
       "4               209            381          258           212            165  \n",
       "5               204            336          141           204            216  "
      ]
     },
     "execution_count": 17,
     "metadata": {},
     "output_type": "execute_result"
    }
   ],
   "source": [
    "_m = _m[h_cols]\n",
    "_m[_m.columns[:10]].head()"
   ]
  },
  {
   "cell_type": "code",
   "execution_count": 18,
   "id": "ed909438",
   "metadata": {},
   "outputs": [
    {
     "data": {
      "text/markdown": [
       "**설정 월은 5월 입니다.**<br/>• 가구 수 : 396가구<br/>• APT 총 사용량 : 90,279kWh (평균사용량:228kWh)<br/>• 세대부 총 사용량 : 72,223kWh (평균사용량:182kWh)"
      ],
      "text/plain": [
       "<IPython.core.display.Markdown object>"
      ]
     },
     "metadata": {},
     "output_type": "display_data"
    },
    {
     "data": {
      "text/html": [
       "<div>\n",
       "<style scoped>\n",
       "    .dataframe tbody tr th:only-of-type {\n",
       "        vertical-align: middle;\n",
       "    }\n",
       "\n",
       "    .dataframe tbody tr th {\n",
       "        vertical-align: top;\n",
       "    }\n",
       "\n",
       "    .dataframe thead th {\n",
       "        text-align: right;\n",
       "    }\n",
       "</style>\n",
       "<table border=\"1\" class=\"dataframe\">\n",
       "  <thead>\n",
       "    <tr style=\"text-align: right;\">\n",
       "      <th></th>\n",
       "      <th>name</th>\n",
       "      <th>usage (kWh)</th>\n",
       "    </tr>\n",
       "  </thead>\n",
       "  <tbody>\n",
       "    <tr>\n",
       "      <th>0</th>\n",
       "      <td>아파트1-104-1208</td>\n",
       "      <td>7</td>\n",
       "    </tr>\n",
       "    <tr>\n",
       "      <th>1</th>\n",
       "      <td>아파트1-103-606</td>\n",
       "      <td>398</td>\n",
       "    </tr>\n",
       "    <tr>\n",
       "      <th>2</th>\n",
       "      <td>아파트1-104-705</td>\n",
       "      <td>84</td>\n",
       "    </tr>\n",
       "    <tr>\n",
       "      <th>3</th>\n",
       "      <td>아파트1-101-303</td>\n",
       "      <td>356</td>\n",
       "    </tr>\n",
       "    <tr>\n",
       "      <th>4</th>\n",
       "      <td>아파트3-101-603</td>\n",
       "      <td>196</td>\n",
       "    </tr>\n",
       "  </tbody>\n",
       "</table>\n",
       "</div>"
      ],
      "text/plain": [
       "            name  usage (kWh)\n",
       "0  아파트1-104-1208            7\n",
       "1   아파트1-103-606          398\n",
       "2   아파트1-104-705           84\n",
       "3   아파트1-101-303          356\n",
       "4   아파트3-101-603          196"
      ]
     },
     "execution_count": 18,
     "metadata": {},
     "output_type": "execute_result"
    }
   ],
   "source": [
    "month_df = pd.DataFrame(_m.loc[_month])\n",
    "month_df.reset_index(inplace=True)\n",
    "\n",
    "month_df.columns = ['name', 'usage (kWh)']\n",
    "\n",
    "households_kWh = month_df['usage (kWh)'].sum()\n",
    "households_count = len(month_df)\n",
    "APT = round((households_kWh * 100) / (100 - PUBLIC_PERCENTAGE))\n",
    "\n",
    "APT_mean = round(APT / households_count)\n",
    "households_mean = round(month_df['usage (kWh)'].mean())\n",
    "\n",
    "display(Markdown(\n",
    "    \"**설정 월은 {}월 입니다.**<br/>\".format(_month) +\n",
    "    \"• 가구 수 : {}가구<br/>\".format(households_count) +\n",
    "    \"• APT 총 사용량 : {}kWh (평균사용량:{}kWh)<br/>\".format(format(APT,\",\"),\n",
    "                                                   APT_mean) +\n",
    "    \"• 세대부 총 사용량 : {}kWh (평균사용량:{}kWh)\".format(format(households_kWh, \",\"),\n",
    "                                              households_mean)\n",
    "))\n",
    "\n",
    "month_df.head()"
   ]
  },
  {
   "cell_type": "markdown",
   "id": "5dee17f0",
   "metadata": {},
   "source": [
    "# 청구서 셋팅"
   ]
  },
  {
   "cell_type": "code",
   "execution_count": 20,
   "id": "b4729507",
   "metadata": {},
   "outputs": [
    {
     "data": {
      "text/plain": [
       "[[0, 200, 730, 73.3], [201, 400, 1260, 142.3], [401, inf, 6060, 210.6]]"
      ]
     },
     "execution_count": 20,
     "metadata": {},
     "output_type": "execute_result"
    }
   ],
   "source": [
    "calc = crs.models.ManagementOffice(\n",
    "        month=_month,\n",
    "        households=month_df,\n",
    "        APT=APT,\n",
    "        contract=\"단일계약\"\n",
    "    )\n",
    "fee = calc.fee\n",
    "fee"
   ]
  },
  {
   "cell_type": "markdown",
   "id": "94ede8fc",
   "metadata": {},
   "source": [
    "# 가구 분리"
   ]
  },
  {
   "cell_type": "code",
   "execution_count": 310,
   "id": "3bdf5ed4",
   "metadata": {},
   "outputs": [
    {
     "name": "stdout",
     "output_type": "stream",
     "text": [
      "\n"
     ]
    },
    {
     "data": {
      "text/markdown": [
       "1kWh 부터 200kWh 까지 최저요금 적용 구간을 탐색합니다."
      ],
      "text/plain": [
       "<IPython.core.display.Markdown object>"
      ]
     },
     "metadata": {},
     "output_type": "display_data"
    },
    {
     "data": {
      "text/markdown": [
       "### 37kWh 미만의 사용량은 최저요금 적용을 받습니다."
      ],
      "text/plain": [
       "<IPython.core.display.Markdown object>"
      ]
     },
     "metadata": {},
     "output_type": "display_data"
    },
    {
     "name": "stdout",
     "output_type": "stream",
     "text": [
      "\n"
     ]
    }
   ],
   "source": [
    "print()\n",
    "display(Markdown(\"{}kWh 부터 {}kWh 까지 최저요금 적용 구간을 탐색합니다.\".format(1, 200)))\n",
    "\n",
    "for min_kwh in range(1, 200):\n",
    "    hh = crs.models.Household(\n",
    "        name=\"min test\",\n",
    "        kwh=min_kwh,\n",
    "        contract=fee,\n",
    "        contract_name=\"단일계약\"\n",
    "    )\n",
    "    \n",
    "    if hh.elec_bill > 1000:\n",
    "        break\n",
    "        \n",
    "display(Markdown(\"### {}kWh 미만의 사용량은 최저요금 적용을 받습니다.\".format(min_kwh)))\n",
    "\n",
    "print()\n",
    "\n"
   ]
  },
  {
   "cell_type": "code",
   "execution_count": 315,
   "id": "e01f5f73",
   "metadata": {},
   "outputs": [],
   "source": [
    "_month_df = month_df.copy()"
   ]
  },
  {
   "cell_type": "code",
   "execution_count": 333,
   "id": "0604dbde",
   "metadata": {},
   "outputs": [
    {
     "data": {
      "text/html": [
       "<div>\n",
       "<style scoped>\n",
       "    .dataframe tbody tr th:only-of-type {\n",
       "        vertical-align: middle;\n",
       "    }\n",
       "\n",
       "    .dataframe tbody tr th {\n",
       "        vertical-align: top;\n",
       "    }\n",
       "\n",
       "    .dataframe thead th {\n",
       "        text-align: right;\n",
       "    }\n",
       "</style>\n",
       "<table border=\"1\" class=\"dataframe\">\n",
       "  <thead>\n",
       "    <tr style=\"text-align: right;\">\n",
       "      <th></th>\n",
       "      <th>name</th>\n",
       "      <th>usage (kWh)</th>\n",
       "    </tr>\n",
       "  </thead>\n",
       "  <tbody>\n",
       "    <tr>\n",
       "      <th>1</th>\n",
       "      <td>아파트1-103-606</td>\n",
       "      <td>398</td>\n",
       "    </tr>\n",
       "    <tr>\n",
       "      <th>2</th>\n",
       "      <td>아파트1-104-705</td>\n",
       "      <td>84</td>\n",
       "    </tr>\n",
       "    <tr>\n",
       "      <th>3</th>\n",
       "      <td>아파트1-101-303</td>\n",
       "      <td>356</td>\n",
       "    </tr>\n",
       "    <tr>\n",
       "      <th>4</th>\n",
       "      <td>아파트3-101-603</td>\n",
       "      <td>196</td>\n",
       "    </tr>\n",
       "    <tr>\n",
       "      <th>5</th>\n",
       "      <td>아파트3-102-305</td>\n",
       "      <td>204</td>\n",
       "    </tr>\n",
       "  </tbody>\n",
       "</table>\n",
       "</div>"
      ],
      "text/plain": [
       "           name  usage (kWh)\n",
       "1  아파트1-103-606          398\n",
       "2  아파트1-104-705           84\n",
       "3  아파트1-101-303          356\n",
       "4  아파트3-101-603          196\n",
       "5  아파트3-102-305          204"
      ]
     },
     "execution_count": 333,
     "metadata": {},
     "output_type": "execute_result"
    }
   ],
   "source": [
    "min_month_df = _month_df[_month_df['usage (kWh)'] < min_kwh]\n",
    "month_df = _month_df[_month_df['usage (kWh)'] >= min_kwh]\n",
    "\n",
    "households_kWh = month_df['usage (kWh)'].sum()\n",
    "# households_mean = round(month_df['usage (kWh)'].mean())\n",
    "\n",
    "month_df.head()"
   ]
  },
  {
   "cell_type": "code",
   "execution_count": 334,
   "id": "d4be8dae",
   "metadata": {},
   "outputs": [
    {
     "data": {
      "text/html": [
       "<div>\n",
       "<style scoped>\n",
       "    .dataframe tbody tr th:only-of-type {\n",
       "        vertical-align: middle;\n",
       "    }\n",
       "\n",
       "    .dataframe tbody tr th {\n",
       "        vertical-align: top;\n",
       "    }\n",
       "\n",
       "    .dataframe thead th {\n",
       "        text-align: right;\n",
       "    }\n",
       "</style>\n",
       "<table border=\"1\" class=\"dataframe\">\n",
       "  <thead>\n",
       "    <tr style=\"text-align: right;\">\n",
       "      <th></th>\n",
       "      <th>name</th>\n",
       "      <th>usage (kWh)</th>\n",
       "    </tr>\n",
       "  </thead>\n",
       "  <tbody>\n",
       "    <tr>\n",
       "      <th>0</th>\n",
       "      <td>아파트1-104-1208</td>\n",
       "      <td>7</td>\n",
       "    </tr>\n",
       "    <tr>\n",
       "      <th>10</th>\n",
       "      <td>아파트2-4-509</td>\n",
       "      <td>0</td>\n",
       "    </tr>\n",
       "    <tr>\n",
       "      <th>17</th>\n",
       "      <td>아파트2-2-807</td>\n",
       "      <td>8</td>\n",
       "    </tr>\n",
       "    <tr>\n",
       "      <th>21</th>\n",
       "      <td>아파트2-2-502</td>\n",
       "      <td>14</td>\n",
       "    </tr>\n",
       "    <tr>\n",
       "      <th>26</th>\n",
       "      <td>아파트2-4-1008</td>\n",
       "      <td>22</td>\n",
       "    </tr>\n",
       "  </tbody>\n",
       "</table>\n",
       "</div>"
      ],
      "text/plain": [
       "             name  usage (kWh)\n",
       "0   아파트1-104-1208            7\n",
       "10     아파트2-4-509            0\n",
       "17     아파트2-2-807            8\n",
       "21     아파트2-2-502           14\n",
       "26    아파트2-4-1008           22"
      ]
     },
     "execution_count": 334,
     "metadata": {},
     "output_type": "execute_result"
    }
   ],
   "source": [
    "min_month_df.head()"
   ]
  },
  {
   "cell_type": "markdown",
   "id": "501bb6bd",
   "metadata": {},
   "source": [
    "# 기본요금 예측"
   ]
  },
  {
   "cell_type": "markdown",
   "id": "d947cfb2",
   "metadata": {},
   "source": [
    "## 누진단계 셋팅"
   ]
  },
  {
   "cell_type": "code",
   "execution_count": 335,
   "id": "a6d45399",
   "metadata": {},
   "outputs": [],
   "source": [
    "nugin_steps = [_[0] for _ in fee]\n",
    "nugin_basic = [_[2] for _ in fee]"
   ]
  },
  {
   "cell_type": "code",
   "execution_count": 336,
   "id": "604c92f1",
   "metadata": {},
   "outputs": [
    {
     "data": {
      "text/plain": [
       "[0, 201, 401]"
      ]
     },
     "execution_count": 336,
     "metadata": {},
     "output_type": "execute_result"
    }
   ],
   "source": [
    "nugin_steps"
   ]
  },
  {
   "cell_type": "markdown",
   "id": "841d141d",
   "metadata": {},
   "source": [
    "## 누진단계 분할"
   ]
  },
  {
   "cell_type": "code",
   "execution_count": 337,
   "id": "17422946",
   "metadata": {},
   "outputs": [
    {
     "data": {
      "text/html": [
       "<div>\n",
       "<style scoped>\n",
       "    .dataframe tbody tr th:only-of-type {\n",
       "        vertical-align: middle;\n",
       "    }\n",
       "\n",
       "    .dataframe tbody tr th {\n",
       "        vertical-align: top;\n",
       "    }\n",
       "\n",
       "    .dataframe thead th {\n",
       "        text-align: right;\n",
       "    }\n",
       "</style>\n",
       "<table border=\"1\" class=\"dataframe\">\n",
       "  <thead>\n",
       "    <tr style=\"text-align: right;\">\n",
       "      <th></th>\n",
       "      <th>가구 수</th>\n",
       "    </tr>\n",
       "  </thead>\n",
       "  <tbody>\n",
       "    <tr>\n",
       "      <th>1 단계</th>\n",
       "      <td>104</td>\n",
       "    </tr>\n",
       "    <tr>\n",
       "      <th>2 단계</th>\n",
       "      <td>187</td>\n",
       "    </tr>\n",
       "    <tr>\n",
       "      <th>3 단계</th>\n",
       "      <td>12</td>\n",
       "    </tr>\n",
       "  </tbody>\n",
       "</table>\n",
       "</div>"
      ],
      "text/plain": [
       "     가구 수\n",
       "1 단계  104\n",
       "2 단계  187\n",
       "3 단계   12"
      ]
     },
     "execution_count": 337,
     "metadata": {},
     "output_type": "execute_result"
    }
   ],
   "source": [
    "nugin_dist = pd.DataFrame(columns=['가구 수'])\n",
    "\n",
    "for step, _f in enumerate(fee):\n",
    "    now_kWh = _f[0]\n",
    "    if step < 2:\n",
    "        next_kWh = fee[step + 1][0]\n",
    "        count = len(month_df[(month_df['usage (kWh)'] >= now_kWh) &\\\n",
    "                             (month_df['usage (kWh)'] < next_kWh)])\n",
    "        nugin_dist.loc['{} 단계'.format(step + 1)] = [count]\n",
    "                    \n",
    "    else:\n",
    "        count = len(month_df[month_df['usage (kWh)'] >= now_kWh])\n",
    "        nugin_dist.loc['{} 단계'.format(step + 1)] = [count]\n",
    "\n",
    "\n",
    "nugin_dist.head()"
   ]
  },
  {
   "cell_type": "markdown",
   "id": "020f9c3d",
   "metadata": {},
   "source": [
    "## 수거액 산정"
   ]
  },
  {
   "cell_type": "code",
   "execution_count": 338,
   "id": "91bfa105",
   "metadata": {},
   "outputs": [
    {
     "data": {
      "text/markdown": [
       "**세대부의 기본요금 수거 정보는 아래와 같습니다.**"
      ],
      "text/plain": [
       "<IPython.core.display.Markdown object>"
      ]
     },
     "metadata": {},
     "output_type": "display_data"
    },
    {
     "data": {
      "text/markdown": [
       "• 1 단계 : 730원 * 104가구 = 75,920원<br/>"
      ],
      "text/plain": [
       "<IPython.core.display.Markdown object>"
      ]
     },
     "metadata": {},
     "output_type": "display_data"
    },
    {
     "data": {
      "text/markdown": [
       "• 2 단계 : 1,260원 * 187가구 = 235,620원<br/>"
      ],
      "text/plain": [
       "<IPython.core.display.Markdown object>"
      ]
     },
     "metadata": {},
     "output_type": "display_data"
    },
    {
     "data": {
      "text/markdown": [
       "• 3 단계 : 6,060원 * 12가구 = 72,720원<br/>"
      ],
      "text/plain": [
       "<IPython.core.display.Markdown object>"
      ]
     },
     "metadata": {},
     "output_type": "display_data"
    },
    {
     "data": {
      "text/markdown": [
       "##### 토탈 : 75,920 + 235,620 + 72,720 +  = 384,260원"
      ],
      "text/plain": [
       "<IPython.core.display.Markdown object>"
      ]
     },
     "metadata": {},
     "output_type": "display_data"
    },
    {
     "data": {
      "text/html": [
       "<div>\n",
       "<style scoped>\n",
       "    .dataframe tbody tr th:only-of-type {\n",
       "        vertical-align: middle;\n",
       "    }\n",
       "\n",
       "    .dataframe tbody tr th {\n",
       "        vertical-align: top;\n",
       "    }\n",
       "\n",
       "    .dataframe thead th {\n",
       "        text-align: right;\n",
       "    }\n",
       "</style>\n",
       "<table border=\"1\" class=\"dataframe\">\n",
       "  <thead>\n",
       "    <tr style=\"text-align: right;\">\n",
       "      <th></th>\n",
       "      <th>가구 수</th>\n",
       "      <th>수거 금액</th>\n",
       "    </tr>\n",
       "  </thead>\n",
       "  <tbody>\n",
       "    <tr>\n",
       "      <th>1 단계</th>\n",
       "      <td>104</td>\n",
       "      <td>75920</td>\n",
       "    </tr>\n",
       "    <tr>\n",
       "      <th>2 단계</th>\n",
       "      <td>187</td>\n",
       "      <td>235620</td>\n",
       "    </tr>\n",
       "    <tr>\n",
       "      <th>3 단계</th>\n",
       "      <td>12</td>\n",
       "      <td>72720</td>\n",
       "    </tr>\n",
       "    <tr>\n",
       "      <th>토탈</th>\n",
       "      <td>303</td>\n",
       "      <td>384260</td>\n",
       "    </tr>\n",
       "  </tbody>\n",
       "</table>\n",
       "</div>"
      ],
      "text/plain": [
       "     가구 수   수거 금액\n",
       "1 단계  104   75920\n",
       "2 단계  187  235620\n",
       "3 단계   12   72720\n",
       "토탈    303  384260"
      ]
     },
     "execution_count": 338,
     "metadata": {},
     "output_type": "execute_result"
    }
   ],
   "source": [
    "collect_basic = list()\n",
    "\n",
    "for step,count in enumerate(nugin_dist['가구 수'].values):\n",
    "    basic = fee[step][2]\n",
    "    \n",
    "    collect_basic.append(basic * count)\n",
    "    \n",
    "nugin_dist['수거 금액'] = collect_basic\n",
    "nugin_dist.loc['토탈'] = [nugin_dist['가구 수'].sum(), nugin_dist['수거 금액'].sum()]\n",
    "\n",
    "display(Markdown(\"**세대부의 기본요금 수거 정보는 아래와 같습니다.**\"))\n",
    "# display(Markdown(\"**참고 요금표 : {}**\".format(fee)))\n",
    "for idx, (name, row) in enumerate(nugin_dist.iterrows()):\n",
    "    if name != \"토탈\":\n",
    "        display(Markdown(\n",
    "            \"• {} : {}원 * {}가구 = {}원<br/>\".format(name, \n",
    "                                            format(fee[int(idx)][2], \",\"),\n",
    "                                           row['가구 수'],\n",
    "                                            format(row['수거 금액'], \",\"))\n",
    "        ))\n",
    "    else:\n",
    "        _ex = reduce(lambda acc,cur: acc + \"{} + \".format(format(cur, \",\")), \n",
    "                    nugin_dist['수거 금액'].values[:3], \"\")\n",
    "        display(Markdown(\n",
    "            \"##### 토탈 : {} = {}원\".format(_ex, format(row['수거 금액'], \",\"))\n",
    "        ))\n",
    "    \n",
    "\n",
    "nugin_dist.head()"
   ]
  },
  {
   "cell_type": "markdown",
   "id": "cb6163a0",
   "metadata": {},
   "source": [
    "## APT 누진 단계 확인 및 기본요금 확인"
   ]
  },
  {
   "cell_type": "code",
   "execution_count": 339,
   "id": "533cf1cd",
   "metadata": {},
   "outputs": [
    {
     "data": {
      "text/markdown": [
       "##### 현재 APT 평균사용량은 228kWh 입니다."
      ],
      "text/plain": [
       "<IPython.core.display.Markdown object>"
      ]
     },
     "metadata": {},
     "output_type": "display_data"
    },
    {
     "name": "stdout",
     "output_type": "stream",
     "text": [
      "요금표 [[0, 200, 730, 73.3], [201, 400, 1260, 142.3], [401, inf, 6060, 210.6]]를 참고하면,\n"
     ]
    },
    {
     "data": {
      "text/markdown": [
       "**현재 APT 평균사용량의 누진단계는 2단계 입니다.**"
      ],
      "text/plain": [
       "<IPython.core.display.Markdown object>"
      ]
     },
     "metadata": {},
     "output_type": "display_data"
    },
    {
     "data": {
      "text/markdown": [
       "1,260원의 기본요금이 적용되어, **아파트 전체 기본요금은 1,260 * 396가구 수 = 498,960원 입니다.**"
      ],
      "text/plain": [
       "<IPython.core.display.Markdown object>"
      ]
     },
     "metadata": {},
     "output_type": "display_data"
    }
   ],
   "source": [
    "display(Markdown(\"##### 현재 APT 평균사용량은 {}kWh 입니다.\".format(APT_mean)))\n",
    "print(\"요금표 {}를 참고하면,\".format(fee))\n",
    "\n",
    "for step, _f in enumerate(fee):\n",
    "    if APT_mean < _f[1]:\n",
    "        apt_step = step\n",
    "        apt_basic = _f[2] * households_count\n",
    "        break\n",
    "        \n",
    "display(Markdown(\"**현재 APT 평균사용량의 누진단계는 {}단계 입니다.**\".format(apt_step + 1)))\n",
    "display(Markdown(\"{}원의 기본요금이 적용되어, **아파트 전체 기본요금은 {} * {}가구 수 = {}원 입니다.**\".format(\n",
    "    format(fee[apt_step][2], \",\"),\n",
    "    format(fee[apt_step][2], \",\"),\n",
    "    households_count,\n",
    "    format(apt_basic, \",\")\n",
    ")))"
   ]
  },
  {
   "cell_type": "markdown",
   "id": "7178e355",
   "metadata": {},
   "source": [
    "## 공용부 기본요금 산출\n",
    "- APT 기본요금 - 세대부 수거액"
   ]
  },
  {
   "cell_type": "code",
   "execution_count": 340,
   "id": "9345f2e4",
   "metadata": {},
   "outputs": [
    {
     "data": {
      "text/markdown": [
       "• APT 기본요금 : 498,960원"
      ],
      "text/plain": [
       "<IPython.core.display.Markdown object>"
      ]
     },
     "metadata": {},
     "output_type": "display_data"
    },
    {
     "data": {
      "text/markdown": [
       "• 세대부 기본요금 : 384,260원"
      ],
      "text/plain": [
       "<IPython.core.display.Markdown object>"
      ]
     },
     "metadata": {},
     "output_type": "display_data"
    },
    {
     "data": {
      "text/markdown": [
       "#### 공용부의 기본요금은 498,960원(APT 기본요금) - 384,260원(세대부 기본요금) = 114,700원 입니다."
      ],
      "text/plain": [
       "<IPython.core.display.Markdown object>"
      ]
     },
     "metadata": {},
     "output_type": "display_data"
    }
   ],
   "source": [
    "households_basic = nugin_dist.loc['토탈']['수거 금액'].sum()\n",
    "public_basic = apt_basic - households_basic\n",
    "\n",
    "display(Markdown(\"• APT 기본요금 : {}원\".format(format(apt_basic, \",\"))))\n",
    "display(Markdown(\"• 세대부 기본요금 : {}원\".format(format(households_basic, \",\"))))\n",
    "display(Markdown(\"#### 공용부의 기본요금은 {}원(APT 기본요금) - {}원(세대부 기본요금) = {}원 입니다.\".format(\n",
    "    format(apt_basic, \",\"),\n",
    "    format(households_basic, \",\"),\n",
    "    format(public_basic, \",\"))))"
   ]
  },
  {
   "cell_type": "markdown",
   "id": "86203f42",
   "metadata": {},
   "source": [
    "# 전력량 요금 예측"
   ]
  },
  {
   "cell_type": "markdown",
   "id": "d31286c2",
   "metadata": {},
   "source": [
    "## 누진단계별 수거해야 하는 사용량"
   ]
  },
  {
   "cell_type": "code",
   "execution_count": 341,
   "id": "7e4813d3",
   "metadata": {},
   "outputs": [
    {
     "data": {
      "text/markdown": [
       "**현재 세대부 평균사용량은 182kWh** 이며, 단계별로 아래와 같이 수거되어야 합니다."
      ],
      "text/plain": [
       "<IPython.core.display.Markdown object>"
      ]
     },
     "metadata": {},
     "output_type": "display_data"
    },
    {
     "data": {
      "text/html": [
       "<div>\n",
       "<style scoped>\n",
       "    .dataframe tbody tr th:only-of-type {\n",
       "        vertical-align: middle;\n",
       "    }\n",
       "\n",
       "    .dataframe tbody tr th {\n",
       "        vertical-align: top;\n",
       "    }\n",
       "\n",
       "    .dataframe thead th {\n",
       "        text-align: right;\n",
       "    }\n",
       "</style>\n",
       "<table border=\"1\" class=\"dataframe\">\n",
       "  <thead>\n",
       "    <tr style=\"text-align: right;\">\n",
       "      <th></th>\n",
       "      <th>수거 필요 사용량</th>\n",
       "    </tr>\n",
       "    <tr>\n",
       "      <th>누진 단계</th>\n",
       "      <th></th>\n",
       "    </tr>\n",
       "  </thead>\n",
       "  <tbody>\n",
       "    <tr>\n",
       "      <th>1</th>\n",
       "      <td>72072</td>\n",
       "    </tr>\n",
       "    <tr>\n",
       "      <th>2</th>\n",
       "      <td>0</td>\n",
       "    </tr>\n",
       "    <tr>\n",
       "      <th>3</th>\n",
       "      <td>0</td>\n",
       "    </tr>\n",
       "  </tbody>\n",
       "</table>\n",
       "</div>"
      ],
      "text/plain": [
       "       수거 필요 사용량\n",
       "누진 단계           \n",
       "1          72072\n",
       "2              0\n",
       "3              0"
      ]
     },
     "execution_count": 341,
     "metadata": {},
     "output_type": "execute_result"
    }
   ],
   "source": [
    "col_list = list()\n",
    "_usage = households_mean\n",
    "for step, _f in enumerate(fee):\n",
    "    collect_rate = _f[1] - _f[0]\n",
    "\n",
    "    ## 2단계일 경우\n",
    "    if step == 1:\n",
    "        collect_rate += 1\n",
    "\n",
    "    if households_mean < _f[1]:\n",
    "        if (step == 0) or (step == 1):\n",
    "            _col = _usage % collect_rate\n",
    "\n",
    "        else:\n",
    "            _col = _usage\n",
    "    else:\n",
    "        _col = collect_rate\n",
    "\n",
    "    if _usage == 0:\n",
    "        col_list.append(0)\n",
    "    else:\n",
    "        col_list.append(_col * households_count)\n",
    "#         print(_col)\n",
    "        _usage -= _col\n",
    "\n",
    "apt_col = pd.DataFrame(col_list, columns=['수거 필요 사용량'])\n",
    "apt_col.index = pd.Series(range(1, len(col_list) + 1), name=\"누진 단계\")\n",
    "\n",
    "display(Markdown(\"**현재 세대부 평균사용량은 {}kWh** 이며, 단계별로 아래와 같이 수거되어야 합니다.\".format(\n",
    "    format(households_mean, \",\")\n",
    ")))\n",
    "apt_col"
   ]
  },
  {
   "cell_type": "markdown",
   "id": "b3e7d21e",
   "metadata": {},
   "source": [
    "## 가구별 누진 단계 수거 사용량"
   ]
  },
  {
   "cell_type": "code",
   "execution_count": 342,
   "id": "a573c4cb",
   "metadata": {},
   "outputs": [
    {
     "data": {
      "text/html": [
       "<div>\n",
       "<style scoped>\n",
       "    .dataframe tbody tr th:only-of-type {\n",
       "        vertical-align: middle;\n",
       "    }\n",
       "\n",
       "    .dataframe tbody tr th {\n",
       "        vertical-align: top;\n",
       "    }\n",
       "\n",
       "    .dataframe thead th {\n",
       "        text-align: right;\n",
       "    }\n",
       "</style>\n",
       "<table border=\"1\" class=\"dataframe\">\n",
       "  <thead>\n",
       "    <tr style=\"text-align: right;\">\n",
       "      <th></th>\n",
       "      <th>수거 사용량</th>\n",
       "    </tr>\n",
       "    <tr>\n",
       "      <th>누진단계</th>\n",
       "      <th></th>\n",
       "    </tr>\n",
       "  </thead>\n",
       "  <tbody>\n",
       "    <tr>\n",
       "      <th>1</th>\n",
       "      <td>53983</td>\n",
       "    </tr>\n",
       "    <tr>\n",
       "      <th>2</th>\n",
       "      <td>17167</td>\n",
       "    </tr>\n",
       "    <tr>\n",
       "      <th>3</th>\n",
       "      <td>415</td>\n",
       "    </tr>\n",
       "  </tbody>\n",
       "</table>\n",
       "</div>"
      ],
      "text/plain": [
       "      수거 사용량\n",
       "누진단계        \n",
       "1      53983\n",
       "2      17167\n",
       "3        415"
      ]
     },
     "execution_count": 342,
     "metadata": {},
     "output_type": "execute_result"
    }
   ],
   "source": [
    "# nugin elec rate collect\n",
    "nerc = pd.DataFrame(columns=['가구명', '누진단계', '수거 사용량'])\n",
    "\n",
    "for idx, row in month_df.iterrows():\n",
    "    name, usage = row\n",
    "    \n",
    "    col_list = list()\n",
    "    _usage = usage\n",
    "    for step, _f in enumerate(fee):\n",
    "        collect_rate = _f[1] - _f[0]\n",
    "            \n",
    "        ## 2단계일 경우\n",
    "        if step == 1:\n",
    "            collect_rate += 1\n",
    "\n",
    "        if usage < _f[1]:\n",
    "            if (step == 0) or (step == 1):\n",
    "                _col = _usage % collect_rate\n",
    "                \n",
    "            else:\n",
    "                _col = _usage\n",
    "        else:\n",
    "            _col = collect_rate\n",
    "            \n",
    "        if _usage == 0:\n",
    "            break\n",
    "        else:\n",
    "            col_list.append(_col)\n",
    "            _usage -= _col\n",
    "            \n",
    "    for step,col in enumerate(col_list):\n",
    "        nerc = nerc.append({\n",
    "            \"가구명\": name,\n",
    "            \"누진단계\": step + 1,\n",
    "            \"수거 사용량\": col\n",
    "        }, ignore_index=True)\n",
    "        \n",
    "nerc = nerc.pivot_table(index=['누진단계'], values=['수거 사용량'], aggfunc='sum')\n",
    "nerc"
   ]
  },
  {
   "cell_type": "markdown",
   "id": "7ae7c7c4",
   "metadata": {},
   "source": [
    "### 가구 수거액 확인"
   ]
  },
  {
   "cell_type": "code",
   "execution_count": 343,
   "id": "f8d2c647",
   "metadata": {},
   "outputs": [
    {
     "data": {
      "text/html": [
       "<div>\n",
       "<style scoped>\n",
       "    .dataframe tbody tr th:only-of-type {\n",
       "        vertical-align: middle;\n",
       "    }\n",
       "\n",
       "    .dataframe tbody tr th {\n",
       "        vertical-align: top;\n",
       "    }\n",
       "\n",
       "    .dataframe thead th {\n",
       "        text-align: right;\n",
       "    }\n",
       "</style>\n",
       "<table border=\"1\" class=\"dataframe\">\n",
       "  <thead>\n",
       "    <tr style=\"text-align: right;\">\n",
       "      <th></th>\n",
       "      <th>수거 필요 사용량</th>\n",
       "      <th>수거 사용량</th>\n",
       "      <th>오차</th>\n",
       "    </tr>\n",
       "  </thead>\n",
       "  <tbody>\n",
       "    <tr>\n",
       "      <th>1 단계</th>\n",
       "      <td>72072</td>\n",
       "      <td>53983</td>\n",
       "      <td>18089</td>\n",
       "    </tr>\n",
       "    <tr>\n",
       "      <th>2 단계</th>\n",
       "      <td>0</td>\n",
       "      <td>17167</td>\n",
       "      <td>-17167</td>\n",
       "    </tr>\n",
       "    <tr>\n",
       "      <th>3 단계</th>\n",
       "      <td>0</td>\n",
       "      <td>415</td>\n",
       "      <td>-415</td>\n",
       "    </tr>\n",
       "  </tbody>\n",
       "</table>\n",
       "</div>"
      ],
      "text/plain": [
       "      수거 필요 사용량  수거 사용량     오차\n",
       "1 단계      72072   53983  18089\n",
       "2 단계          0   17167 -17167\n",
       "3 단계          0     415   -415"
      ]
     },
     "execution_count": 343,
     "metadata": {},
     "output_type": "execute_result"
    }
   ],
   "source": [
    "col_pd = pd.concat([apt_col, nerc], axis=1).fillna(0).astype(\"int\")\n",
    "col_pd['오차'] = col_pd['수거 필요 사용량'] - col_pd['수거 사용량']\n",
    "\n",
    "col_pd.index = col_pd.index.map(lambda x: \"{} 단계\".format(x))\n",
    "\n",
    "col_pd"
   ]
  },
  {
   "cell_type": "markdown",
   "id": "aaacf104",
   "metadata": {},
   "source": [
    "## 공용부 요금 시작 지점 확인"
   ]
  },
  {
   "cell_type": "code",
   "execution_count": 344,
   "id": "a51a82f5",
   "metadata": {},
   "outputs": [
    {
     "name": "stdout",
     "output_type": "stream",
     "text": [
      "\n"
     ]
    },
    {
     "data": {
      "text/markdown": [
       "• 1 단계 : 73.3원 * 18,089kWh = 1,325,923.7원"
      ],
      "text/plain": [
       "<IPython.core.display.Markdown object>"
      ]
     },
     "metadata": {},
     "output_type": "display_data"
    },
    {
     "data": {
      "text/markdown": [
       "• 2 단계 : 142.3원 * -17,167kWh = -2,442,864.1원"
      ],
      "text/plain": [
       "<IPython.core.display.Markdown object>"
      ]
     },
     "metadata": {},
     "output_type": "display_data"
    },
    {
     "data": {
      "text/markdown": [
       "• 3 단계 : 210.6원 * -415kWh = -87,399.0원"
      ],
      "text/plain": [
       "<IPython.core.display.Markdown object>"
      ]
     },
     "metadata": {},
     "output_type": "display_data"
    },
    {
     "name": "stdout",
     "output_type": "stream",
     "text": [
      " 1325923.7원 - 2442864.1원 - 87399.0원 = -1,204,339.4000000001원\n"
     ]
    },
    {
     "data": {
      "text/markdown": [
       "#### 공용부 시작 전력량 요금은 -1,204,339원(4사 5입) 입니다."
      ],
      "text/plain": [
       "<IPython.core.display.Markdown object>"
      ]
     },
     "metadata": {},
     "output_type": "display_data"
    },
    {
     "name": "stdout",
     "output_type": "stream",
     "text": [
      "\n"
     ]
    }
   ],
   "source": [
    "public_start = 0\n",
    "h_elec_rate_mem = list()\n",
    "\n",
    "print()\n",
    "for idx, (step, row) in enumerate(col_pd.iterrows()):\n",
    "    _f = fee[idx]\n",
    "    rate = row['오차']\n",
    "    \n",
    "    display(Markdown(\"• {} 단계 : {}원 * {}kWh = {}원\".format(\n",
    "        idx + 1,\n",
    "        format(_f[3], \",\"),\n",
    "        format(rate, \",\"),\n",
    "        format((_f[3] * rate), \",\")\n",
    "    )))\n",
    "    h_elec_rate_mem.append((_f[3] * rate))\n",
    "    public_start += (_f[3] * rate)\n",
    "\n",
    "print(reduce(lambda acc, cur: acc + \" - {}원\".format(abs(cur))  if cur < 0 else acc + \" + {}원\".format(abs(cur)),\n",
    "        h_elec_rate_mem,\n",
    "        \"\")[2:],\"=\",\"{}원\".format(format(public_start, \",\")))\n",
    "public_start = round(public_start)\n",
    "\n",
    "\n",
    "\n",
    "display(Markdown(\"#### 공용부 시작 전력량 요금은 {}원(4사 5입) 입니다.\".format(format(public_start, \",\"))))\n",
    "\n",
    "print()"
   ]
  },
  {
   "cell_type": "markdown",
   "id": "c0e0fb92",
   "metadata": {},
   "source": [
    "## 공용부 시작 누진 단계 확인"
   ]
  },
  {
   "cell_type": "code",
   "execution_count": 345,
   "id": "73eedd80",
   "metadata": {},
   "outputs": [
    {
     "data": {
      "text/markdown": [
       "#### 공용부 전력량 요금은 1단계부터 시작합니다. 해당 단계의 나머지 사용량은 18kWh입니다."
      ],
      "text/plain": [
       "<IPython.core.display.Markdown object>"
      ]
     },
     "metadata": {},
     "output_type": "display_data"
    },
    {
     "data": {
      "text/markdown": [
       "• 1 단계 : 18kWh"
      ],
      "text/plain": [
       "<IPython.core.display.Markdown object>"
      ]
     },
     "metadata": {},
     "output_type": "display_data"
    },
    {
     "data": {
      "text/markdown": [
       "• 2 단계 : 28kWh"
      ],
      "text/plain": [
       "<IPython.core.display.Markdown object>"
      ]
     },
     "metadata": {},
     "output_type": "display_data"
    }
   ],
   "source": [
    "col_list = list()\n",
    "_usage = APT_mean\n",
    "for step, _f in enumerate(fee):\n",
    "    collect_rate = _f[1] - _f[0]\n",
    "\n",
    "    ## 2단계일 경우\n",
    "    if step == 1:\n",
    "        collect_rate += 1\n",
    "\n",
    "    if APT_mean < _f[1]:\n",
    "        if (step == 0) or (step == 1):\n",
    "            _col = _usage % collect_rate\n",
    "        else:\n",
    "            _col = _usage\n",
    "    else:\n",
    "        _col = collect_rate\n",
    "\n",
    "    if _usage == 0:\n",
    "        break\n",
    "    else:\n",
    "        col_list.append(_col)\n",
    "        _usage -= _col\n",
    "        \n",
    "_usage = households_mean\n",
    "for idx,col in enumerate(col_list):\n",
    "    if _usage < col:\n",
    "        col_list[idx] -= _usage\n",
    "        _usage -= _usage\n",
    "    else:\n",
    "        _usage -= col_list[idx]\n",
    "        col_list[idx] = 0\n",
    "        \n",
    "    if _usage == 0:\n",
    "        break\n",
    "        \n",
    "elec_rate_start = np.where(np.array(col_list) != 0)[0][0]\n",
    "display(Markdown(\"#### 공용부 전력량 요금은 {}단계부터 시작합니다. 해당 단계의 나머지 사용량은 {}kWh입니다.\".format(\n",
    "    elec_rate_start + 1,\n",
    "    col_list[elec_rate_start]\n",
    ")))\n",
    "\n",
    "for idx,col in enumerate(col_list):\n",
    "    display(Markdown(\"• {} 단계 : {}kWh\".format(\n",
    "        elec_rate_start + 1 + idx,\n",
    "        col\n",
    "    )))"
   ]
  },
  {
   "cell_type": "markdown",
   "id": "acedfbf6",
   "metadata": {},
   "source": [
    "## 공용부 전력량 요금 계산 및 산출"
   ]
  },
  {
   "cell_type": "code",
   "execution_count": 346,
   "id": "3117ab46",
   "metadata": {},
   "outputs": [
    {
     "name": "stdout",
     "output_type": "stream",
     "text": [
      "\n"
     ]
    },
    {
     "data": {
      "text/markdown": [
       "• 1 단계 : 73.3원 * 18kWh * 396가구 = 522,482.39999999997원"
      ],
      "text/plain": [
       "<IPython.core.display.Markdown object>"
      ]
     },
     "metadata": {},
     "output_type": "display_data"
    },
    {
     "data": {
      "text/markdown": [
       "• 2 단계 : 142.3원 * 28kWh * 396가구 = 1,577,822.4000000001원"
      ],
      "text/plain": [
       "<IPython.core.display.Markdown object>"
      ]
     },
     "metadata": {},
     "output_type": "display_data"
    },
    {
     "data": {
      "text/markdown": [
       "\t 522482.39999999997원 + 1577822.4000000001원 = 2,100,305원(4사 5입)"
      ],
      "text/plain": [
       "<IPython.core.display.Markdown object>"
      ]
     },
     "metadata": {},
     "output_type": "display_data"
    },
    {
     "data": {
      "text/markdown": [
       "\t2,100,305원(공용부 전력량요금) + -1,204,339원(공용부 시작 전력량요금)"
      ],
      "text/plain": [
       "<IPython.core.display.Markdown object>"
      ]
     },
     "metadata": {},
     "output_type": "display_data"
    },
    {
     "data": {
      "text/markdown": [
       "#### 공용부 전력량 요금은 895,966원 입니다."
      ],
      "text/plain": [
       "<IPython.core.display.Markdown object>"
      ]
     },
     "metadata": {},
     "output_type": "display_data"
    },
    {
     "name": "stdout",
     "output_type": "stream",
     "text": [
      "\n"
     ]
    }
   ],
   "source": [
    "print()\n",
    "\n",
    "public_elec_rate = 0\n",
    "memories = list()\n",
    "\n",
    "for step,col in enumerate(col_list):\n",
    "    _f = fee[step]\n",
    "    \n",
    "    display(Markdown(\"• {} 단계 : {}원 * {}kWh * {}가구 = {}원\".format(\n",
    "        step + 1,\n",
    "        format(_f[3], \",\"),\n",
    "        format(col, \",\"),\n",
    "        format(households_count, \",\"),\n",
    "        format((_f[3] * col * households_count), \",\")\n",
    "    )))\n",
    "    \n",
    "    memories.append(_f[3] * col * households_count)\n",
    "    public_elec_rate += _f[3] * col * households_count\n",
    "    \n",
    "display(Markdown(\"\\t{} {} {}\".format(reduce(lambda acc, cur: acc + \" - {}원\".format(abs(cur))  if cur < 0 else acc + \" + {}원\".format(abs(cur)),\n",
    "        memories,\n",
    "        \"\")[2:],\"=\",\"{}원(4사 5입)\".format(format(round(public_elec_rate), \",\")))))\n",
    "display(Markdown(\"\\t{}원(공용부 전력량요금) + {}원(공용부 시작 전력량요금)\".format(\n",
    "    format(round(public_elec_rate), \",\"),\n",
    "    format(public_start, \",\")\n",
    ")))\n",
    "    \n",
    "public_elec_rate = round(public_elec_rate) + public_start\n",
    "\n",
    "display(Markdown(\"#### 공용부 전력량 요금은 {}원 입니다.\".format(format(public_elec_rate, \",\"))))\n",
    "print()"
   ]
  },
  {
   "cell_type": "markdown",
   "id": "9948747a",
   "metadata": {},
   "source": [
    "# 기후환경요금, 연료비조정액 예측"
   ]
  },
  {
   "cell_type": "code",
   "execution_count": 347,
   "id": "5deacdda",
   "metadata": {},
   "outputs": [
    {
     "name": "stdout",
     "output_type": "stream",
     "text": [
      "\n"
     ]
    },
    {
     "data": {
      "text/markdown": [
       "공용부 기후환경요금 = (90,279kWh(APT 총 사용량) - 71,565kWh(세대부 총 사용량)) * 5.3원 = **99,184원**"
      ],
      "text/plain": [
       "<IPython.core.display.Markdown object>"
      ]
     },
     "metadata": {},
     "output_type": "display_data"
    },
    {
     "data": {
      "text/markdown": [
       "공용부 연료비조정액 = (90,279kWh(APT 총 사용량) - 71,565kWh(세대부 총 사용량)) * 3원 = **56,142원**"
      ],
      "text/plain": [
       "<IPython.core.display.Markdown object>"
      ]
     },
     "metadata": {},
     "output_type": "display_data"
    },
    {
     "name": "stdout",
     "output_type": "stream",
     "text": [
      "\n"
     ]
    }
   ],
   "source": [
    "public_env = round((APT - households_kWh) * 5.3)\n",
    "public_fuel = round((APT - households_kWh) * 3)\n",
    "\n",
    "print()\n",
    "display(Markdown(\"공용부 기후환경요금 = ({}kWh(APT 총 사용량) - {}kWh(세대부 총 사용량)) * 5.3원 = **{}원**\".format(\n",
    "    format(APT, \",\"),\n",
    "    format(households_kWh, \",\"),\n",
    "    format(public_env, \",\")\n",
    ")))\n",
    "display(Markdown(\"공용부 연료비조정액 = ({}kWh(APT 총 사용량) - {}kWh(세대부 총 사용량)) * 3원 = **{}원**\".format(\n",
    "    format(APT, \",\"),\n",
    "    format(households_kWh, \",\"),\n",
    "    format(public_fuel, \",\")\n",
    ")))\n",
    "print()"
   ]
  },
  {
   "cell_type": "markdown",
   "id": "a1d57bf6",
   "metadata": {},
   "source": [
    "# 전기요금계 예측"
   ]
  },
  {
   "cell_type": "code",
   "execution_count": null,
   "id": "b98ee822",
   "metadata": {},
   "outputs": [],
   "source": []
  },
  {
   "cell_type": "code",
   "execution_count": 364,
   "id": "5b931633",
   "metadata": {},
   "outputs": [
    {
     "name": "stdout",
     "output_type": "stream",
     "text": [
      "\n"
     ]
    },
    {
     "data": {
      "text/markdown": [
       "필수사용량보장공제 대상은 **197가구** 입니다."
      ],
      "text/plain": [
       "<IPython.core.display.Markdown object>"
      ]
     },
     "metadata": {},
     "output_type": "display_data"
    },
    {
     "data": {
      "text/markdown": [
       "필수사용량보장공제 = 2,500원 * 197가구 = **260,000원**"
      ],
      "text/plain": [
       "<IPython.core.display.Markdown object>"
      ]
     },
     "metadata": {},
     "output_type": "display_data"
    },
    {
     "data": {
      "text/markdown": [
       "114,700원(기본요금) + 895,966원(전력량요금) + 99,184원(기후환경요금) - 56,142원(연료비조정액)"
      ],
      "text/plain": [
       "<IPython.core.display.Markdown object>"
      ]
     },
     "metadata": {},
     "output_type": "display_data"
    },
    {
     "data": {
      "text/markdown": [
       "#### 공용부 전기요금계는 1,053,708원 입니다."
      ],
      "text/plain": [
       "<IPython.core.display.Markdown object>"
      ]
     },
     "metadata": {},
     "output_type": "display_data"
    },
    {
     "name": "stdout",
     "output_type": "stream",
     "text": [
      "\n"
     ]
    }
   ],
   "source": [
    "print()\n",
    "public_elec_bill = public_basic + public_elec_rate + public_env - public_fuel\n",
    "display(Markdown(\"필수사용량보장공제 대상은 **{}가구** 입니다.\".format(cnt)))\n",
    "display(Markdown(\"필수사용량보장공제 = {}원 * {}가구 = **{}원**\".format(format(2500, \",\"),\n",
    "                                                       cnt,\n",
    "                                                      format(households_guarantees, \",\"))))\n",
    "display(Markdown(\"{}원(기본요금) + {}원(전력량요금) + {}원(기후환경요금) - {}원(연료비조정액)\".format(\n",
    "    format(public_basic, \",\"),\n",
    "    format(public_elec_rate, \",\"),\n",
    "    format(public_env, \",\"),\n",
    "    format(public_fuel, \",\")\n",
    ")))\n",
    "display(Markdown(\"#### 공용부 전기요금계는 {}원 입니다.\".format(format(public_elec_bill, \",\"))))\n",
    "print()"
   ]
  },
  {
   "cell_type": "markdown",
   "id": "7b104332",
   "metadata": {},
   "source": [
    "### 필수사용량 보장공제"
   ]
  },
  {
   "cell_type": "code",
   "execution_count": 365,
   "id": "4fcb9d6d",
   "metadata": {},
   "outputs": [
    {
     "name": "stdout",
     "output_type": "stream",
     "text": [
      "\n"
     ]
    },
    {
     "data": {
      "text/markdown": [
       "필수사용량보장공제 대상은 **197가구** 입니다."
      ],
      "text/plain": [
       "<IPython.core.display.Markdown object>"
      ]
     },
     "metadata": {},
     "output_type": "display_data"
    },
    {
     "data": {
      "text/markdown": [
       "필수사용량보장공제 = 2,500원 * 197가구 = **260,000원**"
      ],
      "text/plain": [
       "<IPython.core.display.Markdown object>"
      ]
     },
     "metadata": {},
     "output_type": "display_data"
    },
    {
     "data": {
      "text/markdown": [
       "1,053,708원(전기요금계) + 260,000원(필수사용량보장공제)"
      ],
      "text/plain": [
       "<IPython.core.display.Markdown object>"
      ]
     },
     "metadata": {},
     "output_type": "display_data"
    },
    {
     "data": {
      "text/markdown": [
       "#### 공용부 전기요금계는 1,313,708원 입니다."
      ],
      "text/plain": [
       "<IPython.core.display.Markdown object>"
      ]
     },
     "metadata": {},
     "output_type": "display_data"
    },
    {
     "name": "stdout",
     "output_type": "stream",
     "text": [
      "\n"
     ]
    }
   ],
   "source": [
    "print()\n",
    "cnt = 0\n",
    "for _ in calc.households:\n",
    "    if _.guarantee != 0:\n",
    "        cnt+=1\n",
    "        \n",
    "households_guarantees = sum([2500 if _ <= 200 else 0 for _ in month_df['usage (kWh)'].values])\n",
    "\n",
    "\n",
    "display(Markdown(\"필수사용량보장공제 대상은 **{}가구** 입니다.\".format(cnt)))\n",
    "display(Markdown(\"필수사용량보장공제 = {}원 * {}가구 = **{}원**\".format(format(2500, \",\"),\n",
    "                                                       cnt,\n",
    "                                                      format(households_guarantees, \",\"))))\n",
    "display(Markdown(\"{}원(전기요금계) + {}원(필수사용량보장공제)\".format(\n",
    "    format(public_elec_bill, \",\"),\n",
    "    format(households_guarantees, \",\")\n",
    ")))\n",
    "\n",
    "public_elec_bill += households_guarantees\n",
    "display(Markdown(\"#### 공용부 전기요금계는 {}원 입니다.\".format(format(public_elec_bill, \",\"))))\n",
    "\n",
    "print()"
   ]
  },
  {
   "cell_type": "markdown",
   "id": "4c1c1501",
   "metadata": {},
   "source": [
    "### 월 최저요금 총 합"
   ]
  },
  {
   "cell_type": "code",
   "execution_count": 366,
   "id": "c26072db",
   "metadata": {},
   "outputs": [
    {
     "name": "stdout",
     "output_type": "stream",
     "text": [
      "\n"
     ]
    },
    {
     "data": {
      "text/markdown": [
       "월 최저요금 적용가구는 **93가구** 입니다."
      ],
      "text/plain": [
       "<IPython.core.display.Markdown object>"
      ]
     },
     "metadata": {},
     "output_type": "display_data"
    },
    {
     "data": {
      "text/markdown": [
       "월 최저요금 총 합 = 100원 * 93가구 = **93,000원**"
      ],
      "text/plain": [
       "<IPython.core.display.Markdown object>"
      ]
     },
     "metadata": {},
     "output_type": "display_data"
    },
    {
     "data": {
      "text/markdown": [
       "1,313,708원(전기요금계) + 93,000원(월 최저요금 총 합)"
      ],
      "text/plain": [
       "<IPython.core.display.Markdown object>"
      ]
     },
     "metadata": {},
     "output_type": "display_data"
    },
    {
     "data": {
      "text/markdown": [
       "#### 공용부 전기요금계는 1,220,708원 입니다."
      ],
      "text/plain": [
       "<IPython.core.display.Markdown object>"
      ]
     },
     "metadata": {},
     "output_type": "display_data"
    },
    {
     "name": "stdout",
     "output_type": "stream",
     "text": [
      "\n"
     ]
    }
   ],
   "source": [
    "min_rate = 1000 * len(min_month_df)\n",
    "\n",
    "print()\n",
    "display(Markdown(\"월 최저요금 적용가구는 **{}가구** 입니다.\".format(len(min_month_df))))\n",
    "display(Markdown(\"월 최저요금 총 합 = {}원 * {}가구 = **{}원**\".format(format(100, \",\"),\n",
    "                                                       len(min_month_df),\n",
    "                                                      format(min_rate, \",\"))))\n",
    "display(Markdown(\"{}원(전기요금계) + {}원(월 최저요금 총 합)\".format(\n",
    "    format(public_elec_bill, \",\"),\n",
    "    format(min_rate, \",\")\n",
    ")))\n",
    "\n",
    "public_elec_bill -= min_rate\n",
    "display(Markdown(\"#### 공용부 전기요금계는 {}원 입니다.\".format(format(public_elec_bill, \",\"))))\n",
    "print()"
   ]
  },
  {
   "cell_type": "code",
   "execution_count": 367,
   "id": "d5b1fc8f",
   "metadata": {},
   "outputs": [
    {
     "name": "stdout",
     "output_type": "stream",
     "text": [
      "\n"
     ]
    },
    {
     "data": {
      "text/markdown": [
       "공용부 부가가치세 = 1,220,708원 * 0.1 = **122,071원**"
      ],
      "text/plain": [
       "<IPython.core.display.Markdown object>"
      ]
     },
     "metadata": {},
     "output_type": "display_data"
    },
    {
     "data": {
      "text/markdown": [
       "공용부 전력산업기반기금 = 1,220,708원 * 0.037 = **45,166원**"
      ],
      "text/plain": [
       "<IPython.core.display.Markdown object>"
      ]
     },
     "metadata": {},
     "output_type": "display_data"
    },
    {
     "name": "stdout",
     "output_type": "stream",
     "text": [
      "\n"
     ]
    }
   ],
   "source": [
    "public_vat = round(public_elec_bill * 0.1)\n",
    "public_fund = round(public_elec_bill * 0.037)\n",
    "\n",
    "\n",
    "print()\n",
    "display(Markdown(\"공용부 부가가치세 = {}원 * 0.1 = **{}원**\".format(\n",
    "    format(public_elec_bill, \",\"),\n",
    "    format(public_vat, \",\")\n",
    ")))\n",
    "display(Markdown(\"공용부 전력산업기반기금 = {}원 * 0.037 = **{}원**\".format(\n",
    "    format(public_elec_bill, \",\"),\n",
    "    format(public_fund, \",\")\n",
    ")))\n",
    "print()"
   ]
  },
  {
   "cell_type": "code",
   "execution_count": 368,
   "id": "40b2fa97",
   "metadata": {},
   "outputs": [
    {
     "name": "stdout",
     "output_type": "stream",
     "text": [
      "\n"
     ]
    },
    {
     "data": {
      "text/markdown": [
       "1,220,708원 + 122,071원 + 45,166원"
      ],
      "text/plain": [
       "<IPython.core.display.Markdown object>"
      ]
     },
     "metadata": {},
     "output_type": "display_data"
    },
    {
     "data": {
      "text/markdown": [
       "공용부 예측 최종청구금액 : **1,387,945원**"
      ],
      "text/plain": [
       "<IPython.core.display.Markdown object>"
      ]
     },
     "metadata": {},
     "output_type": "display_data"
    },
    {
     "data": {
      "text/markdown": [
       "공용부 실제 최종청구금액 : **1,391,330원**"
      ],
      "text/plain": [
       "<IPython.core.display.Markdown object>"
      ]
     },
     "metadata": {},
     "output_type": "display_data"
    },
    {
     "data": {
      "text/markdown": [
       "오차 : **3,385원**"
      ],
      "text/plain": [
       "<IPython.core.display.Markdown object>"
      ]
     },
     "metadata": {},
     "output_type": "display_data"
    },
    {
     "name": "stdout",
     "output_type": "stream",
     "text": [
      "\n"
     ]
    }
   ],
   "source": [
    "public_bill = public_elec_bill + public_vat + public_fund\n",
    "\n",
    "print()\n",
    "display(Markdown(\"{}원 + {}원 + {}원\".format(\n",
    "    format(public_elec_bill,\",\"),\n",
    "    format(public_vat,\",\"),\n",
    "    format(public_fund,\",\")\n",
    ")))\n",
    "display(Markdown(\"공용부 예측 최종청구금액 : **{}원**\".format(format(public_bill, \",\"))))\n",
    "display(Markdown(\"공용부 실제 최종청구금액 : **{}원**\".format(format(calc.public_bill, \",\"))))\n",
    "display(Markdown(\"오차 : **{}원**\".format(format(abs(public_bill - calc.public_bill), \",\"))))\n",
    "print()"
   ]
  }
 ],
 "metadata": {
  "kernelspec": {
   "display_name": "Python 3 (ipykernel)",
   "language": "python",
   "name": "python3"
  },
  "language_info": {
   "codemirror_mode": {
    "name": "ipython",
    "version": 3
   },
   "file_extension": ".py",
   "mimetype": "text/x-python",
   "name": "python",
   "nbconvert_exporter": "python",
   "pygments_lexer": "ipython3",
   "version": "3.8.12"
  }
 },
 "nbformat": 4,
 "nbformat_minor": 5
}
