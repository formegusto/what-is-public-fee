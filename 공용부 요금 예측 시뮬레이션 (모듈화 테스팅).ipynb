{
 "cells": [
  {
   "cell_type": "code",
   "execution_count": 3,
   "id": "e6738b5a",
   "metadata": {},
   "outputs": [],
   "source": [
    "%load_ext autoreload\n",
    "%autoreload 2\n",
    "%reload_ext autoreload"
   ]
  },
  {
   "cell_type": "code",
   "execution_count": 4,
   "id": "ff06dc46",
   "metadata": {},
   "outputs": [],
   "source": [
    "import pandas as pd\n",
    "import numpy as np\n",
    "%matplotlib inline\n",
    "import matplotlib\n",
    "import matplotlib.pyplot as plt\n",
    "import math as mt\n",
    "import datetime as dt\n",
    "from sklearn.cluster import KMeans\n",
    "import random as ran\n",
    "from sklearn.metrics.pairwise import euclidean_distances as euc\n",
    "from functools import reduce\n",
    "\n",
    "# 한글출력\n",
    "matplotlib.rc('font', family='AppleGothic')\n",
    "plt.rcParams['axes.unicode_minus'] = False\n",
    "\n",
    "from src import crs, PublicPredictor, PrevPublicPredictor\n",
    "from IPython.display import clear_output, Markdown, display"
   ]
  },
  {
   "cell_type": "code",
   "execution_count": 5,
   "id": "23f026f7",
   "metadata": {},
   "outputs": [],
   "source": [
    "# 1. load_excel\n",
    "data_path = \"data/apt_all.xlsx\"\n",
    "xlsx = pd.read_excel(data_path, header=None,\n",
    "                     skiprows=2, engine=\"openpyxl\")"
   ]
  },
  {
   "cell_type": "code",
   "execution_count": 6,
   "id": "711e755a",
   "metadata": {},
   "outputs": [
    {
     "name": "stderr",
     "output_type": "stream",
     "text": [
      "/Users/formegusto/Desktop/idoformegusto/development/research/what-is-public-fee/src/crs/utils/data_preprocessing.py:26: PerformanceWarning: DataFrame is highly fragmented.  This is usually the result of calling `frame.insert` many times, which has poor performance.  Consider joining all columns at once using pd.concat(axis=1) instead.  To get a de-fragmented frame, use `newframe = frame.copy()`\n",
      "  datas_df[household_name] = household_df[col][3:].to_list()\n",
      "/Users/formegusto/Desktop/idoformegusto/development/research/what-is-public-fee/src/crs/utils/data_preprocessing.py:49: PerformanceWarning: DataFrame is highly fragmented.  This is usually the result of calling `frame.insert` many times, which has poor performance.  Consider joining all columns at once using pd.concat(axis=1) instead.  To get a de-fragmented frame, use `newframe = frame.copy()`\n",
      "  month_usage_df[name] = [\n"
     ]
    },
    {
     "data": {
      "text/html": [
       "<div>\n",
       "<style scoped>\n",
       "    .dataframe tbody tr th:only-of-type {\n",
       "        vertical-align: middle;\n",
       "    }\n",
       "\n",
       "    .dataframe tbody tr th {\n",
       "        vertical-align: top;\n",
       "    }\n",
       "\n",
       "    .dataframe thead th {\n",
       "        text-align: right;\n",
       "    }\n",
       "</style>\n",
       "<table border=\"1\" class=\"dataframe\">\n",
       "  <thead>\n",
       "    <tr style=\"text-align: right;\">\n",
       "      <th></th>\n",
       "      <th>아파트1-101-1002</th>\n",
       "      <th>아파트1-101-104</th>\n",
       "      <th>아파트1-101-1102</th>\n",
       "      <th>아파트1-101-1202</th>\n",
       "      <th>아파트1-101-1302</th>\n",
       "      <th>아파트1-101-1401</th>\n",
       "      <th>아파트1-101-1403</th>\n",
       "      <th>아파트1-101-1502</th>\n",
       "      <th>아파트1-101-1504</th>\n",
       "      <th>아파트1-101-1602</th>\n",
       "      <th>...</th>\n",
       "      <th>아파트4-104-101</th>\n",
       "      <th>아파트4-104-1301</th>\n",
       "      <th>아파트4-104-1501</th>\n",
       "      <th>아파트4-104-301</th>\n",
       "      <th>아파트4-105-102</th>\n",
       "      <th>아파트4-105-103</th>\n",
       "      <th>아파트4-105-1102</th>\n",
       "      <th>아파트4-105-1104</th>\n",
       "      <th>아파트4-105-601</th>\n",
       "      <th>아파트4-105-803</th>\n",
       "    </tr>\n",
       "    <tr>\n",
       "      <th>month</th>\n",
       "      <th></th>\n",
       "      <th></th>\n",
       "      <th></th>\n",
       "      <th></th>\n",
       "      <th></th>\n",
       "      <th></th>\n",
       "      <th></th>\n",
       "      <th></th>\n",
       "      <th></th>\n",
       "      <th></th>\n",
       "      <th></th>\n",
       "      <th></th>\n",
       "      <th></th>\n",
       "      <th></th>\n",
       "      <th></th>\n",
       "      <th></th>\n",
       "      <th></th>\n",
       "      <th></th>\n",
       "      <th></th>\n",
       "      <th></th>\n",
       "      <th></th>\n",
       "    </tr>\n",
       "  </thead>\n",
       "  <tbody>\n",
       "    <tr>\n",
       "      <th>1</th>\n",
       "      <td>253</td>\n",
       "      <td>689</td>\n",
       "      <td>183</td>\n",
       "      <td>239</td>\n",
       "      <td>455</td>\n",
       "      <td>343</td>\n",
       "      <td>380</td>\n",
       "      <td>219</td>\n",
       "      <td>389</td>\n",
       "      <td>350</td>\n",
       "      <td>...</td>\n",
       "      <td>335</td>\n",
       "      <td>363</td>\n",
       "      <td>181</td>\n",
       "      <td>216</td>\n",
       "      <td>270</td>\n",
       "      <td>518</td>\n",
       "      <td>230</td>\n",
       "      <td>279</td>\n",
       "      <td>161</td>\n",
       "      <td>156</td>\n",
       "    </tr>\n",
       "    <tr>\n",
       "      <th>2</th>\n",
       "      <td>251</td>\n",
       "      <td>481</td>\n",
       "      <td>177</td>\n",
       "      <td>218</td>\n",
       "      <td>397</td>\n",
       "      <td>297</td>\n",
       "      <td>339</td>\n",
       "      <td>197</td>\n",
       "      <td>348</td>\n",
       "      <td>288</td>\n",
       "      <td>...</td>\n",
       "      <td>309</td>\n",
       "      <td>339</td>\n",
       "      <td>146</td>\n",
       "      <td>184</td>\n",
       "      <td>267</td>\n",
       "      <td>344</td>\n",
       "      <td>208</td>\n",
       "      <td>236</td>\n",
       "      <td>167</td>\n",
       "      <td>150</td>\n",
       "    </tr>\n",
       "    <tr>\n",
       "      <th>3</th>\n",
       "      <td>255</td>\n",
       "      <td>424</td>\n",
       "      <td>203</td>\n",
       "      <td>222</td>\n",
       "      <td>378</td>\n",
       "      <td>303</td>\n",
       "      <td>349</td>\n",
       "      <td>202</td>\n",
       "      <td>357</td>\n",
       "      <td>368</td>\n",
       "      <td>...</td>\n",
       "      <td>313</td>\n",
       "      <td>372</td>\n",
       "      <td>152</td>\n",
       "      <td>236</td>\n",
       "      <td>268</td>\n",
       "      <td>417</td>\n",
       "      <td>212</td>\n",
       "      <td>272</td>\n",
       "      <td>166</td>\n",
       "      <td>155</td>\n",
       "    </tr>\n",
       "    <tr>\n",
       "      <th>4</th>\n",
       "      <td>252</td>\n",
       "      <td>355</td>\n",
       "      <td>180</td>\n",
       "      <td>230</td>\n",
       "      <td>368</td>\n",
       "      <td>278</td>\n",
       "      <td>298</td>\n",
       "      <td>188</td>\n",
       "      <td>346</td>\n",
       "      <td>365</td>\n",
       "      <td>...</td>\n",
       "      <td>266</td>\n",
       "      <td>346</td>\n",
       "      <td>149</td>\n",
       "      <td>210</td>\n",
       "      <td>268</td>\n",
       "      <td>421</td>\n",
       "      <td>208</td>\n",
       "      <td>243</td>\n",
       "      <td>156</td>\n",
       "      <td>148</td>\n",
       "    </tr>\n",
       "    <tr>\n",
       "      <th>5</th>\n",
       "      <td>230</td>\n",
       "      <td>357</td>\n",
       "      <td>258</td>\n",
       "      <td>203</td>\n",
       "      <td>414</td>\n",
       "      <td>270</td>\n",
       "      <td>418</td>\n",
       "      <td>156</td>\n",
       "      <td>320</td>\n",
       "      <td>265</td>\n",
       "      <td>...</td>\n",
       "      <td>305</td>\n",
       "      <td>256</td>\n",
       "      <td>151</td>\n",
       "      <td>222</td>\n",
       "      <td>287</td>\n",
       "      <td>349</td>\n",
       "      <td>185</td>\n",
       "      <td>284</td>\n",
       "      <td>165</td>\n",
       "      <td>180</td>\n",
       "    </tr>\n",
       "  </tbody>\n",
       "</table>\n",
       "<p>5 rows × 398 columns</p>\n",
       "</div>"
      ],
      "text/plain": [
       "       아파트1-101-1002  아파트1-101-104  아파트1-101-1102  아파트1-101-1202  \\\n",
       "month                                                              \n",
       "1                253           689            183            239   \n",
       "2                251           481            177            218   \n",
       "3                255           424            203            222   \n",
       "4                252           355            180            230   \n",
       "5                230           357            258            203   \n",
       "\n",
       "       아파트1-101-1302  아파트1-101-1401  아파트1-101-1403  아파트1-101-1502  \\\n",
       "month                                                               \n",
       "1                455            343            380            219   \n",
       "2                397            297            339            197   \n",
       "3                378            303            349            202   \n",
       "4                368            278            298            188   \n",
       "5                414            270            418            156   \n",
       "\n",
       "       아파트1-101-1504  아파트1-101-1602  ...  아파트4-104-101  아파트4-104-1301  \\\n",
       "month                                ...                                \n",
       "1                389            350  ...           335            363   \n",
       "2                348            288  ...           309            339   \n",
       "3                357            368  ...           313            372   \n",
       "4                346            365  ...           266            346   \n",
       "5                320            265  ...           305            256   \n",
       "\n",
       "       아파트4-104-1501  아파트4-104-301  아파트4-105-102  아파트4-105-103  아파트4-105-1102  \\\n",
       "month                                                                           \n",
       "1                181           216           270           518            230   \n",
       "2                146           184           267           344            208   \n",
       "3                152           236           268           417            212   \n",
       "4                149           210           268           421            208   \n",
       "5                151           222           287           349            185   \n",
       "\n",
       "       아파트4-105-1104  아파트4-105-601  아파트4-105-803  \n",
       "month                                             \n",
       "1                279           161           156  \n",
       "2                236           167           150  \n",
       "3                272           166           155  \n",
       "4                243           156           148  \n",
       "5                284           165           180  \n",
       "\n",
       "[5 rows x 398 columns]"
      ]
     },
     "execution_count": 6,
     "metadata": {},
     "output_type": "execute_result"
    }
   ],
   "source": [
    "# 2. data preprocessing\n",
    "p, m = crs.utils.data_preprocessing(xlsx)\n",
    "\n",
    "m.set_index(\"month\", inplace=True)\n",
    "m.head()"
   ]
  },
  {
   "cell_type": "markdown",
   "id": "0fb1000e",
   "metadata": {},
   "source": [
    "# 최신 버전\n",
    "- 전기요금계 가격이 1000원 미만일 경우 1000원으로 최저요금으로 맞추어 버리는 경우가 있음.\n",
    "- 그래서 해당 가구들은 수거 과정에서 제외 시켜야 함\n",
    "    - 기본요금, 전력량요금 : 수거 과정에서 제외\n",
    "    - 필수사용량보장공제 : 제외\n",
    "    - 기후환경요금, 연료비조정액 : 수거 과정에서 제외했으므로, 해당 단계도 세대부 사용량에서 제외하고 percentage 진행"
   ]
  },
  {
   "cell_type": "code",
   "execution_count": 240,
   "id": "4056f71f",
   "metadata": {},
   "outputs": [],
   "source": [
    "predict_test = pd.DataFrame(columns=['실제 요금', '예측 요금', '오차'])\n",
    "households_columns = list()\n",
    "\n",
    "for _ in range(0, 500):\n",
    "    n = ran.randrange(50, len(m.columns) + 1)\n",
    "    _m = m.sample(n=n, axis=1)\n",
    "    _month = ran.randrange(1, 13)\n",
    "\n",
    "    month_df = pd.DataFrame(_m.loc[_month])\n",
    "    month_df.reset_index(inplace=True)\n",
    "    month_df.columns = ['name', 'usage (kWh)']\n",
    "    \n",
    "    PUBLIC_PERCENTAGE = ran.randrange(10, 60)\n",
    "    households_kWh = month_df['usage (kWh)'].sum()\n",
    "    APT = round((households_kWh * 100) / (100 - PUBLIC_PERCENTAGE))\n",
    "\n",
    "    pp = PublicPredictor(\n",
    "        APT=APT,\n",
    "        month_df=month_df,\n",
    "        month=_month\n",
    "    )\n",
    "\n",
    "    predict_test = predict_test.append(pp.predict, ignore_index=True)\n",
    "    households_columns.append((PUBLIC_PERCENTAGE,_month,month_df['name'].values))"
   ]
  },
  {
   "cell_type": "code",
   "execution_count": 241,
   "id": "f61c66ab",
   "metadata": {},
   "outputs": [
    {
     "data": {
      "text/markdown": [
       "# 공용부 요금 예측 시뮬레이션 결과 입니다.\n",
       "\n"
      ],
      "text/plain": [
       "<IPython.core.display.Markdown object>"
      ]
     },
     "metadata": {},
     "output_type": "display_data"
    },
    {
     "name": "stdout",
     "output_type": "stream",
     "text": [
      "• 최고 오차 : 4,400원\n",
      "• 최소 오차 : 410원\n",
      "• 평균 적중률 : 99.9294566444658%\n"
     ]
    },
    {
     "data": {
      "text/html": [
       "<div>\n",
       "<style scoped>\n",
       "    .dataframe tbody tr th:only-of-type {\n",
       "        vertical-align: middle;\n",
       "    }\n",
       "\n",
       "    .dataframe tbody tr th {\n",
       "        vertical-align: top;\n",
       "    }\n",
       "\n",
       "    .dataframe thead th {\n",
       "        text-align: right;\n",
       "    }\n",
       "</style>\n",
       "<table border=\"1\" class=\"dataframe\">\n",
       "  <thead>\n",
       "    <tr style=\"text-align: right;\">\n",
       "      <th></th>\n",
       "      <th>실제 요금</th>\n",
       "      <th>예측 요금</th>\n",
       "      <th>오차</th>\n",
       "    </tr>\n",
       "  </thead>\n",
       "  <tbody>\n",
       "    <tr>\n",
       "      <th>0</th>\n",
       "      <td>10711500</td>\n",
       "      <td>10708240</td>\n",
       "      <td>3260</td>\n",
       "    </tr>\n",
       "    <tr>\n",
       "      <th>1</th>\n",
       "      <td>2435070</td>\n",
       "      <td>2433270</td>\n",
       "      <td>1800</td>\n",
       "    </tr>\n",
       "    <tr>\n",
       "      <th>2</th>\n",
       "      <td>9963600</td>\n",
       "      <td>9960360</td>\n",
       "      <td>3240</td>\n",
       "    </tr>\n",
       "    <tr>\n",
       "      <th>3</th>\n",
       "      <td>5214890</td>\n",
       "      <td>5212450</td>\n",
       "      <td>2440</td>\n",
       "    </tr>\n",
       "    <tr>\n",
       "      <th>4</th>\n",
       "      <td>3624730</td>\n",
       "      <td>3622790</td>\n",
       "      <td>1940</td>\n",
       "    </tr>\n",
       "  </tbody>\n",
       "</table>\n",
       "</div>"
      ],
      "text/plain": [
       "      실제 요금     예측 요금    오차\n",
       "0  10711500  10708240  3260\n",
       "1   2435070   2433270  1800\n",
       "2   9963600   9960360  3240\n",
       "3   5214890   5212450  2440\n",
       "4   3624730   3622790  1940"
      ]
     },
     "execution_count": 241,
     "metadata": {},
     "output_type": "execute_result"
    }
   ],
   "source": [
    "max_err = predict_test['오차'].abs().max()\n",
    "min_err = predict_test['오차'].abs().min()\n",
    "predict_rate = predict_test.apply(lambda x: \n",
    "   x['예측 요금'] / x['실제 요금'] * 100 if x['실제 요금'] > x['예측 요금'] \n",
    "   else x['실제 요금'] / x['예측 요금'] * 100\n",
    "   , axis=1).mean()\n",
    "display(Markdown(\"# 공용부 요금 예측 시뮬레이션 결과 입니다.\\n\\n\"))\n",
    "\n",
    "print(\"• 최고 오차 : {}원\".format(format(max_err,\",\")))\n",
    "print(\"• 최소 오차 : {}원\".format(format(min_err,\",\")))\n",
    "print(\"• 평균 적중률 : {}%\".format(format(predict_rate,\",\")))\n",
    "\n",
    "predict_test.head()"
   ]
  },
  {
   "cell_type": "markdown",
   "id": "685827ec",
   "metadata": {},
   "source": [
    "# 예전 버전\n",
    "- 최고오차가 엄청 크게 나오는 현상 발생"
   ]
  },
  {
   "cell_type": "code",
   "execution_count": 7,
   "id": "14c128c8",
   "metadata": {},
   "outputs": [],
   "source": [
    "prev_predict_test = pd.DataFrame(columns=['실제 요금', '예측 요금', '오차'])\n",
    "households_columns = list()\n",
    "\n",
    "for _ in range(0, 500):\n",
    "    n = ran.randrange(50, len(m.columns) + 1)\n",
    "    _m = m.sample(n=n, axis=1)\n",
    "    _month = ran.randrange(1, 13)\n",
    "\n",
    "    month_df = pd.DataFrame(_m.loc[_month])\n",
    "    month_df.reset_index(inplace=True)\n",
    "    month_df.columns = ['name', 'usage (kWh)']\n",
    "    \n",
    "    PUBLIC_PERCENTAGE = ran.randrange(10, 60)\n",
    "    households_kWh = month_df['usage (kWh)'].sum()\n",
    "    APT = round((households_kWh * 100) / (100 - PUBLIC_PERCENTAGE))\n",
    "\n",
    "    pp = PrevPublicPredictor(\n",
    "        APT=APT,\n",
    "        month_df=month_df,\n",
    "        month=_month\n",
    "    )\n",
    "\n",
    "    prev_predict_test = prev_predict_test.append(pp.predict, ignore_index=True)\n",
    "    households_columns.append((PUBLIC_PERCENTAGE,_month,month_df['name'].values))"
   ]
  },
  {
   "cell_type": "code",
   "execution_count": 8,
   "id": "4f4d9d26",
   "metadata": {},
   "outputs": [
    {
     "data": {
      "text/markdown": [
       "# 공용부 요금 예측 시뮬레이션 결과 입니다.\n",
       "\n"
      ],
      "text/plain": [
       "<IPython.core.display.Markdown object>"
      ]
     },
     "metadata": {},
     "output_type": "display_data"
    },
    {
     "name": "stdout",
     "output_type": "stream",
     "text": [
      "• 최고 오차 : 232,950원\n",
      "• 최소 오차 : 10원\n",
      "• 평균 적중률 : 99.28338265772311%\n"
     ]
    },
    {
     "data": {
      "text/html": [
       "<div>\n",
       "<style scoped>\n",
       "    .dataframe tbody tr th:only-of-type {\n",
       "        vertical-align: middle;\n",
       "    }\n",
       "\n",
       "    .dataframe tbody tr th {\n",
       "        vertical-align: top;\n",
       "    }\n",
       "\n",
       "    .dataframe thead th {\n",
       "        text-align: right;\n",
       "    }\n",
       "</style>\n",
       "<table border=\"1\" class=\"dataframe\">\n",
       "  <thead>\n",
       "    <tr style=\"text-align: right;\">\n",
       "      <th></th>\n",
       "      <th>실제 요금</th>\n",
       "      <th>예측 요금</th>\n",
       "      <th>오차</th>\n",
       "    </tr>\n",
       "  </thead>\n",
       "  <tbody>\n",
       "    <tr>\n",
       "      <th>0</th>\n",
       "      <td>2531560</td>\n",
       "      <td>2534040</td>\n",
       "      <td>-2480</td>\n",
       "    </tr>\n",
       "    <tr>\n",
       "      <th>1</th>\n",
       "      <td>1800120</td>\n",
       "      <td>1801790</td>\n",
       "      <td>-1670</td>\n",
       "    </tr>\n",
       "    <tr>\n",
       "      <th>2</th>\n",
       "      <td>2843690</td>\n",
       "      <td>2843810</td>\n",
       "      <td>-120</td>\n",
       "    </tr>\n",
       "    <tr>\n",
       "      <th>3</th>\n",
       "      <td>3746580</td>\n",
       "      <td>3751230</td>\n",
       "      <td>-4650</td>\n",
       "    </tr>\n",
       "    <tr>\n",
       "      <th>4</th>\n",
       "      <td>1726290</td>\n",
       "      <td>1723490</td>\n",
       "      <td>2800</td>\n",
       "    </tr>\n",
       "  </tbody>\n",
       "</table>\n",
       "</div>"
      ],
      "text/plain": [
       "     실제 요금    예측 요금     오차\n",
       "0  2531560  2534040  -2480\n",
       "1  1800120  1801790  -1670\n",
       "2  2843690  2843810   -120\n",
       "3  3746580  3751230  -4650\n",
       "4  1726290  1723490   2800"
      ]
     },
     "execution_count": 8,
     "metadata": {},
     "output_type": "execute_result"
    }
   ],
   "source": [
    "max_err = prev_predict_test['오차'].abs().max()\n",
    "min_err = prev_predict_test['오차'].abs().min()\n",
    "predict_rate = prev_predict_test.apply(lambda x: \n",
    "   x['예측 요금'] / x['실제 요금'] * 100 if x['실제 요금'] > x['예측 요금'] \n",
    "   else x['실제 요금'] / x['예측 요금'] * 100\n",
    "   , axis=1).mean()\n",
    "\n",
    "display(Markdown(\"# 공용부 요금 예측 시뮬레이션 결과 입니다.\\n\\n\"))\n",
    "\n",
    "print(\"• 최고 오차 : {}원\".format(format(max_err,\",\")))\n",
    "print(\"• 최소 오차 : {}원\".format(format(min_err,\",\")))\n",
    "print(\"• 평균 적중률 : {}%\".format(format(predict_rate,\",\")))\n",
    "\n",
    "prev_predict_test.head()"
   ]
  },
  {
   "cell_type": "code",
   "execution_count": 15,
   "id": "7b270bda",
   "metadata": {},
   "outputs": [
    {
     "data": {
      "text/html": [
       "<div>\n",
       "<style scoped>\n",
       "    .dataframe tbody tr th:only-of-type {\n",
       "        vertical-align: middle;\n",
       "    }\n",
       "\n",
       "    .dataframe tbody tr th {\n",
       "        vertical-align: top;\n",
       "    }\n",
       "\n",
       "    .dataframe thead th {\n",
       "        text-align: right;\n",
       "    }\n",
       "</style>\n",
       "<table border=\"1\" class=\"dataframe\">\n",
       "  <thead>\n",
       "    <tr style=\"text-align: right;\">\n",
       "      <th></th>\n",
       "      <th>실제 요금</th>\n",
       "      <th>예측 요금</th>\n",
       "      <th>오차</th>\n",
       "    </tr>\n",
       "  </thead>\n",
       "  <tbody>\n",
       "    <tr>\n",
       "      <th>460</th>\n",
       "      <td>1391330</td>\n",
       "      <td>1624280</td>\n",
       "      <td>-232950</td>\n",
       "    </tr>\n",
       "  </tbody>\n",
       "</table>\n",
       "</div>"
      ],
      "text/plain": [
       "       실제 요금    예측 요금       오차\n",
       "460  1391330  1624280  -232950"
      ]
     },
     "execution_count": 15,
     "metadata": {},
     "output_type": "execute_result"
    }
   ],
   "source": [
    "prev_predict_test[prev_predict_test['오차'].abs() > 232720]"
   ]
  },
  {
   "cell_type": "code",
   "execution_count": 17,
   "id": "77cb4c18",
   "metadata": {},
   "outputs": [
    {
     "data": {
      "text/plain": [
       "실제 요금    1391330\n",
       "예측 요금    1624280\n",
       "오차       -232950\n",
       "dtype: int64"
      ]
     },
     "execution_count": 17,
     "metadata": {},
     "output_type": "execute_result"
    }
   ],
   "source": [
    "PUBLIC_PERCENTAGE, _month, h_cols = households_columns[460]\n",
    "\n",
    "_m = m[h_cols]\n",
    "\n",
    "month_df = pd.DataFrame(_m.loc[_month])\n",
    "month_df.reset_index(inplace=True)\n",
    "month_df.columns = ['name', 'usage (kWh)']\n",
    "\n",
    "households_kWh = month_df['usage (kWh)'].sum()\n",
    "APT = round((households_kWh * 100) / (100 - PUBLIC_PERCENTAGE))\n",
    "\n",
    "pp = PrevPublicPredictor(\n",
    "    APT=APT,\n",
    "    month_df=month_df,\n",
    "    month=_month\n",
    ")\n",
    "\n",
    "pp.predict"
   ]
  },
  {
   "cell_type": "code",
   "execution_count": 22,
   "id": "8502d890",
   "metadata": {},
   "outputs": [],
   "source": [
    "import json"
   ]
  },
  {
   "cell_type": "code",
   "execution_count": 24,
   "id": "1080930e",
   "metadata": {},
   "outputs": [],
   "source": [
    "err_data_save = dict({\n",
    "    \"공용부 percentage\": PUBLIC_PERCENTAGE,\n",
    "    \"월\": _month,\n",
    "    \"가구구성\": h_cols.tolist()\n",
    "})\n",
    "\n",
    "with open(\"test_data.json\", 'w') as f:\n",
    "    json.dump(err_data_save, f)"
   ]
  },
  {
   "cell_type": "code",
   "execution_count": 25,
   "id": "87c3756c",
   "metadata": {},
   "outputs": [
    {
     "data": {
      "text/plain": [
       "46810"
      ]
     },
     "execution_count": 25,
     "metadata": {},
     "output_type": "execute_result"
    }
   ],
   "source": [
    "pp.basic"
   ]
  },
  {
   "cell_type": "code",
   "execution_count": 26,
   "id": "1629974d",
   "metadata": {},
   "outputs": [
    {
     "data": {
      "text/plain": [
       "847734"
      ]
     },
     "execution_count": 26,
     "metadata": {},
     "output_type": "execute_result"
    }
   ],
   "source": [
    "pp.elec_rate"
   ]
  },
  {
   "cell_type": "code",
   "execution_count": null,
   "id": "892ca71d",
   "metadata": {},
   "outputs": [],
   "source": []
  }
 ],
 "metadata": {
  "kernelspec": {
   "display_name": "Python 3 (ipykernel)",
   "language": "python",
   "name": "python3"
  },
  "language_info": {
   "codemirror_mode": {
    "name": "ipython",
    "version": 3
   },
   "file_extension": ".py",
   "mimetype": "text/x-python",
   "name": "python",
   "nbconvert_exporter": "python",
   "pygments_lexer": "ipython3",
   "version": "3.8.12"
  }
 },
 "nbformat": 4,
 "nbformat_minor": 5
}
