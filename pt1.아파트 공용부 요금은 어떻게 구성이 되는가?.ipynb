{
 "cells": [
  {
   "cell_type": "code",
   "execution_count": 1,
   "id": "58b8369a",
   "metadata": {},
   "outputs": [],
   "source": [
    "%load_ext autoreload\n",
    "%autoreload 2\n",
    "%reload_ext autoreload"
   ]
  },
  {
   "cell_type": "code",
   "execution_count": 2,
   "id": "29ee0f79",
   "metadata": {},
   "outputs": [],
   "source": [
    "import pandas as pd\n",
    "import numpy as np\n",
    "%matplotlib inline\n",
    "import matplotlib\n",
    "import matplotlib.pyplot as plt\n",
    "import math as mt\n",
    "import datetime as dt\n",
    "import random as ran\n",
    "from sklearn.metrics.pairwise import euclidean_distances as euc\n",
    "from functools import reduce\n",
    "import warnings\n",
    "\n",
    "# 한글출력\n",
    "matplotlib.rc('font', family='AppleGothic')\n",
    "plt.rcParams['axes.unicode_minus'] = False\n",
    "warnings.filterwarnings(action='ignore') \n",
    "\n",
    "from src import crs\n",
    "from IPython.display import clear_output, Markdown, display"
   ]
  },
  {
   "cell_type": "code",
   "execution_count": 3,
   "id": "ef159312",
   "metadata": {},
   "outputs": [],
   "source": [
    "# 1. load_excel\n",
    "\n",
    "# data/apt_all.xlsx\n",
    "# data/apt_1.xlsx\n",
    "# data/apt_3.xlsx\n",
    "# data/apt_4.xlsx\n",
    "# data/apt_std_nugin_1_3.xlsx\n",
    "\n",
    "data_path = \"data/apt_1.xlsx\"\n",
    "xlsx = pd.read_excel(data_path, header=None,\n",
    "                     skiprows=2, engine=\"openpyxl\")"
   ]
  },
  {
   "cell_type": "code",
   "execution_count": 4,
   "id": "0c74dff4",
   "metadata": {},
   "outputs": [],
   "source": [
    "# 2. data preprocessing\n",
    "p, m = crs.utils.data_preprocessing(xlsx)\n",
    "\n",
    "m.set_index(\"month\", inplace=True)"
   ]
  },
  {
   "cell_type": "code",
   "execution_count": 5,
   "id": "0b39a7f7",
   "metadata": {},
   "outputs": [
    {
     "name": "stdout",
     "output_type": "stream",
     "text": [
      "APT : 44,434kWh (평균 사용량: 411kWh)\n",
      "\t\t6,439,540원\n",
      "세대부 : 31,104kWh (70%) (평균 사용량: 288kWh)\n",
      "\t\t3,798,980원\n",
      "공용부 : 13,330kWh (30%) (평균 사용량: 123kWh)\n",
      "\t\t2,640,560원\n"
     ]
    },
    {
     "data": {
      "text/html": [
       "<div>\n",
       "<style scoped>\n",
       "    .dataframe tbody tr th:only-of-type {\n",
       "        vertical-align: middle;\n",
       "    }\n",
       "\n",
       "    .dataframe tbody tr th {\n",
       "        vertical-align: top;\n",
       "    }\n",
       "\n",
       "    .dataframe thead th {\n",
       "        text-align: right;\n",
       "    }\n",
       "</style>\n",
       "<table border=\"1\" class=\"dataframe\">\n",
       "  <thead>\n",
       "    <tr style=\"text-align: right;\">\n",
       "      <th></th>\n",
       "      <th>기본요금</th>\n",
       "      <th>전력량요금</th>\n",
       "      <th>기후환경요금</th>\n",
       "      <th>연료비 조정액</th>\n",
       "      <th>VAT</th>\n",
       "      <th>전력산업기반기금</th>\n",
       "      <th>기본요금 + 전력량요금</th>\n",
       "    </tr>\n",
       "  </thead>\n",
       "  <tbody>\n",
       "    <tr>\n",
       "      <th>APT</th>\n",
       "      <td>654480</td>\n",
       "      <td>4907088</td>\n",
       "      <td>235224</td>\n",
       "      <td>-133164</td>\n",
       "      <td>566363</td>\n",
       "      <td>209550</td>\n",
       "      <td>5561568</td>\n",
       "    </tr>\n",
       "    <tr>\n",
       "      <th>세대부</th>\n",
       "      <td>197480</td>\n",
       "      <td>3118820</td>\n",
       "      <td>164805</td>\n",
       "      <td>-93312</td>\n",
       "      <td>334205</td>\n",
       "      <td>123150</td>\n",
       "      <td>3316300</td>\n",
       "    </tr>\n",
       "    <tr>\n",
       "      <th>공용부</th>\n",
       "      <td>457000</td>\n",
       "      <td>1788268</td>\n",
       "      <td>70419</td>\n",
       "      <td>-39852</td>\n",
       "      <td>232158</td>\n",
       "      <td>86400</td>\n",
       "      <td>2245268</td>\n",
       "    </tr>\n",
       "    <tr>\n",
       "      <th>세대부 / APT percentage</th>\n",
       "      <td>30</td>\n",
       "      <td>64</td>\n",
       "      <td>70</td>\n",
       "      <td>70</td>\n",
       "      <td>59</td>\n",
       "      <td>59</td>\n",
       "      <td>60</td>\n",
       "    </tr>\n",
       "    <tr>\n",
       "      <th>공용부 / APT percentage</th>\n",
       "      <td>70</td>\n",
       "      <td>36</td>\n",
       "      <td>30</td>\n",
       "      <td>30</td>\n",
       "      <td>41</td>\n",
       "      <td>41</td>\n",
       "      <td>40</td>\n",
       "    </tr>\n",
       "  </tbody>\n",
       "</table>\n",
       "</div>"
      ],
      "text/plain": [
       "                        기본요금    전력량요금  기후환경요금  연료비 조정액     VAT 전력산업기반기금  \\\n",
       "APT                   654480  4907088  235224  -133164  566363   209550   \n",
       "세대부                   197480  3118820  164805   -93312  334205   123150   \n",
       "공용부                   457000  1788268   70419   -39852  232158    86400   \n",
       "세대부 / APT percentage      30       64      70       70      59       59   \n",
       "공용부 / APT percentage      70       36      30       30      41       41   \n",
       "\n",
       "                     기본요금 + 전력량요금  \n",
       "APT                       5561568  \n",
       "세대부                       3316300  \n",
       "공용부                       2245268  \n",
       "세대부 / APT percentage           60  \n",
       "공용부 / APT percentage           40  "
      ]
     },
     "execution_count": 5,
     "metadata": {},
     "output_type": "execute_result"
    }
   ],
   "source": [
    "# 3. data init\n",
    "_month = 1\n",
    "\n",
    "month_df = pd.DataFrame(m.loc[_month])\n",
    "month_df.reset_index(inplace=True)\n",
    "\n",
    "month_df.columns = ['name', 'usage (kWh)']\n",
    "\n",
    "PUBLIC_PERCENTAGE = 30\n",
    "APT = crs.utils.get_APT(month_df, PUBLIC_PERCENTAGE)\n",
    "\n",
    "calc = crs.models.ManagementOffice(\n",
    "        month=_month,\n",
    "        households=month_df,\n",
    "        APT=APT,\n",
    "        contract=\"단일계약\"\n",
    "    )\n",
    "apt = calc.apart\n",
    "    \n",
    "crs.utils.print_apt_info(_month, month_df, APT)\n",
    "\n",
    "hh, anal = crs.utils.get_analysis_df(_month,month_df, APT)\n",
    "anal.head()"
   ]
  },
  {
   "cell_type": "markdown",
   "id": "1a6653d8",
   "metadata": {},
   "source": [
    "# What is public fee?\n",
    "---\n",
    "- 공용부의 요금은 아파트 전체 사용요금에서 세대부의 요금을 뺀 나머지가 공용부의 요금이 되어지기 때문에 전기요금의 기본 구성요소인 기본요금, 전력량요금, 기후환경요금, 연료비 조정액 등으로 표현되어지지 않는다.\n",
    "- APT 평균 사용량에 의하여 산정된 요금에서 세대부의 요금을 뺀 나머지가 공용부의 요금이 되어짐으로, 세대부 가구구성이랑 관련이 있다.\n",
    "- 세대부의 가구들이 APT평균사용량에 의하여 산정된 요금을 각 각의 사용량만큼 가지고 간다라는 의미에서 **'수거'의 개념을 사용하여 공용부의 전기요금 구성요소들이 어떤 특징을 보여주는지에 대해서 살펴보기로 한다.**\n",
    "\n",
    "#### 공용부 전기요금 이론을 확립하기 위한 연구"
   ]
  },
  {
   "cell_type": "markdown",
   "id": "5c11f6b3",
   "metadata": {},
   "source": [
    "# 1. 기본요금\n",
    "---\n",
    "- 세대부 사용량 구성이 고정되어있다는 조건하에 조건 주택용 고압 요금표에서 특정 사용량에 대해 고정된 기본요금을 부여하듯이, 공용부의 기본요금도 누진단계별로 고정되어 있다."
   ]
  },
  {
   "cell_type": "code",
   "execution_count": 7,
   "id": "3519262f",
   "metadata": {},
   "outputs": [
    {
     "data": {
      "image/png": "[encoded data removed]",
      "text/plain": [
       "<Figure size 1152x576 with 1 Axes>"
      ]
     },
     "metadata": {
      "needs_background": "light"
     },
     "output_type": "display_data"
    },
    {
     "data": {
      "text/html": [
       "<div>\n",
       "<style scoped>\n",
       "    .dataframe tbody tr th:only-of-type {\n",
       "        vertical-align: middle;\n",
       "    }\n",
       "\n",
       "    .dataframe tbody tr th {\n",
       "        vertical-align: top;\n",
       "    }\n",
       "\n",
       "    .dataframe thead th {\n",
       "        text-align: right;\n",
       "    }\n",
       "</style>\n",
       "<table border=\"1\" class=\"dataframe\">\n",
       "  <thead>\n",
       "    <tr style=\"text-align: right;\">\n",
       "      <th></th>\n",
       "      <th>10%</th>\n",
       "      <th>11%</th>\n",
       "      <th>12%</th>\n",
       "      <th>13%</th>\n",
       "      <th>14%</th>\n",
       "    </tr>\n",
       "  </thead>\n",
       "  <tbody>\n",
       "    <tr>\n",
       "      <th>APT</th>\n",
       "      <td>136080</td>\n",
       "      <td>136080</td>\n",
       "      <td>136080</td>\n",
       "      <td>136080</td>\n",
       "      <td>136080</td>\n",
       "    </tr>\n",
       "    <tr>\n",
       "      <th>세대부</th>\n",
       "      <td>197480</td>\n",
       "      <td>197480</td>\n",
       "      <td>197480</td>\n",
       "      <td>197480</td>\n",
       "      <td>197480</td>\n",
       "    </tr>\n",
       "    <tr>\n",
       "      <th>공용부</th>\n",
       "      <td>-61400</td>\n",
       "      <td>-61400</td>\n",
       "      <td>-61400</td>\n",
       "      <td>-61400</td>\n",
       "      <td>-61400</td>\n",
       "    </tr>\n",
       "  </tbody>\n",
       "</table>\n",
       "</div>"
      ],
      "text/plain": [
       "        10%     11%     12%     13%     14%\n",
       "APT  136080  136080  136080  136080  136080\n",
       "세대부  197480  197480  197480  197480  197480\n",
       "공용부  -61400  -61400  -61400  -61400  -61400"
      ]
     },
     "execution_count": 7,
     "metadata": {},
     "output_type": "execute_result"
    }
   ],
   "source": [
    "basic_df = pd.DataFrame(index=['APT', '세대부', '공용부'])\n",
    "\n",
    "for PUBLIC_PERCENTAGE in range(10, 50, 1):\n",
    "    APT = crs.utils.get_APT(month_df, PUBLIC_PERCENTAGE)\n",
    "    _, anal_df = crs.utils.get_analysis_df(_month, month_df, APT)\n",
    "    \n",
    "    basic_df[\"{}%\".format(PUBLIC_PERCENTAGE)] = \\\n",
    "        anal_df['기본요금'].values[:3]\n",
    "    \n",
    "plt.figure(figsize=(16,8))\n",
    "palette = plt.cm.get_cmap(\"rainbow\", len(basic_df))\n",
    "for idx,(index_name, row) in enumerate(basic_df.iterrows()):\n",
    "    plt.plot(row.values, c=palette(idx), \n",
    "             label=\"{} 기본요금\".format(index_name))\n",
    "plt.legend(loc='upper left')\n",
    "plt.show()\n",
    "\n",
    "basic_df[basic_df.columns[:5]]"
   ]
  },
  {
   "cell_type": "markdown",
   "id": "13ac4da7",
   "metadata": {},
   "source": [
    "## 기본요금에서의 수거의 개념\n",
    "- 공용부의 기본요금은 가구 사용량 구성에 따라 변한다.\n",
    "- APT 평균사용량에 대한 기본요금은 [APT 평균사용량 기본요금 * 가구 수]로 쉽게 예측이 가능하지만, 공용부 기본요금은 세대부에서 기본요금을 얼마나 **수거**해갈지 모르기 때문에, 쉽게 예측이 불 가능하다.\n",
    "- **공용부의 기본요금을 예측하기 위해서는 세대부의 사용량 구성을 누진단계별로 그룹화해주는 과정이 필요하다.**\n",
    "    - **이후 APT 평균사용량에 대한 기본요금과의 차를 구하면 그것이 공용부의 기본요금이다.**"
   ]
  },
  {
   "cell_type": "code",
   "execution_count": 52,
   "id": "e000e1d0",
   "metadata": {},
   "outputs": [
    {
     "data": {
      "text/html": [
       "<div>\n",
       "<style scoped>\n",
       "    .dataframe tbody tr th:only-of-type {\n",
       "        vertical-align: middle;\n",
       "    }\n",
       "\n",
       "    .dataframe tbody tr th {\n",
       "        vertical-align: top;\n",
       "    }\n",
       "\n",
       "    .dataframe thead th {\n",
       "        text-align: right;\n",
       "    }\n",
       "</style>\n",
       "<table border=\"1\" class=\"dataframe\">\n",
       "  <thead>\n",
       "    <tr style=\"text-align: right;\">\n",
       "      <th></th>\n",
       "      <th>가구 수</th>\n",
       "      <th>기본요금</th>\n",
       "      <th>토탈</th>\n",
       "    </tr>\n",
       "    <tr>\n",
       "      <th>누진단계</th>\n",
       "      <th></th>\n",
       "      <th></th>\n",
       "      <th></th>\n",
       "    </tr>\n",
       "  </thead>\n",
       "  <tbody>\n",
       "    <tr>\n",
       "      <th>1</th>\n",
       "      <td>20</td>\n",
       "      <td>730</td>\n",
       "      <td>14600</td>\n",
       "    </tr>\n",
       "    <tr>\n",
       "      <th>2</th>\n",
       "      <td>73</td>\n",
       "      <td>1260</td>\n",
       "      <td>91980</td>\n",
       "    </tr>\n",
       "    <tr>\n",
       "      <th>3</th>\n",
       "      <td>15</td>\n",
       "      <td>6060</td>\n",
       "      <td>90900</td>\n",
       "    </tr>\n",
       "    <tr>\n",
       "      <th>세대부 토탈</th>\n",
       "      <td>108</td>\n",
       "      <td>8050</td>\n",
       "      <td>197480</td>\n",
       "    </tr>\n",
       "  </tbody>\n",
       "</table>\n",
       "</div>"
      ],
      "text/plain": [
       "        가구 수  기본요금      토탈\n",
       "누진단계                      \n",
       "1         20   730   14600\n",
       "2         73  1260   91980\n",
       "3         15  6060   90900\n",
       "세대부 토탈   108  8050  197480"
      ]
     },
     "execution_count": 52,
     "metadata": {},
     "output_type": "execute_result"
    }
   ],
   "source": [
    "step_df = month_df.copy()\n",
    "step_df['누진단계'] = np.array([crs.utils.get_nugin_step(_, calc.fee) \n",
    "                   for _ in month_df['usage (kWh)']]) + 1\n",
    "\n",
    "step_count = pd.DataFrame(\n",
    "    step_df['누진단계'].groupby(step_df['누진단계']).count())\n",
    "step_count.columns = ['가구 수']\n",
    "step_count['기본요금'] = [_[2] for _ in calc.fee]\n",
    "step_count['토탈'] = \\\n",
    "    step_count.apply(lambda x: x['가구 수'] * x['기본요금'], axis=1)\n",
    "\n",
    "step_count.loc['세대부 토탈'] = step_count.sum(axis=0)\n",
    "\n",
    "step_count"
   ]
  },
  {
   "cell_type": "code",
   "execution_count": 53,
   "id": "6740839b",
   "metadata": {},
   "outputs": [
    {
     "data": {
      "text/plain": [
       "2"
      ]
     },
     "execution_count": 53,
     "metadata": {},
     "output_type": "execute_result"
    }
   ],
   "source": [
    "_APT = round(APT / len(month_df))\n",
    "crs.utils.get_nugin_step(_APT, calc.fee)"
   ]
  },
  {
   "cell_type": "code",
   "execution_count": 54,
   "id": "f19d59cd",
   "metadata": {},
   "outputs": [],
   "source": [
    "rs_step_count = step_count.reset_index()"
   ]
  },
  {
   "cell_type": "code",
   "execution_count": 65,
   "id": "bfc84317",
   "metadata": {},
   "outputs": [
    {
     "data": {
      "image/png": "[encoded data removed]",
      "text/plain": [
       "<Figure size 1152x144 with 1 Axes>"
      ]
     },
     "metadata": {
      "needs_background": "light"
     },
     "output_type": "display_data"
    }
   ],
   "source": [
    "plt.figure(figsize=(16, 2))\n",
    "plt.table(cellText=rs_step_count.values,\n",
    "           colLabels=rs_step_count.columns,\n",
    "           loc=\"center\")\n",
    "plt.axis('tight')\n",
    "plt.axis('off')\n",
    "\n",
    "plt.show()"
   ]
  },
  {
   "cell_type": "markdown",
   "id": "e1ede36e",
   "metadata": {},
   "source": [
    "# 2. 전력량요금\n",
    "---\n",
    "- 공용부의 전력량요금은 APT 평균사용량 안에서 세대부 평균사용량 이후의 누진단계부터 가격 산정이 시작된다."
   ]
  },
  {
   "cell_type": "markdown",
   "id": "2e228a56",
   "metadata": {},
   "source": [
    "# 3. 기후환경요금, 연료비 조정액\n",
    "---\n",
    "- 머라머라"
   ]
  },
  {
   "cell_type": "code",
   "execution_count": 42,
   "id": "2ff9e255",
   "metadata": {},
   "outputs": [
    {
     "data": {
      "text/plain": [
       "array([[1, 20, 730, 14600],\n",
       "       [2, 73, 1260, 91980],\n",
       "       [3, 15, 6060, 90900],\n",
       "       ['세대부 토탈', 108, 8050, 197480]], dtype=object)"
      ]
     },
     "execution_count": 42,
     "metadata": {},
     "output_type": "execute_result"
    }
   ],
   "source": [
    "rs_step_count.values"
   ]
  }
 ],
 "metadata": {
  "kernelspec": {
   "display_name": "Python 3 (ipykernel)",
   "language": "python",
   "name": "python3"
  },
  "language_info": {
   "codemirror_mode": {
    "name": "ipython",
    "version": 3
   },
   "file_extension": ".py",
   "mimetype": "text/x-python",
   "name": "python",
   "nbconvert_exporter": "python",
   "pygments_lexer": "ipython3",
   "version": "3.8.12"
  }
 },
 "nbformat": 4,
 "nbformat_minor": 5
}
