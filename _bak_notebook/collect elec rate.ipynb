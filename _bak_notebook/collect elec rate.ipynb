{
 "cells": [
  {
   "cell_type": "code",
   "execution_count": 1,
   "id": "9da29acd",
   "metadata": {},
   "outputs": [],
   "source": [
    "%load_ext autoreload\n",
    "%autoreload 2\n",
    "%reload_ext autoreload"
   ]
  },
  {
   "cell_type": "code",
   "execution_count": 66,
   "id": "63744223",
   "metadata": {},
   "outputs": [],
   "source": [
    "import pandas as pd\n",
    "import numpy as np\n",
    "%matplotlib inline\n",
    "import matplotlib\n",
    "import matplotlib.pyplot as plt\n",
    "import matplotlib\n",
    "# matplotlib.use('Agg')\n",
    "from matplotlib import pyplot as plt\n",
    "from celluloid import Camera\n",
    "import math as mt\n",
    "import datetime as dt\n",
    "from sklearn.cluster import KMeans\n",
    "import random as ran\n",
    "from sklearn.metrics.pairwise import euclidean_distances as euc\n",
    "from functools import reduce\n",
    "\n",
    "# 한글출력\n",
    "matplotlib.rc('font', family='AppleGothic')\n",
    "plt.rcParams['axes.unicode_minus'] = False\n",
    "\n",
    "from src import crs\n",
    "from IPython.display import clear_output, Markdown, display"
   ]
  },
  {
   "cell_type": "code",
   "execution_count": 23,
   "id": "04e40845",
   "metadata": {},
   "outputs": [],
   "source": [
    "# 1. load_excel\n",
    "\n",
    "# data/apt_all.xlsx\n",
    "# data/apt_1.xlsx\n",
    "# data/apt_3.xlsx\n",
    "# data/apt_4.xlsx\n",
    "# data/apt_std_nugin_1_3.xlsx\n",
    "\n",
    "data_path = \"data/apt_1.xlsx\"\n",
    "xlsx = pd.read_excel(data_path, header=None,\n",
    "                     skiprows=2, engine=\"openpyxl\")"
   ]
  },
  {
   "cell_type": "code",
   "execution_count": 24,
   "id": "1c8378a3",
   "metadata": {},
   "outputs": [
    {
     "name": "stderr",
     "output_type": "stream",
     "text": [
      "/Users/formegusto/Desktop/idoformegusto/development/research/what-is-public-fee/src/crs/utils/data_preprocessing.py:26: PerformanceWarning: DataFrame is highly fragmented.  This is usually the result of calling `frame.insert` many times, which has poor performance.  Consider joining all columns at once using pd.concat(axis=1) instead.  To get a de-fragmented frame, use `newframe = frame.copy()`\n",
      "  datas_df[household_name] = household_df[col][3:].to_list()\n",
      "/Users/formegusto/Desktop/idoformegusto/development/research/what-is-public-fee/src/crs/utils/data_preprocessing.py:49: PerformanceWarning: DataFrame is highly fragmented.  This is usually the result of calling `frame.insert` many times, which has poor performance.  Consider joining all columns at once using pd.concat(axis=1) instead.  To get a de-fragmented frame, use `newframe = frame.copy()`\n",
      "  month_usage_df[name] = [\n"
     ]
    },
    {
     "data": {
      "text/html": [
       "<div>\n",
       "<style scoped>\n",
       "    .dataframe tbody tr th:only-of-type {\n",
       "        vertical-align: middle;\n",
       "    }\n",
       "\n",
       "    .dataframe tbody tr th {\n",
       "        vertical-align: top;\n",
       "    }\n",
       "\n",
       "    .dataframe thead th {\n",
       "        text-align: right;\n",
       "    }\n",
       "</style>\n",
       "<table border=\"1\" class=\"dataframe\">\n",
       "  <thead>\n",
       "    <tr style=\"text-align: right;\">\n",
       "      <th></th>\n",
       "      <th>아파트1-101-1002</th>\n",
       "      <th>아파트1-101-104</th>\n",
       "      <th>아파트1-101-1102</th>\n",
       "      <th>아파트1-101-1202</th>\n",
       "      <th>아파트1-101-1302</th>\n",
       "      <th>아파트1-101-1401</th>\n",
       "      <th>아파트1-101-1403</th>\n",
       "      <th>아파트1-101-1502</th>\n",
       "      <th>아파트1-101-1504</th>\n",
       "      <th>아파트1-101-1602</th>\n",
       "      <th>...</th>\n",
       "      <th>아파트1-104-303</th>\n",
       "      <th>아파트1-104-404</th>\n",
       "      <th>아파트1-104-408</th>\n",
       "      <th>아파트1-104-503</th>\n",
       "      <th>아파트1-104-507</th>\n",
       "      <th>아파트1-104-606</th>\n",
       "      <th>아파트1-104-705</th>\n",
       "      <th>아파트1-104-708</th>\n",
       "      <th>아파트1-104-902</th>\n",
       "      <th>아파트1-104-905</th>\n",
       "    </tr>\n",
       "    <tr>\n",
       "      <th>month</th>\n",
       "      <th></th>\n",
       "      <th></th>\n",
       "      <th></th>\n",
       "      <th></th>\n",
       "      <th></th>\n",
       "      <th></th>\n",
       "      <th></th>\n",
       "      <th></th>\n",
       "      <th></th>\n",
       "      <th></th>\n",
       "      <th></th>\n",
       "      <th></th>\n",
       "      <th></th>\n",
       "      <th></th>\n",
       "      <th></th>\n",
       "      <th></th>\n",
       "      <th></th>\n",
       "      <th></th>\n",
       "      <th></th>\n",
       "      <th></th>\n",
       "      <th></th>\n",
       "    </tr>\n",
       "  </thead>\n",
       "  <tbody>\n",
       "    <tr>\n",
       "      <th>1</th>\n",
       "      <td>253</td>\n",
       "      <td>689</td>\n",
       "      <td>183</td>\n",
       "      <td>239</td>\n",
       "      <td>455</td>\n",
       "      <td>343</td>\n",
       "      <td>380</td>\n",
       "      <td>219</td>\n",
       "      <td>389</td>\n",
       "      <td>350</td>\n",
       "      <td>...</td>\n",
       "      <td>10</td>\n",
       "      <td>111</td>\n",
       "      <td>39</td>\n",
       "      <td>151</td>\n",
       "      <td>181</td>\n",
       "      <td>180</td>\n",
       "      <td>290</td>\n",
       "      <td>184</td>\n",
       "      <td>176</td>\n",
       "      <td>148</td>\n",
       "    </tr>\n",
       "    <tr>\n",
       "      <th>2</th>\n",
       "      <td>251</td>\n",
       "      <td>481</td>\n",
       "      <td>177</td>\n",
       "      <td>218</td>\n",
       "      <td>397</td>\n",
       "      <td>297</td>\n",
       "      <td>339</td>\n",
       "      <td>197</td>\n",
       "      <td>348</td>\n",
       "      <td>288</td>\n",
       "      <td>...</td>\n",
       "      <td>77</td>\n",
       "      <td>107</td>\n",
       "      <td>30</td>\n",
       "      <td>114</td>\n",
       "      <td>151</td>\n",
       "      <td>151</td>\n",
       "      <td>263</td>\n",
       "      <td>177</td>\n",
       "      <td>158</td>\n",
       "      <td>127</td>\n",
       "    </tr>\n",
       "    <tr>\n",
       "      <th>3</th>\n",
       "      <td>255</td>\n",
       "      <td>424</td>\n",
       "      <td>203</td>\n",
       "      <td>222</td>\n",
       "      <td>378</td>\n",
       "      <td>303</td>\n",
       "      <td>349</td>\n",
       "      <td>202</td>\n",
       "      <td>357</td>\n",
       "      <td>368</td>\n",
       "      <td>...</td>\n",
       "      <td>77</td>\n",
       "      <td>120</td>\n",
       "      <td>28</td>\n",
       "      <td>116</td>\n",
       "      <td>163</td>\n",
       "      <td>157</td>\n",
       "      <td>281</td>\n",
       "      <td>182</td>\n",
       "      <td>171</td>\n",
       "      <td>127</td>\n",
       "    </tr>\n",
       "    <tr>\n",
       "      <th>4</th>\n",
       "      <td>252</td>\n",
       "      <td>355</td>\n",
       "      <td>180</td>\n",
       "      <td>230</td>\n",
       "      <td>368</td>\n",
       "      <td>278</td>\n",
       "      <td>298</td>\n",
       "      <td>188</td>\n",
       "      <td>346</td>\n",
       "      <td>365</td>\n",
       "      <td>...</td>\n",
       "      <td>76</td>\n",
       "      <td>64</td>\n",
       "      <td>58</td>\n",
       "      <td>109</td>\n",
       "      <td>151</td>\n",
       "      <td>148</td>\n",
       "      <td>257</td>\n",
       "      <td>175</td>\n",
       "      <td>140</td>\n",
       "      <td>121</td>\n",
       "    </tr>\n",
       "    <tr>\n",
       "      <th>5</th>\n",
       "      <td>230</td>\n",
       "      <td>357</td>\n",
       "      <td>258</td>\n",
       "      <td>203</td>\n",
       "      <td>414</td>\n",
       "      <td>270</td>\n",
       "      <td>418</td>\n",
       "      <td>156</td>\n",
       "      <td>320</td>\n",
       "      <td>265</td>\n",
       "      <td>...</td>\n",
       "      <td>150</td>\n",
       "      <td>63</td>\n",
       "      <td>75</td>\n",
       "      <td>137</td>\n",
       "      <td>115</td>\n",
       "      <td>13</td>\n",
       "      <td>84</td>\n",
       "      <td>149</td>\n",
       "      <td>36</td>\n",
       "      <td>117</td>\n",
       "    </tr>\n",
       "  </tbody>\n",
       "</table>\n",
       "<p>5 rows × 108 columns</p>\n",
       "</div>"
      ],
      "text/plain": [
       "       아파트1-101-1002  아파트1-101-104  아파트1-101-1102  아파트1-101-1202  \\\n",
       "month                                                              \n",
       "1                253           689            183            239   \n",
       "2                251           481            177            218   \n",
       "3                255           424            203            222   \n",
       "4                252           355            180            230   \n",
       "5                230           357            258            203   \n",
       "\n",
       "       아파트1-101-1302  아파트1-101-1401  아파트1-101-1403  아파트1-101-1502  \\\n",
       "month                                                               \n",
       "1                455            343            380            219   \n",
       "2                397            297            339            197   \n",
       "3                378            303            349            202   \n",
       "4                368            278            298            188   \n",
       "5                414            270            418            156   \n",
       "\n",
       "       아파트1-101-1504  아파트1-101-1602  ...  아파트1-104-303  아파트1-104-404  \\\n",
       "month                                ...                               \n",
       "1                389            350  ...            10           111   \n",
       "2                348            288  ...            77           107   \n",
       "3                357            368  ...            77           120   \n",
       "4                346            365  ...            76            64   \n",
       "5                320            265  ...           150            63   \n",
       "\n",
       "       아파트1-104-408  아파트1-104-503  아파트1-104-507  아파트1-104-606  아파트1-104-705  \\\n",
       "month                                                                         \n",
       "1                39           151           181           180           290   \n",
       "2                30           114           151           151           263   \n",
       "3                28           116           163           157           281   \n",
       "4                58           109           151           148           257   \n",
       "5                75           137           115            13            84   \n",
       "\n",
       "       아파트1-104-708  아파트1-104-902  아파트1-104-905  \n",
       "month                                            \n",
       "1               184           176           148  \n",
       "2               177           158           127  \n",
       "3               182           171           127  \n",
       "4               175           140           121  \n",
       "5               149            36           117  \n",
       "\n",
       "[5 rows x 108 columns]"
      ]
     },
     "execution_count": 24,
     "metadata": {},
     "output_type": "execute_result"
    }
   ],
   "source": [
    "# 2. data preprocessing\n",
    "p, m = crs.utils.data_preprocessing(xlsx)\n",
    "\n",
    "m.set_index(\"month\", inplace=True)\n",
    "m.head()"
   ]
  },
  {
   "cell_type": "code",
   "execution_count": 57,
   "id": "5cbda895",
   "metadata": {},
   "outputs": [
    {
     "data": {
      "text/html": [
       "<div>\n",
       "<style scoped>\n",
       "    .dataframe tbody tr th:only-of-type {\n",
       "        vertical-align: middle;\n",
       "    }\n",
       "\n",
       "    .dataframe tbody tr th {\n",
       "        vertical-align: top;\n",
       "    }\n",
       "\n",
       "    .dataframe thead th {\n",
       "        text-align: right;\n",
       "    }\n",
       "</style>\n",
       "<table border=\"1\" class=\"dataframe\">\n",
       "  <thead>\n",
       "    <tr style=\"text-align: right;\">\n",
       "      <th></th>\n",
       "      <th>전력량요금</th>\n",
       "    </tr>\n",
       "  </thead>\n",
       "  <tbody>\n",
       "    <tr>\n",
       "      <th>APT</th>\n",
       "      <td>2935656</td>\n",
       "    </tr>\n",
       "    <tr>\n",
       "      <th>세대부</th>\n",
       "      <td>3118820</td>\n",
       "    </tr>\n",
       "    <tr>\n",
       "      <th>공용부</th>\n",
       "      <td>-183164</td>\n",
       "    </tr>\n",
       "  </tbody>\n",
       "</table>\n",
       "</div>"
      ],
      "text/plain": [
       "       전력량요금\n",
       "APT  2935656\n",
       "세대부  3118820\n",
       "공용부  -183164"
      ]
     },
     "execution_count": 57,
     "metadata": {},
     "output_type": "execute_result"
    }
   ],
   "source": [
    "_month = 1\n",
    "\n",
    "month_df = pd.DataFrame(m.loc[_month])\n",
    "month_df.reset_index(inplace=True)\n",
    "\n",
    "month_df.columns = ['name', 'usage (kWh)']\n",
    "\n",
    "households_kWh = month_df['usage (kWh)'].sum()\n",
    "PUBLIC_PERCENTAGE = 0\n",
    "APT = round((households_kWh * 100) / (100 - PUBLIC_PERCENTAGE))\n",
    "\n",
    "hh, anal = crs.utils.get_analysis_df(_month,month_df, APT)\n",
    "pd.DataFrame(anal[['전력량요금']][:3])"
   ]
  },
  {
   "cell_type": "code",
   "execution_count": 48,
   "id": "373af50e",
   "metadata": {},
   "outputs": [
    {
     "data": {
      "text/html": [
       "<div>\n",
       "<style scoped>\n",
       "    .dataframe tbody tr th:only-of-type {\n",
       "        vertical-align: middle;\n",
       "    }\n",
       "\n",
       "    .dataframe tbody tr th {\n",
       "        vertical-align: top;\n",
       "    }\n",
       "\n",
       "    .dataframe thead th {\n",
       "        text-align: right;\n",
       "    }\n",
       "</style>\n",
       "<table border=\"1\" class=\"dataframe\">\n",
       "  <thead>\n",
       "    <tr style=\"text-align: right;\">\n",
       "      <th></th>\n",
       "      <th>전력량요금</th>\n",
       "    </tr>\n",
       "  </thead>\n",
       "  <tbody>\n",
       "    <tr>\n",
       "      <th>APT</th>\n",
       "      <td>2935656</td>\n",
       "    </tr>\n",
       "    <tr>\n",
       "      <th>세대부</th>\n",
       "      <td>3118820</td>\n",
       "    </tr>\n",
       "    <tr>\n",
       "      <th>공용부</th>\n",
       "      <td>-183164</td>\n",
       "    </tr>\n",
       "  </tbody>\n",
       "</table>\n",
       "</div>"
      ],
      "text/plain": [
       "       전력량요금\n",
       "APT  2935656\n",
       "세대부  3118820\n",
       "공용부  -183164"
      ]
     },
     "execution_count": 48,
     "metadata": {},
     "output_type": "execute_result"
    }
   ],
   "source": [
    "_month = 1\n",
    "\n",
    "month_df = pd.DataFrame(m.loc[_month])\n",
    "month_df.reset_index(inplace=True)\n",
    "\n",
    "month_df.columns = ['name', 'usage (kWh)']\n",
    "\n",
    "households_kWh = month_df['usage (kWh)'].sum()\n",
    "PUBLIC_PERCENTAGE = 0\n",
    "APT = round((households_kWh * 100) / (100 - PUBLIC_PERCENTAGE))\n",
    "\n",
    "hh, anal = crs.utils.get_analysis_df(_month,month_df, APT)\n",
    "pd.DataFrame(anal[['전력량요금']][:3])"
   ]
  },
  {
   "cell_type": "code",
   "execution_count": 114,
   "id": "46cf3405",
   "metadata": {},
   "outputs": [
    {
     "data": {
      "text/html": [
       "<div>\n",
       "<style scoped>\n",
       "    .dataframe tbody tr th:only-of-type {\n",
       "        vertical-align: middle;\n",
       "    }\n",
       "\n",
       "    .dataframe tbody tr th {\n",
       "        vertical-align: top;\n",
       "    }\n",
       "\n",
       "    .dataframe thead th {\n",
       "        text-align: right;\n",
       "    }\n",
       "</style>\n",
       "<table border=\"1\" class=\"dataframe\">\n",
       "  <thead>\n",
       "    <tr style=\"text-align: right;\">\n",
       "      <th></th>\n",
       "      <th>Round</th>\n",
       "      <th>Type</th>\n",
       "      <th>Percentage</th>\n",
       "    </tr>\n",
       "  </thead>\n",
       "  <tbody>\n",
       "    <tr>\n",
       "      <th>0</th>\n",
       "      <td>1</td>\n",
       "      <td>공용부</td>\n",
       "      <td>10</td>\n",
       "    </tr>\n",
       "    <tr>\n",
       "      <th>1</th>\n",
       "      <td>1</td>\n",
       "      <td>세대부</td>\n",
       "      <td>90</td>\n",
       "    </tr>\n",
       "    <tr>\n",
       "      <th>2</th>\n",
       "      <td>1</td>\n",
       "      <td>공용부 연료비조정액</td>\n",
       "      <td>10</td>\n",
       "    </tr>\n",
       "    <tr>\n",
       "      <th>3</th>\n",
       "      <td>2</td>\n",
       "      <td>공용부</td>\n",
       "      <td>11</td>\n",
       "    </tr>\n",
       "    <tr>\n",
       "      <th>4</th>\n",
       "      <td>2</td>\n",
       "      <td>세대부</td>\n",
       "      <td>89</td>\n",
       "    </tr>\n",
       "    <tr>\n",
       "      <th>...</th>\n",
       "      <td>...</td>\n",
       "      <td>...</td>\n",
       "      <td>...</td>\n",
       "    </tr>\n",
       "    <tr>\n",
       "      <th>175</th>\n",
       "      <td>59</td>\n",
       "      <td>세대부</td>\n",
       "      <td>32</td>\n",
       "    </tr>\n",
       "    <tr>\n",
       "      <th>176</th>\n",
       "      <td>59</td>\n",
       "      <td>공용부 연료비조정액</td>\n",
       "      <td>68</td>\n",
       "    </tr>\n",
       "    <tr>\n",
       "      <th>177</th>\n",
       "      <td>60</td>\n",
       "      <td>공용부</td>\n",
       "      <td>69</td>\n",
       "    </tr>\n",
       "    <tr>\n",
       "      <th>178</th>\n",
       "      <td>60</td>\n",
       "      <td>세대부</td>\n",
       "      <td>31</td>\n",
       "    </tr>\n",
       "    <tr>\n",
       "      <th>179</th>\n",
       "      <td>60</td>\n",
       "      <td>공용부 연료비조정액</td>\n",
       "      <td>69</td>\n",
       "    </tr>\n",
       "  </tbody>\n",
       "</table>\n",
       "<p>180 rows × 3 columns</p>\n",
       "</div>"
      ],
      "text/plain": [
       "     Round        Type  Percentage\n",
       "0        1         공용부          10\n",
       "1        1         세대부          90\n",
       "2        1  공용부 연료비조정액          10\n",
       "3        2         공용부          11\n",
       "4        2         세대부          89\n",
       "..     ...         ...         ...\n",
       "175     59         세대부          32\n",
       "176     59  공용부 연료비조정액          68\n",
       "177     60         공용부          69\n",
       "178     60         세대부          31\n",
       "179     60  공용부 연료비조정액          69\n",
       "\n",
       "[180 rows x 3 columns]"
      ]
     },
     "execution_count": 114,
     "metadata": {},
     "output_type": "execute_result"
    }
   ],
   "source": [
    "rounds = list()\n",
    "names = list()\n",
    "results = list()\n",
    "\n",
    "_month = 1\n",
    "\n",
    "month_df = pd.DataFrame(m.loc[_month])\n",
    "month_df.reset_index(inplace=True)\n",
    "\n",
    "month_df.columns = ['name', 'usage (kWh)']\n",
    "\n",
    "households_kWh = month_df['usage (kWh)'].sum()\n",
    "\n",
    "for Round, PUBLIC_PERCENTAGE in enumerate(range(10, 70)):\n",
    "    APT = round((households_kWh * 100) / (100 - PUBLIC_PERCENTAGE))\n",
    "\n",
    "    hh, anal = crs.utils.get_analysis_df(_month,month_df, APT)\n",
    "    \n",
    "    for _ in range(0,3):\n",
    "        rounds.append(Round + 1)\n",
    "        \n",
    "    names.append(\"공용부\")\n",
    "    names.append(\"세대부\")\n",
    "    names.append(\"공용부 연료비조정액\")\n",
    "    \n",
    "    results.append(PUBLIC_PERCENTAGE)\n",
    "    results.append(100 - PUBLIC_PERCENTAGE)\n",
    "    results.append(anal.loc['공용부 / APT percentage']['연료비 조정액'])\n",
    "\n",
    "data = list()\n",
    "data.append(rounds)\n",
    "data.append(names)\n",
    "data.append(results)\n",
    "\n",
    "rows = zip (data[0], data[1], data[2])\n",
    "headers = ['Round', 'Type', 'Percentage']\n",
    "\n",
    "df = pd.DataFrame(list(rows), columns=headers)\n",
    "\n",
    "df"
   ]
  },
  {
   "cell_type": "code",
   "execution_count": 115,
   "id": "7952800a",
   "metadata": {},
   "outputs": [
    {
     "data": {
      "text/html": [
       "<div>\n",
       "<style scoped>\n",
       "    .dataframe tbody tr th:only-of-type {\n",
       "        vertical-align: middle;\n",
       "    }\n",
       "\n",
       "    .dataframe tbody tr th {\n",
       "        vertical-align: top;\n",
       "    }\n",
       "\n",
       "    .dataframe thead th {\n",
       "        text-align: right;\n",
       "    }\n",
       "</style>\n",
       "<table border=\"1\" class=\"dataframe\">\n",
       "  <thead>\n",
       "    <tr style=\"text-align: right;\">\n",
       "      <th>Type</th>\n",
       "      <th>공용부</th>\n",
       "      <th>세대부</th>\n",
       "      <th>공용부 연료비조정액</th>\n",
       "    </tr>\n",
       "    <tr>\n",
       "      <th>Round</th>\n",
       "      <th></th>\n",
       "      <th></th>\n",
       "      <th></th>\n",
       "    </tr>\n",
       "  </thead>\n",
       "  <tbody>\n",
       "    <tr>\n",
       "      <th>1</th>\n",
       "      <td>10</td>\n",
       "      <td>90</td>\n",
       "      <td>10</td>\n",
       "    </tr>\n",
       "    <tr>\n",
       "      <th>2</th>\n",
       "      <td>11</td>\n",
       "      <td>89</td>\n",
       "      <td>11</td>\n",
       "    </tr>\n",
       "    <tr>\n",
       "      <th>3</th>\n",
       "      <td>12</td>\n",
       "      <td>88</td>\n",
       "      <td>12</td>\n",
       "    </tr>\n",
       "    <tr>\n",
       "      <th>4</th>\n",
       "      <td>13</td>\n",
       "      <td>87</td>\n",
       "      <td>13</td>\n",
       "    </tr>\n",
       "    <tr>\n",
       "      <th>5</th>\n",
       "      <td>14</td>\n",
       "      <td>86</td>\n",
       "      <td>14</td>\n",
       "    </tr>\n",
       "  </tbody>\n",
       "</table>\n",
       "</div>"
      ],
      "text/plain": [
       "Type   공용부  세대부  공용부 연료비조정액\n",
       "Round                      \n",
       "1       10   90          10\n",
       "2       11   89          11\n",
       "3       12   88          12\n",
       "4       13   87          13\n",
       "5       14   86          14"
      ]
     },
     "execution_count": 115,
     "metadata": {},
     "output_type": "execute_result"
    }
   ],
   "source": [
    "pivot_df = df.pivot(index='Round', columns='Type', values='Percentage')\n",
    "pivot_df = pivot_df[[\"공용부\", \"세대부\", \"공용부 연료비조정액\"]].copy()\n",
    "pivot_df.head()"
   ]
  },
  {
   "cell_type": "code",
   "execution_count": 116,
   "id": "a208d187",
   "metadata": {},
   "outputs": [
    {
     "data": {
      "image/png": "[encoded data removed]",
      "text/plain": [
       "<Figure size 1152x576 with 1 Axes>"
      ]
     },
     "metadata": {
      "needs_background": "light"
     },
     "output_type": "display_data"
    }
   ],
   "source": [
    "import matplotlib.pyplot as plt\n",
    "%matplotlib inline\n",
    "\n",
    "# Stacked Bar Chart\n",
    "\n",
    "ax = pivot_df[['공용부', '세대부']].plot.bar(stacked=True, figsize=(16,8), color=[\"b\", \"g\"]).legend(loc='upper right')\n",
    "\n",
    "plt.plot([_ for _ in range(0, 60)],pivot_df['공용부 연료비조정액'], color='r', label='공용부 연료비조정액')\n",
    "plt.legend(reversed(plt.legend().legendHandles), reversed(['공용부 연료비조정액', '공용부', '세대부']), \n",
    "          loc='upper right')\n",
    "\n",
    "plt.show()"
   ]
  },
  {
   "cell_type": "markdown",
   "id": "09520f97",
   "metadata": {},
   "source": [
    "### 수거해 간다라는 의미"
   ]
  },
  {
   "cell_type": "code",
   "execution_count": 10,
   "id": "f007b241",
   "metadata": {},
   "outputs": [
    {
     "name": "stdout",
     "output_type": "stream",
     "text": [
      "APT : 44,434kWh (평균 사용량: 411kWh)\n",
      "\t\t6,439,540원\n",
      "세대부 : 31,104kWh (70%) (평균 사용량: 288kWh)\n",
      "\t\t3,798,980원\n",
      "공용부 : 13,330kWh (30%) (평균 사용량: 123kWh)\n",
      "\t\t2,640,560원\n"
     ]
    },
    {
     "data": {
      "text/html": [
       "<div>\n",
       "<style scoped>\n",
       "    .dataframe tbody tr th:only-of-type {\n",
       "        vertical-align: middle;\n",
       "    }\n",
       "\n",
       "    .dataframe tbody tr th {\n",
       "        vertical-align: top;\n",
       "    }\n",
       "\n",
       "    .dataframe thead th {\n",
       "        text-align: right;\n",
       "    }\n",
       "</style>\n",
       "<table border=\"1\" class=\"dataframe\">\n",
       "  <thead>\n",
       "    <tr style=\"text-align: right;\">\n",
       "      <th></th>\n",
       "      <th>전력량요금</th>\n",
       "    </tr>\n",
       "  </thead>\n",
       "  <tbody>\n",
       "    <tr>\n",
       "      <th>APT</th>\n",
       "      <td>4907088</td>\n",
       "    </tr>\n",
       "    <tr>\n",
       "      <th>세대부</th>\n",
       "      <td>3118820</td>\n",
       "    </tr>\n",
       "    <tr>\n",
       "      <th>공용부</th>\n",
       "      <td>1788268</td>\n",
       "    </tr>\n",
       "    <tr>\n",
       "      <th>세대부 / APT percentage</th>\n",
       "      <td>64</td>\n",
       "    </tr>\n",
       "    <tr>\n",
       "      <th>공용부 / APT percentage</th>\n",
       "      <td>36</td>\n",
       "    </tr>\n",
       "  </tbody>\n",
       "</table>\n",
       "</div>"
      ],
      "text/plain": [
       "                        전력량요금\n",
       "APT                   4907088\n",
       "세대부                   3118820\n",
       "공용부                   1788268\n",
       "세대부 / APT percentage       64\n",
       "공용부 / APT percentage       36"
      ]
     },
     "execution_count": 10,
     "metadata": {},
     "output_type": "execute_result"
    }
   ],
   "source": [
    "crs.utils.print_apt_info(_month, month_df, APT)\n",
    "pd.DataFrame(anal['전력량요금'])"
   ]
  },
  {
   "cell_type": "code",
   "execution_count": 37,
   "id": "d99534ad",
   "metadata": {},
   "outputs": [
    {
     "data": {
      "text/markdown": [
       "**세대부 평균 수거율은 70% 입니다.**"
      ],
      "text/plain": [
       "<IPython.core.display.Markdown object>"
      ]
     },
     "metadata": {},
     "output_type": "display_data"
    },
    {
     "data": {
      "text/html": [
       "<div>\n",
       "<style scoped>\n",
       "    .dataframe tbody tr th:only-of-type {\n",
       "        vertical-align: middle;\n",
       "    }\n",
       "\n",
       "    .dataframe tbody tr th {\n",
       "        vertical-align: top;\n",
       "    }\n",
       "\n",
       "    .dataframe thead th {\n",
       "        text-align: right;\n",
       "    }\n",
       "</style>\n",
       "<table border=\"1\" class=\"dataframe\">\n",
       "  <thead>\n",
       "    <tr style=\"text-align: right;\">\n",
       "      <th></th>\n",
       "      <th>수거율 (%)</th>\n",
       "    </tr>\n",
       "    <tr>\n",
       "      <th>name</th>\n",
       "      <th></th>\n",
       "    </tr>\n",
       "  </thead>\n",
       "  <tbody>\n",
       "    <tr>\n",
       "      <th>아파트1-101-1002</th>\n",
       "      <td>62</td>\n",
       "    </tr>\n",
       "    <tr>\n",
       "      <th>아파트1-101-104</th>\n",
       "      <td>168</td>\n",
       "    </tr>\n",
       "    <tr>\n",
       "      <th>아파트1-101-1102</th>\n",
       "      <td>45</td>\n",
       "    </tr>\n",
       "    <tr>\n",
       "      <th>아파트1-101-1202</th>\n",
       "      <td>58</td>\n",
       "    </tr>\n",
       "    <tr>\n",
       "      <th>아파트1-101-1302</th>\n",
       "      <td>111</td>\n",
       "    </tr>\n",
       "  </tbody>\n",
       "</table>\n",
       "</div>"
      ],
      "text/plain": [
       "               수거율 (%)\n",
       "name                  \n",
       "아파트1-101-1002       62\n",
       "아파트1-101-104       168\n",
       "아파트1-101-1102       45\n",
       "아파트1-101-1202       58\n",
       "아파트1-101-1302      111"
      ]
     },
     "execution_count": 37,
     "metadata": {},
     "output_type": "execute_result"
    }
   ],
   "source": [
    "collect_pd = pd.DataFrame(((month_df['usage (kWh)'] / 411) * 100).round().astype(\"int\"))\n",
    "collect_pd.index = month_df['name']\n",
    "collect_pd.columns = ['수거율 (%)']\n",
    "\n",
    "display(Markdown(\"**세대부 평균 수거율은 {}% 입니다.**\".format(\n",
    "    round(collect_pd['수거율 (%)'].mean())\n",
    ")))\n",
    "collect_pd.head()"
   ]
  },
  {
   "cell_type": "code",
   "execution_count": 12,
   "id": "02bed842",
   "metadata": {},
   "outputs": [
    {
     "name": "stdout",
     "output_type": "stream",
     "text": [
      "APT : 44,434kWh (평균 사용량: 411kWh)\n",
      "\t\t6,439,540원\n",
      "세대부 : 31,104kWh (70%) (평균 사용량: 288kWh)\n",
      "\t\t3,798,980원\n",
      "공용부 : 13,330kWh (30%) (평균 사용량: 123kWh)\n",
      "\t\t2,640,560원\n"
     ]
    },
    {
     "data": {
      "text/markdown": [
       "**(+) 세대부 평균 수거율 : 70%**"
      ],
      "text/plain": [
       "<IPython.core.display.Markdown object>"
      ]
     },
     "metadata": {},
     "output_type": "display_data"
    }
   ],
   "source": [
    "crs.utils.print_apt_info(_month, month_df, APT)\n",
    "display(Markdown(\"**(+) 세대부 평균 수거율 : {}%**\".format(\n",
    "    format(\n",
    "        round((month_df['usage (kWh)'] / 411).mean() * 100),\n",
    "        \",\"\n",
    "    )\n",
    ")))"
   ]
  },
  {
   "cell_type": "code",
   "execution_count": 52,
   "id": "9a75ce8b",
   "metadata": {},
   "outputs": [
    {
     "data": {
      "text/plain": [
       "0      263\n",
       "1      699\n",
       "2      193\n",
       "3      249\n",
       "4      465\n",
       "      ... \n",
       "103    190\n",
       "104    300\n",
       "105    194\n",
       "106    186\n",
       "107    158\n",
       "Name: usage (kWh), Length: 108, dtype: int64"
      ]
     },
     "execution_count": 52,
     "metadata": {},
     "output_type": "execute_result"
    }
   ],
   "source": []
  },
  {
   "cell_type": "code",
   "execution_count": null,
   "id": "4609dd27",
   "metadata": {},
   "outputs": [],
   "source": [
    "month_df['usage (kWh)'] + i"
   ]
  },
  {
   "cell_type": "code",
   "execution_count": 55,
   "id": "8ec3d2dc",
   "metadata": {},
   "outputs": [
    {
     "name": "stderr",
     "output_type": "stream",
     "text": [
      "/var/folders/52/4yvp7r991px0gmq4wyr894j40000gn/T/ipykernel_91789/2547092088.py:29: MatplotlibDeprecationWarning: save() got unexpected keyword argument \"frameon\" which is no longer supported as of 3.3 and will become an error two minor releases later\n",
      "  animation.save(\n"
     ]
    }
   ],
   "source": [
    "# 그림 그릴 공간을 확보한다.\n",
    "fig = plt.figure(figsize=(16,8))\n",
    "\n",
    "# celluloid에서 Camera 인스턴스를 생성하는데, 이는 생성할 때 matplotlib의 figure를 인자로 받는다. 위에서 만든 fig를 넣어준다.\n",
    "camera = Camera(fig)\n",
    "\n",
    "for i in range(0, 100):\n",
    "    _month_sr = month_df['usage (kWh)'] + i\n",
    "    households_kWh = _month_sr.sum()\n",
    "    \n",
    "    APT = round(households_kWh / len(month_df)) + 123\n",
    "\n",
    "    plt.bar(month_df.index, _month_sr, color='g',label=\"가구 별 수거 사용량\")\n",
    "    plt.axhline(APT, label=\"가구 별 수거해야 하는 사용량\", color='r')\n",
    "\n",
    "    plt.axhline(400, label=\"누진 2단계\", color='b')\n",
    "    plt.axhline(200, label=\"누진 1단계\", color='orange')\n",
    "\n",
    "    plt.yticks([200, 400])\n",
    "#     plt.legend(loc='upper right')\n",
    "    \n",
    "    # 이를 카메라로 찍는다.\n",
    "    camera.snap()\n",
    "\n",
    "# for loop이 종료되고나서 camera 인스턴스의 animate함수를 이용해서 이어붙인다음\n",
    "animation = camera.animate(interval=50, blit=True)\n",
    "\n",
    "# .mp4 파일로 저장하면 끝!\n",
    "animation.save(\n",
    "    'swo geo.mp4',\n",
    "    dpi=100,\n",
    "    savefig_kwargs={\n",
    "        'frameon': False,\n",
    "        'pad_inches': 'tight'\n",
    "    }\n",
    ")"
   ]
  },
  {
   "cell_type": "code",
   "execution_count": 68,
   "id": "6a808c03",
   "metadata": {},
   "outputs": [
    {
     "data": {
      "image/png": "[encoded data removed]",
      "text/plain": [
       "<Figure size 1152x576 with 1 Axes>"
      ]
     },
     "metadata": {
      "needs_background": "light"
     },
     "output_type": "display_data"
    }
   ],
   "source": [
    "plt.figure(figsize=(16,8))\n",
    "\n",
    "plt.bar(month_df.index, month_df['usage (kWh)'], color='g',label=\"가구 별 수거 사용량\")\n",
    "plt.axhline(288, label=\"가구 별 수거해야 하는 사용량\", color='r')\n",
    "\n",
    "plt.axhline(400, label=\"누진 2단계\", color='b')\n",
    "plt.axhline(200, label=\"누진 1단계\", color='orange')\n",
    "\n",
    "plt.yticks([200, 400, 288])\n",
    "plt.legend()\n",
    "\n",
    "plt.show()"
   ]
  },
  {
   "cell_type": "code",
   "execution_count": 95,
   "id": "dea01a7b",
   "metadata": {},
   "outputs": [
    {
     "data": {
      "text/html": [
       "<div>\n",
       "<style scoped>\n",
       "    .dataframe tbody tr th:only-of-type {\n",
       "        vertical-align: middle;\n",
       "    }\n",
       "\n",
       "    .dataframe tbody tr th {\n",
       "        vertical-align: top;\n",
       "    }\n",
       "\n",
       "    .dataframe thead th {\n",
       "        text-align: right;\n",
       "    }\n",
       "</style>\n",
       "<table border=\"1\" class=\"dataframe\">\n",
       "  <thead>\n",
       "    <tr style=\"text-align: right;\">\n",
       "      <th></th>\n",
       "      <th>전체 수거 완료 가구 수</th>\n",
       "      <th>수거 미 완료 가구 수</th>\n",
       "      <th>수거되지 못한 사용량</th>\n",
       "    </tr>\n",
       "  </thead>\n",
       "  <tbody>\n",
       "    <tr>\n",
       "      <th>누진 1단계</th>\n",
       "      <td>88</td>\n",
       "      <td>20</td>\n",
       "      <td>1539</td>\n",
       "    </tr>\n",
       "  </tbody>\n",
       "</table>\n",
       "</div>"
      ],
      "text/plain": [
       "        전체 수거 완료 가구 수  수거 미 완료 가구 수  수거되지 못한 사용량\n",
       "누진 1단계             88            20         1539"
      ]
     },
     "execution_count": 95,
     "metadata": {},
     "output_type": "execute_result"
    }
   ],
   "source": [
    "nugin_1 = [len(month_df[month_df['usage (kWh)'] >= 200]),\n",
    "           len(month_df[month_df['usage (kWh)'] < 200])]\n",
    "\n",
    "collect_rate = pd.DataFrame(nugin_1).T\n",
    "collect_rate.columns = ['전체 수거 완료 가구 수', '수거 미 완료 가구 수']\n",
    "collect_rate['수거되지 못한 사용량'] = (collect_rate['수거 미 완료 가구 수'] * 200) - (month_df[month_df['usage (kWh)'] < 200]['usage (kWh)'].sum())\n",
    "collect_rate.index = ['누진 1단계']\n",
    "\n",
    "collect_rate"
   ]
  },
  {
   "cell_type": "code",
   "execution_count": 96,
   "id": "f9cad1e2",
   "metadata": {},
   "outputs": [
    {
     "data": {
      "text/html": [
       "<div>\n",
       "<style scoped>\n",
       "    .dataframe tbody tr th:only-of-type {\n",
       "        vertical-align: middle;\n",
       "    }\n",
       "\n",
       "    .dataframe tbody tr th {\n",
       "        vertical-align: top;\n",
       "    }\n",
       "\n",
       "    .dataframe thead th {\n",
       "        text-align: right;\n",
       "    }\n",
       "</style>\n",
       "<table border=\"1\" class=\"dataframe\">\n",
       "  <thead>\n",
       "    <tr style=\"text-align: right;\">\n",
       "      <th></th>\n",
       "      <th>전체 수거 완료 가구 수</th>\n",
       "      <th>수거 미 완료 가구 수</th>\n",
       "      <th>수거되지 못한 사용량</th>\n",
       "    </tr>\n",
       "  </thead>\n",
       "  <tbody>\n",
       "    <tr>\n",
       "      <th>누진 1단계</th>\n",
       "      <td>88</td>\n",
       "      <td>20</td>\n",
       "      <td>1539</td>\n",
       "    </tr>\n",
       "    <tr>\n",
       "      <th>누진 2단계</th>\n",
       "      <td>52</td>\n",
       "      <td>56</td>\n",
       "      <td>3358</td>\n",
       "    </tr>\n",
       "  </tbody>\n",
       "</table>\n",
       "</div>"
      ],
      "text/plain": [
       "        전체 수거 완료 가구 수  수거 미 완료 가구 수  수거되지 못한 사용량\n",
       "누진 1단계             88            20         1539\n",
       "누진 2단계             52            56         3358"
      ]
     },
     "execution_count": 96,
     "metadata": {},
     "output_type": "execute_result"
    }
   ],
   "source": [
    "_month_df = month_df.copy()\n",
    "_month_df['usage (kWh)'] = month_df['usage (kWh)'].map(lambda x: x - 200 if x > 200 else 0)\n",
    "\n",
    "nugin_2 = pd.Series([len(month_df[month_df['usage (kWh)'] >= 288]),\n",
    "           len(month_df[month_df['usage (kWh)'] < 288])], index=['전체 수거 완료 가구 수', '수거 미 완료 가구 수'],\n",
    "                   name=\"누진 2단계\")\n",
    "nugin_2['수거되지 못한 사용량'] = (nugin_2['수거 미 완료 가구 수'] * 88) - (_month_df[_month_df['usage (kWh)'] < 88]['usage (kWh)'].sum())\n",
    "collect_rate = collect_rate.append(\n",
    "        nugin_2)\n",
    "\n",
    "collect_rate"
   ]
  },
  {
   "cell_type": "code",
   "execution_count": 97,
   "id": "b4332ff1",
   "metadata": {},
   "outputs": [
    {
     "data": {
      "text/html": [
       "<div>\n",
       "<style scoped>\n",
       "    .dataframe tbody tr th:only-of-type {\n",
       "        vertical-align: middle;\n",
       "    }\n",
       "\n",
       "    .dataframe tbody tr th {\n",
       "        vertical-align: top;\n",
       "    }\n",
       "\n",
       "    .dataframe thead th {\n",
       "        text-align: right;\n",
       "    }\n",
       "</style>\n",
       "<table border=\"1\" class=\"dataframe\">\n",
       "  <thead>\n",
       "    <tr style=\"text-align: right;\">\n",
       "      <th></th>\n",
       "      <th>전체 수거 완료 가구 수</th>\n",
       "      <th>수거 미 완료 가구 수</th>\n",
       "      <th>수거되지 못한 사용량</th>\n",
       "    </tr>\n",
       "  </thead>\n",
       "  <tbody>\n",
       "    <tr>\n",
       "      <th>누진 1단계</th>\n",
       "      <td>88</td>\n",
       "      <td>20</td>\n",
       "      <td>1539</td>\n",
       "    </tr>\n",
       "    <tr>\n",
       "      <th>누진 2단계</th>\n",
       "      <td>52</td>\n",
       "      <td>56</td>\n",
       "      <td>3358</td>\n",
       "    </tr>\n",
       "    <tr>\n",
       "      <th>누진 3단계</th>\n",
       "      <td>x</td>\n",
       "      <td>x</td>\n",
       "      <td>x</td>\n",
       "    </tr>\n",
       "  </tbody>\n",
       "</table>\n",
       "</div>"
      ],
      "text/plain": [
       "       전체 수거 완료 가구 수 수거 미 완료 가구 수 수거되지 못한 사용량\n",
       "누진 1단계            88           20        1539\n",
       "누진 2단계            52           56        3358\n",
       "누진 3단계             x            x           x"
      ]
     },
     "execution_count": 97,
     "metadata": {},
     "output_type": "execute_result"
    }
   ],
   "source": [
    "nugin_3 = pd.Series([\"x\", \"x\", \"x\"], name=\"누진 3단계\", index=['전체 수거 완료 가구 수', '수거 미 완료 가구 수','수거되지 못한 사용량'])\n",
    "collect_rate = collect_rate.append(\n",
    "        nugin_3)\n",
    "\n",
    "collect_rate"
   ]
  },
  {
   "cell_type": "code",
   "execution_count": 105,
   "id": "1d09f344",
   "metadata": {},
   "outputs": [
    {
     "data": {
      "text/plain": [
       "5090"
      ]
     },
     "execution_count": 105,
     "metadata": {},
     "output_type": "execute_result"
    }
   ],
   "source": [
    "_month_df[_month_df['usage (kWh)'] >= 88]['usage (kWh)'].map(lambda x: 200 if x > 200 else x - 88).sum()"
   ]
  },
  {
   "cell_type": "code",
   "execution_count": 109,
   "id": "3a1d7556",
   "metadata": {},
   "outputs": [
    {
     "data": {
      "text/plain": [
       "1127"
      ]
     },
     "execution_count": 109,
     "metadata": {},
     "output_type": "execute_result"
    }
   ],
   "source": [
    "_month_df[_month_df['usage (kWh)'] >= 200]['usage (kWh)'].map(lambda x: x - 200).sum()"
   ]
  },
  {
   "cell_type": "code",
   "execution_count": 116,
   "id": "72937a8b",
   "metadata": {},
   "outputs": [
    {
     "data": {
      "text/html": [
       "<div>\n",
       "<style scoped>\n",
       "    .dataframe tbody tr th:only-of-type {\n",
       "        vertical-align: middle;\n",
       "    }\n",
       "\n",
       "    .dataframe tbody tr th {\n",
       "        vertical-align: top;\n",
       "    }\n",
       "\n",
       "    .dataframe thead th {\n",
       "        text-align: right;\n",
       "    }\n",
       "</style>\n",
       "<table border=\"1\" class=\"dataframe\">\n",
       "  <thead>\n",
       "    <tr style=\"text-align: right;\">\n",
       "      <th></th>\n",
       "      <th>전체 수거 완료 가구 수</th>\n",
       "      <th>수거 미 완료 가구 수</th>\n",
       "      <th>수거되지 못한 사용량</th>\n",
       "      <th>더 수거된 사용량</th>\n",
       "    </tr>\n",
       "  </thead>\n",
       "  <tbody>\n",
       "    <tr>\n",
       "      <th>누진 1단계</th>\n",
       "      <td>88</td>\n",
       "      <td>20</td>\n",
       "      <td>1539</td>\n",
       "      <td>x</td>\n",
       "    </tr>\n",
       "    <tr>\n",
       "      <th>누진 2단계</th>\n",
       "      <td>52</td>\n",
       "      <td>56</td>\n",
       "      <td>3358</td>\n",
       "      <td>3770</td>\n",
       "    </tr>\n",
       "    <tr>\n",
       "      <th>누진 3단계</th>\n",
       "      <td>x</td>\n",
       "      <td>x</td>\n",
       "      <td>x</td>\n",
       "      <td>1127</td>\n",
       "    </tr>\n",
       "  </tbody>\n",
       "</table>\n",
       "</div>"
      ],
      "text/plain": [
       "       전체 수거 완료 가구 수 수거 미 완료 가구 수 수거되지 못한 사용량 더 수거된 사용량\n",
       "누진 1단계            88           20        1539         x\n",
       "누진 2단계            52           56        3358      3770\n",
       "누진 3단계             x            x           x      1127"
      ]
     },
     "execution_count": 116,
     "metadata": {},
     "output_type": "execute_result"
    }
   ],
   "source": [
    "_collect_values = [\"x\", _month_df[_month_df['usage (kWh)'] >= 88]['usage (kWh)'].map(lambda x: 200 - 88 if x >= 200 else x - 88).sum(),\n",
    "                  _month_df[_month_df['usage (kWh)'] >= 200]['usage (kWh)'].map(lambda x: x - 200).sum()]\n",
    "collect_rate['더 수거된 사용량'] = _collect_values\n",
    "collect_rate"
   ]
  },
  {
   "cell_type": "code",
   "execution_count": 124,
   "id": "ae18fd78",
   "metadata": {},
   "outputs": [
    {
     "data": {
      "text/plain": [
       "-183165"
      ]
     },
     "execution_count": 124,
     "metadata": {},
     "output_type": "execute_result"
    }
   ],
   "source": [
    "round((73.3 * 1539) + (142.3 * 3358)) - round((142.3 * 3770) + (210.6 * 1127))"
   ]
  },
  {
   "cell_type": "code",
   "execution_count": 123,
   "id": "685e4b7c",
   "metadata": {},
   "outputs": [
    {
     "data": {
      "text/plain": [
       "773817.2"
      ]
     },
     "execution_count": 123,
     "metadata": {},
     "output_type": "execute_result"
    }
   ],
   "source": [
    "round((142.3 * 3770) + (210.6 * 1127))"
   ]
  },
  {
   "cell_type": "code",
   "execution_count": 61,
   "id": "66ee5b14",
   "metadata": {},
   "outputs": [],
   "source": [
    "surplus = pd.DataFrame(month_df['usage (kWh)'])\n",
    "surplus.index = month_df['name']\n",
    "\n",
    "# 1단계 잉여자원\n",
    "surplus['1단계'] = (surplus['usage (kWh)'] - 200).map(lambda x:\n",
    "                                                0 if x >= 0 else x * -1)"
   ]
  },
  {
   "cell_type": "code",
   "execution_count": 62,
   "id": "ef60cae9",
   "metadata": {},
   "outputs": [
    {
     "data": {
      "text/html": [
       "<div>\n",
       "<style scoped>\n",
       "    .dataframe tbody tr th:only-of-type {\n",
       "        vertical-align: middle;\n",
       "    }\n",
       "\n",
       "    .dataframe tbody tr th {\n",
       "        vertical-align: top;\n",
       "    }\n",
       "\n",
       "    .dataframe thead th {\n",
       "        text-align: right;\n",
       "    }\n",
       "</style>\n",
       "<table border=\"1\" class=\"dataframe\">\n",
       "  <thead>\n",
       "    <tr style=\"text-align: right;\">\n",
       "      <th></th>\n",
       "      <th>전체 수거 완료 가구 수</th>\n",
       "      <th>수거 미 완료 가구 수</th>\n",
       "      <th>수거되지 못한 사용량</th>\n",
       "    </tr>\n",
       "  </thead>\n",
       "  <tbody>\n",
       "    <tr>\n",
       "      <th>누진 1단계</th>\n",
       "      <td>88</td>\n",
       "      <td>20</td>\n",
       "      <td>1539</td>\n",
       "    </tr>\n",
       "  </tbody>\n",
       "</table>\n",
       "</div>"
      ],
      "text/plain": [
       "        전체 수거 완료 가구 수  수거 미 완료 가구 수  수거되지 못한 사용량\n",
       "누진 1단계             88            20         1539"
      ]
     },
     "execution_count": 62,
     "metadata": {},
     "output_type": "execute_result"
    }
   ],
   "source": [
    "nugin_1 = [len(month_df[month_df['usage (kWh)'] >= 200]),\n",
    "           len(month_df[month_df['usage (kWh)'] < 200])]\n",
    "\n",
    "collect_rate = pd.DataFrame(nugin_1).T\n",
    "collect_rate.columns = ['전체 수거 완료 가구 수', '수거 미 완료 가구 수']\n",
    "collect_rate['수거되지 못한 사용량'] = (collect_rate['수거 미 완료 가구 수'] * 200) - (month_df[month_df['usage (kWh)'] < 200]['usage (kWh)'].sum())\n",
    "collect_rate.index = ['누진 1단계']\n",
    "\n",
    "collect_rate"
   ]
  },
  {
   "cell_type": "code",
   "execution_count": 60,
   "id": "86667fd1",
   "metadata": {},
   "outputs": [
    {
     "data": {
      "text/html": [
       "<div>\n",
       "<style scoped>\n",
       "    .dataframe tbody tr th:only-of-type {\n",
       "        vertical-align: middle;\n",
       "    }\n",
       "\n",
       "    .dataframe tbody tr th {\n",
       "        vertical-align: top;\n",
       "    }\n",
       "\n",
       "    .dataframe thead th {\n",
       "        text-align: right;\n",
       "    }\n",
       "</style>\n",
       "<table border=\"1\" class=\"dataframe\">\n",
       "  <thead>\n",
       "    <tr style=\"text-align: right;\">\n",
       "      <th></th>\n",
       "      <th>전체 수거 완료 가구 수</th>\n",
       "      <th>수거 미 완료 가구 수</th>\n",
       "      <th>수거되지 못한 사용량</th>\n",
       "    </tr>\n",
       "  </thead>\n",
       "  <tbody>\n",
       "    <tr>\n",
       "      <th>누진 1단계</th>\n",
       "      <td>88</td>\n",
       "      <td>20</td>\n",
       "      <td>1539</td>\n",
       "    </tr>\n",
       "    <tr>\n",
       "      <th>누진 2단계</th>\n",
       "      <td>15</td>\n",
       "      <td>93</td>\n",
       "      <td>11684</td>\n",
       "    </tr>\n",
       "  </tbody>\n",
       "</table>\n",
       "</div>"
      ],
      "text/plain": [
       "        전체 수거 완료 가구 수  수거 미 완료 가구 수  수거되지 못한 사용량\n",
       "누진 1단계             88            20         1539\n",
       "누진 2단계             15            93        11684"
      ]
     },
     "execution_count": 60,
     "metadata": {},
     "output_type": "execute_result"
    }
   ],
   "source": [
    "_month_df = month_df.copy()\n",
    "_month_df['usage (kWh)'] = month_df['usage (kWh)'].map(lambda x: x - 200 if x > 200 else 0)\n",
    "\n",
    "nugin_2 = pd.Series([len(month_df[month_df['usage (kWh)'] >= 400]),\n",
    "           len(month_df[month_df['usage (kWh)'] < 400])], index=['전체 수거 완료 가구 수', '수거 미 완료 가구 수'],\n",
    "                   name=\"누진 2단계\")\n",
    "nugin_2['수거되지 못한 사용량'] = (nugin_2['수거 미 완료 가구 수'] * 200) - (_month_df[_month_df['usage (kWh)'] < 200]['usage (kWh)'].sum())\n",
    "collect_rate = collect_rate.append(\n",
    "        nugin_2)\n",
    "\n",
    "collect_rate"
   ]
  },
  {
   "cell_type": "code",
   "execution_count": 142,
   "id": "84cc0412",
   "metadata": {},
   "outputs": [
    {
     "data": {
      "text/html": [
       "<div>\n",
       "<style scoped>\n",
       "    .dataframe tbody tr th:only-of-type {\n",
       "        vertical-align: middle;\n",
       "    }\n",
       "\n",
       "    .dataframe tbody tr th {\n",
       "        vertical-align: top;\n",
       "    }\n",
       "\n",
       "    .dataframe thead th {\n",
       "        text-align: right;\n",
       "    }\n",
       "</style>\n",
       "<table border=\"1\" class=\"dataframe\">\n",
       "  <thead>\n",
       "    <tr style=\"text-align: right;\">\n",
       "      <th></th>\n",
       "      <th>전체 수거 완료 가구 수</th>\n",
       "      <th>수거 미 완료 가구 수</th>\n",
       "      <th>수거되지 못한 사용량</th>\n",
       "    </tr>\n",
       "  </thead>\n",
       "  <tbody>\n",
       "    <tr>\n",
       "      <th>누진 1단계</th>\n",
       "      <td>88</td>\n",
       "      <td>20</td>\n",
       "      <td>1539</td>\n",
       "    </tr>\n",
       "    <tr>\n",
       "      <th>누진 2단계</th>\n",
       "      <td>15</td>\n",
       "      <td>93</td>\n",
       "      <td>11684</td>\n",
       "    </tr>\n",
       "    <tr>\n",
       "      <th>누진 3단계</th>\n",
       "      <td>13</td>\n",
       "      <td>95</td>\n",
       "      <td>1034</td>\n",
       "    </tr>\n",
       "  </tbody>\n",
       "</table>\n",
       "</div>"
      ],
      "text/plain": [
       "        전체 수거 완료 가구 수  수거 미 완료 가구 수  수거되지 못한 사용량\n",
       "누진 1단계             88            20         1539\n",
       "누진 2단계             15            93        11684\n",
       "누진 3단계             13            95         1034"
      ]
     },
     "execution_count": 142,
     "metadata": {},
     "output_type": "execute_result"
    }
   ],
   "source": [
    "_month_df['usage (kWh)'] = _month_df['usage (kWh)'].map(lambda x: x - 200 if x > 200 else 0)\n",
    "nugin_3 = pd.Series([len(month_df[month_df['usage (kWh)'] >= 411]),\n",
    "           len(month_df[month_df['usage (kWh)'] < 411])], index=['전체 수거 완료 가구 수', '수거 미 완료 가구 수'],\n",
    "                   name=\"누진 3단계\")\n",
    "nugin_3['수거되지 못한 사용량'] = (nugin_3['수거 미 완료 가구 수'] * 11) - (_month_df[_month_df['usage (kWh)'] < 11]['usage (kWh)'].sum())\n",
    "collect_rate = collect_rate.append(\n",
    "        nugin_3)\n",
    "\n",
    "collect_rate"
   ]
  },
  {
   "cell_type": "code",
   "execution_count": 149,
   "id": "5efe1794",
   "metadata": {},
   "outputs": [
    {
     "data": {
      "text/plain": [
       "[88, 20]"
      ]
     },
     "execution_count": 149,
     "metadata": {},
     "output_type": "execute_result"
    }
   ],
   "source": []
  },
  {
   "cell_type": "code",
   "execution_count": 154,
   "id": "7525fb8f",
   "metadata": {},
   "outputs": [
    {
     "data": {
      "text/html": [
       "<div>\n",
       "<style scoped>\n",
       "    .dataframe tbody tr th:only-of-type {\n",
       "        vertical-align: middle;\n",
       "    }\n",
       "\n",
       "    .dataframe tbody tr th {\n",
       "        vertical-align: top;\n",
       "    }\n",
       "\n",
       "    .dataframe thead th {\n",
       "        text-align: right;\n",
       "    }\n",
       "</style>\n",
       "<table border=\"1\" class=\"dataframe\">\n",
       "  <thead>\n",
       "    <tr style=\"text-align: right;\">\n",
       "      <th></th>\n",
       "      <th>전체 수거 완료 가구 수</th>\n",
       "      <th>수거 미 완료 가구 수</th>\n",
       "      <th>수거되지 못한 사용량</th>\n",
       "      <th>최종 잉여 사용량</th>\n",
       "    </tr>\n",
       "  </thead>\n",
       "  <tbody>\n",
       "    <tr>\n",
       "      <th>누진 1단계</th>\n",
       "      <td>88</td>\n",
       "      <td>20</td>\n",
       "      <td>1539</td>\n",
       "      <td>1539</td>\n",
       "    </tr>\n",
       "    <tr>\n",
       "      <th>누진 2단계</th>\n",
       "      <td>15</td>\n",
       "      <td>93</td>\n",
       "      <td>11684</td>\n",
       "      <td>11684</td>\n",
       "    </tr>\n",
       "    <tr>\n",
       "      <th>누진 3단계</th>\n",
       "      <td>13</td>\n",
       "      <td>95</td>\n",
       "      <td>1034</td>\n",
       "      <td>61</td>\n",
       "    </tr>\n",
       "  </tbody>\n",
       "</table>\n",
       "</div>"
      ],
      "text/plain": [
       "        전체 수거 완료 가구 수  수거 미 완료 가구 수  수거되지 못한 사용량  최종 잉여 사용량\n",
       "누진 1단계             88            20         1539       1539\n",
       "누진 2단계             15            93        11684      11684\n",
       "누진 3단계             13            95         1034         61"
      ]
     },
     "execution_count": 154,
     "metadata": {},
     "output_type": "execute_result"
    }
   ],
   "source": [
    "last_nugin = pd.Series([\n",
    "    collect_rate.loc['누진 1단계']['수거되지 못한 사용량'],\n",
    "    collect_rate.loc['누진 2단계']['수거되지 못한 사용량'],\n",
    "    collect_rate['수거되지 못한 사용량']['누진 3단계'] - (month_df[month_df['usage (kWh)'] > 411]['usage (kWh)'] - 411).sum()\n",
    "])\n",
    "\n",
    "collect_rate['최종 잉여 사용량'] = last_nugin.values.astype(\"int\")\n",
    "collect_rate"
   ]
  },
  {
   "cell_type": "code",
   "execution_count": 147,
   "id": "48cf5a34",
   "metadata": {},
   "outputs": [
    {
     "data": {
      "text/plain": [
       "973"
      ]
     },
     "execution_count": 147,
     "metadata": {},
     "output_type": "execute_result"
    }
   ],
   "source": []
  },
  {
   "cell_type": "code",
   "execution_count": 125,
   "id": "b654c99e",
   "metadata": {},
   "outputs": [],
   "source": [
    "_month_df['usage (kWh)'] = month_df['usage (kWh)'].map(lambda x: x - 200 if x > 200 else 0).map(\n",
    "    lambda x: 11 - x if x > 11 else x\n",
    ")\n",
    "                                                      x - 200 if x > 200 else 0\n",
    "                                                      )"
   ]
  },
  {
   "cell_type": "code",
   "execution_count": 137,
   "id": "34813750",
   "metadata": {},
   "outputs": [],
   "source": []
  },
  {
   "cell_type": "code",
   "execution_count": 138,
   "id": "1486c567",
   "metadata": {},
   "outputs": [
    {
     "data": {
      "text/html": [
       "<div>\n",
       "<style scoped>\n",
       "    .dataframe tbody tr th:only-of-type {\n",
       "        vertical-align: middle;\n",
       "    }\n",
       "\n",
       "    .dataframe tbody tr th {\n",
       "        vertical-align: top;\n",
       "    }\n",
       "\n",
       "    .dataframe thead th {\n",
       "        text-align: right;\n",
       "    }\n",
       "</style>\n",
       "<table border=\"1\" class=\"dataframe\">\n",
       "  <thead>\n",
       "    <tr style=\"text-align: right;\">\n",
       "      <th></th>\n",
       "      <th>name</th>\n",
       "      <th>usage (kWh)</th>\n",
       "    </tr>\n",
       "  </thead>\n",
       "  <tbody>\n",
       "    <tr>\n",
       "      <th>0</th>\n",
       "      <td>아파트1-101-1002</td>\n",
       "      <td>0</td>\n",
       "    </tr>\n",
       "    <tr>\n",
       "      <th>1</th>\n",
       "      <td>아파트1-101-104</td>\n",
       "      <td>289</td>\n",
       "    </tr>\n",
       "    <tr>\n",
       "      <th>2</th>\n",
       "      <td>아파트1-101-1102</td>\n",
       "      <td>0</td>\n",
       "    </tr>\n",
       "    <tr>\n",
       "      <th>3</th>\n",
       "      <td>아파트1-101-1202</td>\n",
       "      <td>0</td>\n",
       "    </tr>\n",
       "    <tr>\n",
       "      <th>4</th>\n",
       "      <td>아파트1-101-1302</td>\n",
       "      <td>55</td>\n",
       "    </tr>\n",
       "    <tr>\n",
       "      <th>...</th>\n",
       "      <td>...</td>\n",
       "      <td>...</td>\n",
       "    </tr>\n",
       "    <tr>\n",
       "      <th>103</th>\n",
       "      <td>아파트1-104-606</td>\n",
       "      <td>0</td>\n",
       "    </tr>\n",
       "    <tr>\n",
       "      <th>104</th>\n",
       "      <td>아파트1-104-705</td>\n",
       "      <td>0</td>\n",
       "    </tr>\n",
       "    <tr>\n",
       "      <th>105</th>\n",
       "      <td>아파트1-104-708</td>\n",
       "      <td>0</td>\n",
       "    </tr>\n",
       "    <tr>\n",
       "      <th>106</th>\n",
       "      <td>아파트1-104-902</td>\n",
       "      <td>0</td>\n",
       "    </tr>\n",
       "    <tr>\n",
       "      <th>107</th>\n",
       "      <td>아파트1-104-905</td>\n",
       "      <td>0</td>\n",
       "    </tr>\n",
       "  </tbody>\n",
       "</table>\n",
       "<p>108 rows × 2 columns</p>\n",
       "</div>"
      ],
      "text/plain": [
       "              name  usage (kWh)\n",
       "0    아파트1-101-1002            0\n",
       "1     아파트1-101-104          289\n",
       "2    아파트1-101-1102            0\n",
       "3    아파트1-101-1202            0\n",
       "4    아파트1-101-1302           55\n",
       "..             ...          ...\n",
       "103   아파트1-104-606            0\n",
       "104   아파트1-104-705            0\n",
       "105   아파트1-104-708            0\n",
       "106   아파트1-104-902            0\n",
       "107   아파트1-104-905            0\n",
       "\n",
       "[108 rows x 2 columns]"
      ]
     },
     "execution_count": 138,
     "metadata": {},
     "output_type": "execute_result"
    }
   ],
   "source": [
    "_month_df"
   ]
  },
  {
   "cell_type": "code",
   "execution_count": 134,
   "id": "a81eb1a2",
   "metadata": {},
   "outputs": [
    {
     "data": {
      "text/html": [
       "<div>\n",
       "<style scoped>\n",
       "    .dataframe tbody tr th:only-of-type {\n",
       "        vertical-align: middle;\n",
       "    }\n",
       "\n",
       "    .dataframe tbody tr th {\n",
       "        vertical-align: top;\n",
       "    }\n",
       "\n",
       "    .dataframe thead th {\n",
       "        text-align: right;\n",
       "    }\n",
       "</style>\n",
       "<table border=\"1\" class=\"dataframe\">\n",
       "  <thead>\n",
       "    <tr style=\"text-align: right;\">\n",
       "      <th></th>\n",
       "      <th>name</th>\n",
       "      <th>usage (kWh)</th>\n",
       "    </tr>\n",
       "  </thead>\n",
       "  <tbody>\n",
       "    <tr>\n",
       "      <th>0</th>\n",
       "      <td>아파트1-101-1002</td>\n",
       "      <td>253</td>\n",
       "    </tr>\n",
       "    <tr>\n",
       "      <th>1</th>\n",
       "      <td>아파트1-101-104</td>\n",
       "      <td>689</td>\n",
       "    </tr>\n",
       "    <tr>\n",
       "      <th>2</th>\n",
       "      <td>아파트1-101-1102</td>\n",
       "      <td>183</td>\n",
       "    </tr>\n",
       "    <tr>\n",
       "      <th>3</th>\n",
       "      <td>아파트1-101-1202</td>\n",
       "      <td>239</td>\n",
       "    </tr>\n",
       "    <tr>\n",
       "      <th>4</th>\n",
       "      <td>아파트1-101-1302</td>\n",
       "      <td>455</td>\n",
       "    </tr>\n",
       "    <tr>\n",
       "      <th>...</th>\n",
       "      <td>...</td>\n",
       "      <td>...</td>\n",
       "    </tr>\n",
       "    <tr>\n",
       "      <th>103</th>\n",
       "      <td>아파트1-104-606</td>\n",
       "      <td>180</td>\n",
       "    </tr>\n",
       "    <tr>\n",
       "      <th>104</th>\n",
       "      <td>아파트1-104-705</td>\n",
       "      <td>290</td>\n",
       "    </tr>\n",
       "    <tr>\n",
       "      <th>105</th>\n",
       "      <td>아파트1-104-708</td>\n",
       "      <td>184</td>\n",
       "    </tr>\n",
       "    <tr>\n",
       "      <th>106</th>\n",
       "      <td>아파트1-104-902</td>\n",
       "      <td>176</td>\n",
       "    </tr>\n",
       "    <tr>\n",
       "      <th>107</th>\n",
       "      <td>아파트1-104-905</td>\n",
       "      <td>148</td>\n",
       "    </tr>\n",
       "  </tbody>\n",
       "</table>\n",
       "<p>108 rows × 2 columns</p>\n",
       "</div>"
      ],
      "text/plain": [
       "              name  usage (kWh)\n",
       "0    아파트1-101-1002          253\n",
       "1     아파트1-101-104          689\n",
       "2    아파트1-101-1102          183\n",
       "3    아파트1-101-1202          239\n",
       "4    아파트1-101-1302          455\n",
       "..             ...          ...\n",
       "103   아파트1-104-606          180\n",
       "104   아파트1-104-705          290\n",
       "105   아파트1-104-708          184\n",
       "106   아파트1-104-902          176\n",
       "107   아파트1-104-905          148\n",
       "\n",
       "[108 rows x 2 columns]"
      ]
     },
     "execution_count": 134,
     "metadata": {},
     "output_type": "execute_result"
    }
   ],
   "source": [
    "month_df"
   ]
  },
  {
   "cell_type": "code",
   "execution_count": null,
   "id": "59bd0d4d",
   "metadata": {},
   "outputs": [],
   "source": []
  }
 ],
 "metadata": {
  "kernelspec": {
   "display_name": "Python 3 (ipykernel)",
   "language": "python",
   "name": "python3"
  },
  "language_info": {
   "codemirror_mode": {
    "name": "ipython",
    "version": 3
   },
   "file_extension": ".py",
   "mimetype": "text/x-python",
   "name": "python",
   "nbconvert_exporter": "python",
   "pygments_lexer": "ipython3",
   "version": "3.8.12"
  }
 },
 "nbformat": 4,
 "nbformat_minor": 5
}
